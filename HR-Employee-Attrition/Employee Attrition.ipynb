{
 "cells": [
  {
   "cell_type": "markdown",
   "metadata": {},
   "source": [
    "## 1. Problem Statement"
   ]
  },
  {
   "cell_type": "markdown",
   "metadata": {},
   "source": [
    "   ##### . The historical data of a company such as Age, Business Travel, Education, Job Role, Distance from office and all other factors affecting attrition of employees. \n",
    "\n",
    "   ##### . The goal is to predict attrition of an employee using classification models i.e. LogisticRegression, DecisionTreeClassifier and RandomForestClassifier."
   ]
  },
  {
   "cell_type": "markdown",
   "metadata": {},
   "source": [
    "###  2. Importing Libraries"
   ]
  },
  {
   "cell_type": "code",
   "execution_count": 1,
   "metadata": {},
   "outputs": [],
   "source": [
    "import pandas as pd\n",
    "import seaborn as sns\n",
    "import numpy as np\n",
    "import matplotlib.pyplot as plt\n",
    "\n",
    "from sklearn import metrics \n",
    "from sklearn.metrics import confusion_matrix\n",
    "from pandas_profiling import ProfileReport\n",
    "from collections import Counter\n",
    "\n",
    "# allow plots to appear directly in the notebook\n",
    "%matplotlib inline\n",
    "\n",
    "import warnings\n",
    "warnings.filterwarnings('ignore')                   # To suppress all the warnings in the notebook.\n",
    "\n",
    "pd.set_option('display.max_columns', 200)\n",
    "pd.set_option('display.max_rows', 200)"
   ]
  },
  {
   "cell_type": "markdown",
   "metadata": {},
   "source": [
    "### 3. Loading Data"
   ]
  },
  {
   "cell_type": "code",
   "execution_count": 104,
   "metadata": {},
   "outputs": [
    {
     "data": {
      "text/html": [
       "<div>\n",
       "<style scoped>\n",
       "    .dataframe tbody tr th:only-of-type {\n",
       "        vertical-align: middle;\n",
       "    }\n",
       "\n",
       "    .dataframe tbody tr th {\n",
       "        vertical-align: top;\n",
       "    }\n",
       "\n",
       "    .dataframe thead th {\n",
       "        text-align: right;\n",
       "    }\n",
       "</style>\n",
       "<table border=\"1\" class=\"dataframe\">\n",
       "  <thead>\n",
       "    <tr style=\"text-align: right;\">\n",
       "      <th></th>\n",
       "      <th>Age</th>\n",
       "      <th>Attrition</th>\n",
       "      <th>BusinessTravel</th>\n",
       "      <th>DailyRate</th>\n",
       "      <th>Department</th>\n",
       "      <th>DistanceFromHome</th>\n",
       "      <th>Education</th>\n",
       "      <th>EducationField</th>\n",
       "      <th>EmployeeCount</th>\n",
       "      <th>EmployeeNumber</th>\n",
       "      <th>Application ID</th>\n",
       "      <th>EnvironmentSatisfaction</th>\n",
       "      <th>Gender</th>\n",
       "      <th>HourlyRate</th>\n",
       "      <th>JobInvolvement</th>\n",
       "      <th>JobLevel</th>\n",
       "      <th>JobRole</th>\n",
       "      <th>JobSatisfaction</th>\n",
       "      <th>MaritalStatus</th>\n",
       "      <th>MonthlyIncome</th>\n",
       "      <th>MonthlyRate</th>\n",
       "      <th>NumCompaniesWorked</th>\n",
       "      <th>Over18</th>\n",
       "      <th>OverTime</th>\n",
       "      <th>PercentSalaryHike</th>\n",
       "      <th>PerformanceRating</th>\n",
       "      <th>RelationshipSatisfaction</th>\n",
       "      <th>StandardHours</th>\n",
       "      <th>StockOptionLevel</th>\n",
       "      <th>TotalWorkingYears</th>\n",
       "      <th>TrainingTimesLastYear</th>\n",
       "      <th>WorkLifeBalance</th>\n",
       "      <th>YearsAtCompany</th>\n",
       "      <th>YearsInCurrentRole</th>\n",
       "      <th>YearsSinceLastPromotion</th>\n",
       "      <th>YearsWithCurrManager</th>\n",
       "      <th>Employee Source</th>\n",
       "    </tr>\n",
       "  </thead>\n",
       "  <tbody>\n",
       "    <tr>\n",
       "      <th>0</th>\n",
       "      <td>41.0</td>\n",
       "      <td>Voluntary Resignation</td>\n",
       "      <td>Travel_Rarely</td>\n",
       "      <td>1102.0</td>\n",
       "      <td>Sales</td>\n",
       "      <td>1</td>\n",
       "      <td>2.0</td>\n",
       "      <td>Life Sciences</td>\n",
       "      <td>1</td>\n",
       "      <td>1</td>\n",
       "      <td>123456</td>\n",
       "      <td>2.0</td>\n",
       "      <td>Female</td>\n",
       "      <td>94</td>\n",
       "      <td>3.0</td>\n",
       "      <td>2.0</td>\n",
       "      <td>Sales Executive</td>\n",
       "      <td>4</td>\n",
       "      <td>Single</td>\n",
       "      <td>5993</td>\n",
       "      <td>19479.0</td>\n",
       "      <td>8.0</td>\n",
       "      <td>Y</td>\n",
       "      <td>Yes</td>\n",
       "      <td>11</td>\n",
       "      <td>3.0</td>\n",
       "      <td>1.0</td>\n",
       "      <td>80.0</td>\n",
       "      <td>0.0</td>\n",
       "      <td>8.0</td>\n",
       "      <td>0.0</td>\n",
       "      <td>1.0</td>\n",
       "      <td>6.0</td>\n",
       "      <td>4.0</td>\n",
       "      <td>0.0</td>\n",
       "      <td>5.0</td>\n",
       "      <td>Referral</td>\n",
       "    </tr>\n",
       "    <tr>\n",
       "      <th>1</th>\n",
       "      <td>41.0</td>\n",
       "      <td>Voluntary Resignation</td>\n",
       "      <td>Travel_Rarely</td>\n",
       "      <td>1102.0</td>\n",
       "      <td>Sales</td>\n",
       "      <td>1</td>\n",
       "      <td>2.0</td>\n",
       "      <td>Life Sciences</td>\n",
       "      <td>1</td>\n",
       "      <td>1</td>\n",
       "      <td>123458</td>\n",
       "      <td>2.0</td>\n",
       "      <td>Female</td>\n",
       "      <td>94</td>\n",
       "      <td>3.0</td>\n",
       "      <td>2.0</td>\n",
       "      <td>Sales Executive</td>\n",
       "      <td>4</td>\n",
       "      <td>Single</td>\n",
       "      <td>5993</td>\n",
       "      <td>19479.0</td>\n",
       "      <td>4.0</td>\n",
       "      <td>Y</td>\n",
       "      <td>Yes</td>\n",
       "      <td>11</td>\n",
       "      <td>3.0</td>\n",
       "      <td>1.0</td>\n",
       "      <td>80.0</td>\n",
       "      <td>0.0</td>\n",
       "      <td>8.0</td>\n",
       "      <td>0.0</td>\n",
       "      <td>1.0</td>\n",
       "      <td>6.0</td>\n",
       "      <td>4.0</td>\n",
       "      <td>0.0</td>\n",
       "      <td>5.0</td>\n",
       "      <td>Referral</td>\n",
       "    </tr>\n",
       "    <tr>\n",
       "      <th>2</th>\n",
       "      <td>41.0</td>\n",
       "      <td>Voluntary Resignation</td>\n",
       "      <td>Travel_Rarely</td>\n",
       "      <td>1102.0</td>\n",
       "      <td>Sales</td>\n",
       "      <td>1</td>\n",
       "      <td>2.0</td>\n",
       "      <td>Life Sciences</td>\n",
       "      <td>1</td>\n",
       "      <td>7</td>\n",
       "      <td>123462</td>\n",
       "      <td>2.0</td>\n",
       "      <td>Female</td>\n",
       "      <td>94</td>\n",
       "      <td>3.0</td>\n",
       "      <td>2.0</td>\n",
       "      <td>Sales Executive</td>\n",
       "      <td>4</td>\n",
       "      <td>Single</td>\n",
       "      <td>5993</td>\n",
       "      <td>19479.0</td>\n",
       "      <td>8.0</td>\n",
       "      <td>Y</td>\n",
       "      <td>Yes</td>\n",
       "      <td>11</td>\n",
       "      <td>3.0</td>\n",
       "      <td>1.0</td>\n",
       "      <td>80.0</td>\n",
       "      <td>0.0</td>\n",
       "      <td>8.0</td>\n",
       "      <td>0.0</td>\n",
       "      <td>1.0</td>\n",
       "      <td>6.0</td>\n",
       "      <td>4.0</td>\n",
       "      <td>0.0</td>\n",
       "      <td>5.0</td>\n",
       "      <td>Referral</td>\n",
       "    </tr>\n",
       "    <tr>\n",
       "      <th>3</th>\n",
       "      <td>41.0</td>\n",
       "      <td>Voluntary Resignation</td>\n",
       "      <td>Travel_Rarely</td>\n",
       "      <td>1102.0</td>\n",
       "      <td>Sales</td>\n",
       "      <td>1</td>\n",
       "      <td>2.0</td>\n",
       "      <td>Life Sciences</td>\n",
       "      <td>1</td>\n",
       "      <td>8</td>\n",
       "      <td>123463</td>\n",
       "      <td>2.0</td>\n",
       "      <td>Female</td>\n",
       "      <td>94</td>\n",
       "      <td>3.0</td>\n",
       "      <td>2.0</td>\n",
       "      <td>Sales Executive</td>\n",
       "      <td>4</td>\n",
       "      <td>Single</td>\n",
       "      <td>5993</td>\n",
       "      <td>19479.0</td>\n",
       "      <td>4.0</td>\n",
       "      <td>Y</td>\n",
       "      <td>Yes</td>\n",
       "      <td>11</td>\n",
       "      <td>3.0</td>\n",
       "      <td>1.0</td>\n",
       "      <td>80.0</td>\n",
       "      <td>0.0</td>\n",
       "      <td>8.0</td>\n",
       "      <td>0.0</td>\n",
       "      <td>1.0</td>\n",
       "      <td>6.0</td>\n",
       "      <td>4.0</td>\n",
       "      <td>0.0</td>\n",
       "      <td>5.0</td>\n",
       "      <td>Referral</td>\n",
       "    </tr>\n",
       "    <tr>\n",
       "      <th>4</th>\n",
       "      <td>41.0</td>\n",
       "      <td>Voluntary Resignation</td>\n",
       "      <td>Travel_Rarely</td>\n",
       "      <td>1102.0</td>\n",
       "      <td>Sales</td>\n",
       "      <td>1</td>\n",
       "      <td>2.0</td>\n",
       "      <td>Life Sciences</td>\n",
       "      <td>1</td>\n",
       "      <td>9</td>\n",
       "      <td>123464</td>\n",
       "      <td>2.0</td>\n",
       "      <td>Female</td>\n",
       "      <td>94</td>\n",
       "      <td>3.0</td>\n",
       "      <td>2.0</td>\n",
       "      <td>Sales Executive</td>\n",
       "      <td>4</td>\n",
       "      <td>Single</td>\n",
       "      <td>5993</td>\n",
       "      <td>19479.0</td>\n",
       "      <td>8.0</td>\n",
       "      <td>Y</td>\n",
       "      <td>Yes</td>\n",
       "      <td>11</td>\n",
       "      <td>3.0</td>\n",
       "      <td>1.0</td>\n",
       "      <td>80.0</td>\n",
       "      <td>0.0</td>\n",
       "      <td>8.0</td>\n",
       "      <td>0.0</td>\n",
       "      <td>1.0</td>\n",
       "      <td>6.0</td>\n",
       "      <td>4.0</td>\n",
       "      <td>0.0</td>\n",
       "      <td>5.0</td>\n",
       "      <td>Referral</td>\n",
       "    </tr>\n",
       "  </tbody>\n",
       "</table>\n",
       "</div>"
      ],
      "text/plain": [
       "    Age              Attrition BusinessTravel  DailyRate Department  \\\n",
       "0  41.0  Voluntary Resignation  Travel_Rarely     1102.0      Sales   \n",
       "1  41.0  Voluntary Resignation  Travel_Rarely     1102.0      Sales   \n",
       "2  41.0  Voluntary Resignation  Travel_Rarely     1102.0      Sales   \n",
       "3  41.0  Voluntary Resignation  Travel_Rarely     1102.0      Sales   \n",
       "4  41.0  Voluntary Resignation  Travel_Rarely     1102.0      Sales   \n",
       "\n",
       "  DistanceFromHome  Education EducationField EmployeeCount EmployeeNumber  \\\n",
       "0                1        2.0  Life Sciences             1              1   \n",
       "1                1        2.0  Life Sciences             1              1   \n",
       "2                1        2.0  Life Sciences             1              7   \n",
       "3                1        2.0  Life Sciences             1              8   \n",
       "4                1        2.0  Life Sciences             1              9   \n",
       "\n",
       "  Application ID  EnvironmentSatisfaction  Gender HourlyRate  JobInvolvement  \\\n",
       "0         123456                      2.0  Female         94             3.0   \n",
       "1         123458                      2.0  Female         94             3.0   \n",
       "2         123462                      2.0  Female         94             3.0   \n",
       "3         123463                      2.0  Female         94             3.0   \n",
       "4         123464                      2.0  Female         94             3.0   \n",
       "\n",
       "   JobLevel          JobRole JobSatisfaction MaritalStatus MonthlyIncome  \\\n",
       "0       2.0  Sales Executive               4        Single          5993   \n",
       "1       2.0  Sales Executive               4        Single          5993   \n",
       "2       2.0  Sales Executive               4        Single          5993   \n",
       "3       2.0  Sales Executive               4        Single          5993   \n",
       "4       2.0  Sales Executive               4        Single          5993   \n",
       "\n",
       "   MonthlyRate  NumCompaniesWorked Over18 OverTime PercentSalaryHike  \\\n",
       "0      19479.0                 8.0      Y      Yes                11   \n",
       "1      19479.0                 4.0      Y      Yes                11   \n",
       "2      19479.0                 8.0      Y      Yes                11   \n",
       "3      19479.0                 4.0      Y      Yes                11   \n",
       "4      19479.0                 8.0      Y      Yes                11   \n",
       "\n",
       "   PerformanceRating  RelationshipSatisfaction  StandardHours  \\\n",
       "0                3.0                       1.0           80.0   \n",
       "1                3.0                       1.0           80.0   \n",
       "2                3.0                       1.0           80.0   \n",
       "3                3.0                       1.0           80.0   \n",
       "4                3.0                       1.0           80.0   \n",
       "\n",
       "   StockOptionLevel  TotalWorkingYears  TrainingTimesLastYear  \\\n",
       "0               0.0                8.0                    0.0   \n",
       "1               0.0                8.0                    0.0   \n",
       "2               0.0                8.0                    0.0   \n",
       "3               0.0                8.0                    0.0   \n",
       "4               0.0                8.0                    0.0   \n",
       "\n",
       "   WorkLifeBalance  YearsAtCompany  YearsInCurrentRole  \\\n",
       "0              1.0             6.0                 4.0   \n",
       "1              1.0             6.0                 4.0   \n",
       "2              1.0             6.0                 4.0   \n",
       "3              1.0             6.0                 4.0   \n",
       "4              1.0             6.0                 4.0   \n",
       "\n",
       "   YearsSinceLastPromotion  YearsWithCurrManager Employee Source  \n",
       "0                      0.0                   5.0        Referral  \n",
       "1                      0.0                   5.0        Referral  \n",
       "2                      0.0                   5.0        Referral  \n",
       "3                      0.0                   5.0        Referral  \n",
       "4                      0.0                   5.0        Referral  "
      ]
     },
     "execution_count": 104,
     "metadata": {},
     "output_type": "execute_result"
    }
   ],
   "source": [
    "# Importing the dataset as `data_attrition`\n",
    "data_attrition = pd.read_csv('https://raw.githubusercontent.com/ukcalc/Python-Machine-Learning-Projects/main/HR-Employee-Attrition/HR%20Data%20new.csv')\n",
    "data_attrition.head()"
   ]
  },
  {
   "cell_type": "code",
   "execution_count": 3,
   "metadata": {},
   "outputs": [
    {
     "name": "stdout",
     "output_type": "stream",
     "text": [
      "<class 'pandas.core.frame.DataFrame'>\n",
      "RangeIndex: 23436 entries, 0 to 23435\n",
      "Data columns (total 37 columns):\n",
      " #   Column                    Non-Null Count  Dtype  \n",
      "---  ------                    --------------  -----  \n",
      " 0   Age                       23433 non-null  float64\n",
      " 1   Attrition                 23423 non-null  object \n",
      " 2   BusinessTravel            23428 non-null  object \n",
      " 3   DailyRate                 23424 non-null  float64\n",
      " 4   Department                23425 non-null  object \n",
      " 5   DistanceFromHome          23427 non-null  object \n",
      " 6   Education                 23424 non-null  float64\n",
      " 7   EducationField            23427 non-null  object \n",
      " 8   EmployeeCount             23431 non-null  object \n",
      " 9   EmployeeNumber            23435 non-null  object \n",
      " 10  Application ID            23433 non-null  object \n",
      " 11  EnvironmentSatisfaction   23427 non-null  float64\n",
      " 12  Gender                    23426 non-null  object \n",
      " 13  HourlyRate                23427 non-null  object \n",
      " 14  JobInvolvement            23427 non-null  float64\n",
      " 15  JobLevel                  23429 non-null  float64\n",
      " 16  JobRole                   23427 non-null  object \n",
      " 17  JobSatisfaction           23427 non-null  object \n",
      " 18  MaritalStatus             23425 non-null  object \n",
      " 19  MonthlyIncome             23423 non-null  object \n",
      " 20  MonthlyRate               23425 non-null  float64\n",
      " 21  NumCompaniesWorked        23427 non-null  float64\n",
      " 22  Over18                    23426 non-null  object \n",
      " 23  OverTime                  23424 non-null  object \n",
      " 24  PercentSalaryHike         23422 non-null  object \n",
      " 25  PerformanceRating         23426 non-null  float64\n",
      " 26  RelationshipSatisfaction  23428 non-null  float64\n",
      " 27  StandardHours             23426 non-null  float64\n",
      " 28  StockOptionLevel          23427 non-null  float64\n",
      " 29  TotalWorkingYears         23428 non-null  float64\n",
      " 30  TrainingTimesLastYear     23425 non-null  float64\n",
      " 31  WorkLifeBalance           23426 non-null  float64\n",
      " 32  YearsAtCompany            23423 non-null  float64\n",
      " 33  YearsInCurrentRole        23421 non-null  float64\n",
      " 34  YearsSinceLastPromotion   23425 non-null  float64\n",
      " 35  YearsWithCurrManager      23429 non-null  float64\n",
      " 36  Employee Source           23424 non-null  object \n",
      "dtypes: float64(19), object(18)\n",
      "memory usage: 6.6+ MB\n"
     ]
    }
   ],
   "source": [
    "data_attrition.info() # Info of data"
   ]
  },
  {
   "cell_type": "code",
   "execution_count": 4,
   "metadata": {},
   "outputs": [
    {
     "data": {
      "text/html": [
       "<div>\n",
       "<style scoped>\n",
       "    .dataframe tbody tr th:only-of-type {\n",
       "        vertical-align: middle;\n",
       "    }\n",
       "\n",
       "    .dataframe tbody tr th {\n",
       "        vertical-align: top;\n",
       "    }\n",
       "\n",
       "    .dataframe thead th {\n",
       "        text-align: right;\n",
       "    }\n",
       "</style>\n",
       "<table border=\"1\" class=\"dataframe\">\n",
       "  <thead>\n",
       "    <tr style=\"text-align: right;\">\n",
       "      <th></th>\n",
       "      <th>Age</th>\n",
       "      <th>Attrition</th>\n",
       "      <th>BusinessTravel</th>\n",
       "      <th>DailyRate</th>\n",
       "      <th>Department</th>\n",
       "      <th>DistanceFromHome</th>\n",
       "      <th>Education</th>\n",
       "      <th>EducationField</th>\n",
       "      <th>EmployeeCount</th>\n",
       "      <th>EmployeeNumber</th>\n",
       "      <th>Application ID</th>\n",
       "      <th>EnvironmentSatisfaction</th>\n",
       "      <th>Gender</th>\n",
       "      <th>HourlyRate</th>\n",
       "      <th>JobInvolvement</th>\n",
       "      <th>JobLevel</th>\n",
       "      <th>JobRole</th>\n",
       "      <th>JobSatisfaction</th>\n",
       "      <th>MaritalStatus</th>\n",
       "      <th>MonthlyIncome</th>\n",
       "      <th>MonthlyRate</th>\n",
       "      <th>NumCompaniesWorked</th>\n",
       "      <th>Over18</th>\n",
       "      <th>OverTime</th>\n",
       "      <th>PercentSalaryHike</th>\n",
       "      <th>PerformanceRating</th>\n",
       "      <th>RelationshipSatisfaction</th>\n",
       "      <th>StandardHours</th>\n",
       "      <th>StockOptionLevel</th>\n",
       "      <th>TotalWorkingYears</th>\n",
       "      <th>TrainingTimesLastYear</th>\n",
       "      <th>WorkLifeBalance</th>\n",
       "      <th>YearsAtCompany</th>\n",
       "      <th>YearsInCurrentRole</th>\n",
       "      <th>YearsSinceLastPromotion</th>\n",
       "      <th>YearsWithCurrManager</th>\n",
       "      <th>Employee Source</th>\n",
       "    </tr>\n",
       "  </thead>\n",
       "  <tbody>\n",
       "    <tr>\n",
       "      <th>count</th>\n",
       "      <td>23433.000000</td>\n",
       "      <td>23423</td>\n",
       "      <td>23428</td>\n",
       "      <td>23424.000000</td>\n",
       "      <td>23425</td>\n",
       "      <td>23427</td>\n",
       "      <td>23424.000000</td>\n",
       "      <td>23427</td>\n",
       "      <td>23431</td>\n",
       "      <td>23435</td>\n",
       "      <td>23433</td>\n",
       "      <td>23427.000000</td>\n",
       "      <td>23426</td>\n",
       "      <td>23427</td>\n",
       "      <td>23427.000000</td>\n",
       "      <td>23429.000000</td>\n",
       "      <td>23427</td>\n",
       "      <td>23427</td>\n",
       "      <td>23425</td>\n",
       "      <td>23423</td>\n",
       "      <td>23425.000000</td>\n",
       "      <td>23427.000000</td>\n",
       "      <td>23426</td>\n",
       "      <td>23424</td>\n",
       "      <td>23422</td>\n",
       "      <td>23426.000000</td>\n",
       "      <td>23428.000000</td>\n",
       "      <td>23426.000000</td>\n",
       "      <td>23427.000000</td>\n",
       "      <td>23428.00000</td>\n",
       "      <td>23425.000000</td>\n",
       "      <td>23426.000000</td>\n",
       "      <td>23423.000000</td>\n",
       "      <td>23421.000000</td>\n",
       "      <td>23425.000000</td>\n",
       "      <td>23429.000000</td>\n",
       "      <td>23424</td>\n",
       "    </tr>\n",
       "    <tr>\n",
       "      <th>unique</th>\n",
       "      <td>NaN</td>\n",
       "      <td>2</td>\n",
       "      <td>3</td>\n",
       "      <td>NaN</td>\n",
       "      <td>4</td>\n",
       "      <td>59</td>\n",
       "      <td>NaN</td>\n",
       "      <td>8</td>\n",
       "      <td>3</td>\n",
       "      <td>23366</td>\n",
       "      <td>23419</td>\n",
       "      <td>NaN</td>\n",
       "      <td>4</td>\n",
       "      <td>73</td>\n",
       "      <td>NaN</td>\n",
       "      <td>NaN</td>\n",
       "      <td>11</td>\n",
       "      <td>5</td>\n",
       "      <td>4</td>\n",
       "      <td>1351</td>\n",
       "      <td>NaN</td>\n",
       "      <td>NaN</td>\n",
       "      <td>2</td>\n",
       "      <td>3</td>\n",
       "      <td>17</td>\n",
       "      <td>NaN</td>\n",
       "      <td>NaN</td>\n",
       "      <td>NaN</td>\n",
       "      <td>NaN</td>\n",
       "      <td>NaN</td>\n",
       "      <td>NaN</td>\n",
       "      <td>NaN</td>\n",
       "      <td>NaN</td>\n",
       "      <td>NaN</td>\n",
       "      <td>NaN</td>\n",
       "      <td>NaN</td>\n",
       "      <td>12</td>\n",
       "    </tr>\n",
       "    <tr>\n",
       "      <th>top</th>\n",
       "      <td>NaN</td>\n",
       "      <td>Current employee</td>\n",
       "      <td>Travel_Rarely</td>\n",
       "      <td>NaN</td>\n",
       "      <td>Research &amp; Development</td>\n",
       "      <td>1</td>\n",
       "      <td>NaN</td>\n",
       "      <td>Life Sciences</td>\n",
       "      <td>1</td>\n",
       "      <td>23244</td>\n",
       "      <td>124269</td>\n",
       "      <td>NaN</td>\n",
       "      <td>Male</td>\n",
       "      <td>66</td>\n",
       "      <td>NaN</td>\n",
       "      <td>NaN</td>\n",
       "      <td>Sales Executive</td>\n",
       "      <td>4</td>\n",
       "      <td>Married</td>\n",
       "      <td>2342</td>\n",
       "      <td>NaN</td>\n",
       "      <td>NaN</td>\n",
       "      <td>Y</td>\n",
       "      <td>No</td>\n",
       "      <td>11</td>\n",
       "      <td>NaN</td>\n",
       "      <td>NaN</td>\n",
       "      <td>NaN</td>\n",
       "      <td>NaN</td>\n",
       "      <td>NaN</td>\n",
       "      <td>NaN</td>\n",
       "      <td>NaN</td>\n",
       "      <td>NaN</td>\n",
       "      <td>NaN</td>\n",
       "      <td>NaN</td>\n",
       "      <td>NaN</td>\n",
       "      <td>Company Website</td>\n",
       "    </tr>\n",
       "    <tr>\n",
       "      <th>freq</th>\n",
       "      <td>NaN</td>\n",
       "      <td>19714</td>\n",
       "      <td>16620</td>\n",
       "      <td>NaN</td>\n",
       "      <td>15286</td>\n",
       "      <td>2416</td>\n",
       "      <td>NaN</td>\n",
       "      <td>9701</td>\n",
       "      <td>16378</td>\n",
       "      <td>7</td>\n",
       "      <td>2</td>\n",
       "      <td>NaN</td>\n",
       "      <td>14056</td>\n",
       "      <td>480</td>\n",
       "      <td>NaN</td>\n",
       "      <td>NaN</td>\n",
       "      <td>5111</td>\n",
       "      <td>7276</td>\n",
       "      <td>10709</td>\n",
       "      <td>66</td>\n",
       "      <td>NaN</td>\n",
       "      <td>NaN</td>\n",
       "      <td>23424</td>\n",
       "      <td>16790</td>\n",
       "      <td>3353</td>\n",
       "      <td>NaN</td>\n",
       "      <td>NaN</td>\n",
       "      <td>NaN</td>\n",
       "      <td>NaN</td>\n",
       "      <td>NaN</td>\n",
       "      <td>NaN</td>\n",
       "      <td>NaN</td>\n",
       "      <td>NaN</td>\n",
       "      <td>NaN</td>\n",
       "      <td>NaN</td>\n",
       "      <td>NaN</td>\n",
       "      <td>5400</td>\n",
       "    </tr>\n",
       "    <tr>\n",
       "      <th>mean</th>\n",
       "      <td>36.936671</td>\n",
       "      <td>NaN</td>\n",
       "      <td>NaN</td>\n",
       "      <td>801.828765</td>\n",
       "      <td>NaN</td>\n",
       "      <td>NaN</td>\n",
       "      <td>2.910050</td>\n",
       "      <td>NaN</td>\n",
       "      <td>NaN</td>\n",
       "      <td>NaN</td>\n",
       "      <td>NaN</td>\n",
       "      <td>13.681777</td>\n",
       "      <td>NaN</td>\n",
       "      <td>NaN</td>\n",
       "      <td>2.733811</td>\n",
       "      <td>2.064023</td>\n",
       "      <td>NaN</td>\n",
       "      <td>NaN</td>\n",
       "      <td>NaN</td>\n",
       "      <td>NaN</td>\n",
       "      <td>14304.343821</td>\n",
       "      <td>3.887779</td>\n",
       "      <td>NaN</td>\n",
       "      <td>NaN</td>\n",
       "      <td>NaN</td>\n",
       "      <td>3.155852</td>\n",
       "      <td>2.713334</td>\n",
       "      <td>79.993469</td>\n",
       "      <td>0.799846</td>\n",
       "      <td>11.25922</td>\n",
       "      <td>2.800171</td>\n",
       "      <td>2.761803</td>\n",
       "      <td>7.010887</td>\n",
       "      <td>4.227445</td>\n",
       "      <td>2.183821</td>\n",
       "      <td>4.127577</td>\n",
       "      <td>NaN</td>\n",
       "    </tr>\n",
       "    <tr>\n",
       "      <th>std</th>\n",
       "      <td>9.137432</td>\n",
       "      <td>NaN</td>\n",
       "      <td>NaN</td>\n",
       "      <td>403.206166</td>\n",
       "      <td>NaN</td>\n",
       "      <td>NaN</td>\n",
       "      <td>1.024931</td>\n",
       "      <td>NaN</td>\n",
       "      <td>NaN</td>\n",
       "      <td>NaN</td>\n",
       "      <td>NaN</td>\n",
       "      <td>1186.544372</td>\n",
       "      <td>NaN</td>\n",
       "      <td>NaN</td>\n",
       "      <td>0.836860</td>\n",
       "      <td>1.105421</td>\n",
       "      <td>NaN</td>\n",
       "      <td>NaN</td>\n",
       "      <td>NaN</td>\n",
       "      <td>NaN</td>\n",
       "      <td>7102.636293</td>\n",
       "      <td>155.332904</td>\n",
       "      <td>NaN</td>\n",
       "      <td>NaN</td>\n",
       "      <td>NaN</td>\n",
       "      <td>0.371215</td>\n",
       "      <td>1.080030</td>\n",
       "      <td>0.706850</td>\n",
       "      <td>1.122454</td>\n",
       "      <td>7.77237</td>\n",
       "      <td>1.308527</td>\n",
       "      <td>0.705788</td>\n",
       "      <td>6.138394</td>\n",
       "      <td>3.627284</td>\n",
       "      <td>3.218615</td>\n",
       "      <td>3.572379</td>\n",
       "      <td>NaN</td>\n",
       "    </tr>\n",
       "    <tr>\n",
       "      <th>min</th>\n",
       "      <td>18.000000</td>\n",
       "      <td>NaN</td>\n",
       "      <td>NaN</td>\n",
       "      <td>102.000000</td>\n",
       "      <td>NaN</td>\n",
       "      <td>NaN</td>\n",
       "      <td>1.000000</td>\n",
       "      <td>NaN</td>\n",
       "      <td>NaN</td>\n",
       "      <td>NaN</td>\n",
       "      <td>NaN</td>\n",
       "      <td>1.000000</td>\n",
       "      <td>NaN</td>\n",
       "      <td>NaN</td>\n",
       "      <td>1.000000</td>\n",
       "      <td>1.000000</td>\n",
       "      <td>NaN</td>\n",
       "      <td>NaN</td>\n",
       "      <td>NaN</td>\n",
       "      <td>NaN</td>\n",
       "      <td>2094.000000</td>\n",
       "      <td>0.000000</td>\n",
       "      <td>NaN</td>\n",
       "      <td>NaN</td>\n",
       "      <td>NaN</td>\n",
       "      <td>3.000000</td>\n",
       "      <td>1.000000</td>\n",
       "      <td>3.000000</td>\n",
       "      <td>0.000000</td>\n",
       "      <td>0.00000</td>\n",
       "      <td>0.000000</td>\n",
       "      <td>1.000000</td>\n",
       "      <td>0.000000</td>\n",
       "      <td>0.000000</td>\n",
       "      <td>0.000000</td>\n",
       "      <td>0.000000</td>\n",
       "      <td>NaN</td>\n",
       "    </tr>\n",
       "    <tr>\n",
       "      <th>25%</th>\n",
       "      <td>30.000000</td>\n",
       "      <td>NaN</td>\n",
       "      <td>NaN</td>\n",
       "      <td>465.000000</td>\n",
       "      <td>NaN</td>\n",
       "      <td>NaN</td>\n",
       "      <td>2.000000</td>\n",
       "      <td>NaN</td>\n",
       "      <td>NaN</td>\n",
       "      <td>NaN</td>\n",
       "      <td>NaN</td>\n",
       "      <td>2.000000</td>\n",
       "      <td>NaN</td>\n",
       "      <td>NaN</td>\n",
       "      <td>2.000000</td>\n",
       "      <td>1.000000</td>\n",
       "      <td>NaN</td>\n",
       "      <td>NaN</td>\n",
       "      <td>NaN</td>\n",
       "      <td>NaN</td>\n",
       "      <td>8053.000000</td>\n",
       "      <td>1.000000</td>\n",
       "      <td>NaN</td>\n",
       "      <td>NaN</td>\n",
       "      <td>NaN</td>\n",
       "      <td>3.000000</td>\n",
       "      <td>2.000000</td>\n",
       "      <td>80.000000</td>\n",
       "      <td>0.000000</td>\n",
       "      <td>6.00000</td>\n",
       "      <td>2.000000</td>\n",
       "      <td>2.000000</td>\n",
       "      <td>3.000000</td>\n",
       "      <td>2.000000</td>\n",
       "      <td>0.000000</td>\n",
       "      <td>2.000000</td>\n",
       "      <td>NaN</td>\n",
       "    </tr>\n",
       "    <tr>\n",
       "      <th>50%</th>\n",
       "      <td>36.000000</td>\n",
       "      <td>NaN</td>\n",
       "      <td>NaN</td>\n",
       "      <td>802.000000</td>\n",
       "      <td>NaN</td>\n",
       "      <td>NaN</td>\n",
       "      <td>3.000000</td>\n",
       "      <td>NaN</td>\n",
       "      <td>NaN</td>\n",
       "      <td>NaN</td>\n",
       "      <td>NaN</td>\n",
       "      <td>3.000000</td>\n",
       "      <td>NaN</td>\n",
       "      <td>NaN</td>\n",
       "      <td>3.000000</td>\n",
       "      <td>2.000000</td>\n",
       "      <td>NaN</td>\n",
       "      <td>NaN</td>\n",
       "      <td>NaN</td>\n",
       "      <td>NaN</td>\n",
       "      <td>14222.000000</td>\n",
       "      <td>2.000000</td>\n",
       "      <td>NaN</td>\n",
       "      <td>NaN</td>\n",
       "      <td>NaN</td>\n",
       "      <td>3.000000</td>\n",
       "      <td>3.000000</td>\n",
       "      <td>80.000000</td>\n",
       "      <td>1.000000</td>\n",
       "      <td>10.00000</td>\n",
       "      <td>3.000000</td>\n",
       "      <td>3.000000</td>\n",
       "      <td>5.000000</td>\n",
       "      <td>3.000000</td>\n",
       "      <td>1.000000</td>\n",
       "      <td>3.000000</td>\n",
       "      <td>NaN</td>\n",
       "    </tr>\n",
       "    <tr>\n",
       "      <th>75%</th>\n",
       "      <td>43.000000</td>\n",
       "      <td>NaN</td>\n",
       "      <td>NaN</td>\n",
       "      <td>1157.000000</td>\n",
       "      <td>NaN</td>\n",
       "      <td>NaN</td>\n",
       "      <td>4.000000</td>\n",
       "      <td>NaN</td>\n",
       "      <td>NaN</td>\n",
       "      <td>NaN</td>\n",
       "      <td>NaN</td>\n",
       "      <td>4.000000</td>\n",
       "      <td>NaN</td>\n",
       "      <td>NaN</td>\n",
       "      <td>3.000000</td>\n",
       "      <td>3.000000</td>\n",
       "      <td>NaN</td>\n",
       "      <td>NaN</td>\n",
       "      <td>NaN</td>\n",
       "      <td>NaN</td>\n",
       "      <td>20460.000000</td>\n",
       "      <td>4.000000</td>\n",
       "      <td>NaN</td>\n",
       "      <td>NaN</td>\n",
       "      <td>NaN</td>\n",
       "      <td>3.000000</td>\n",
       "      <td>4.000000</td>\n",
       "      <td>80.000000</td>\n",
       "      <td>1.000000</td>\n",
       "      <td>15.00000</td>\n",
       "      <td>3.000000</td>\n",
       "      <td>3.000000</td>\n",
       "      <td>10.000000</td>\n",
       "      <td>7.000000</td>\n",
       "      <td>3.000000</td>\n",
       "      <td>7.000000</td>\n",
       "      <td>NaN</td>\n",
       "    </tr>\n",
       "    <tr>\n",
       "      <th>max</th>\n",
       "      <td>60.000000</td>\n",
       "      <td>NaN</td>\n",
       "      <td>NaN</td>\n",
       "      <td>1499.000000</td>\n",
       "      <td>NaN</td>\n",
       "      <td>NaN</td>\n",
       "      <td>6.000000</td>\n",
       "      <td>NaN</td>\n",
       "      <td>NaN</td>\n",
       "      <td>NaN</td>\n",
       "      <td>NaN</td>\n",
       "      <td>129588.000000</td>\n",
       "      <td>NaN</td>\n",
       "      <td>NaN</td>\n",
       "      <td>54.000000</td>\n",
       "      <td>5.000000</td>\n",
       "      <td>NaN</td>\n",
       "      <td>NaN</td>\n",
       "      <td>NaN</td>\n",
       "      <td>NaN</td>\n",
       "      <td>26999.000000</td>\n",
       "      <td>23258.000000</td>\n",
       "      <td>NaN</td>\n",
       "      <td>NaN</td>\n",
       "      <td>NaN</td>\n",
       "      <td>13.000000</td>\n",
       "      <td>4.000000</td>\n",
       "      <td>80.000000</td>\n",
       "      <td>80.000000</td>\n",
       "      <td>40.00000</td>\n",
       "      <td>30.000000</td>\n",
       "      <td>4.000000</td>\n",
       "      <td>40.000000</td>\n",
       "      <td>22.000000</td>\n",
       "      <td>17.000000</td>\n",
       "      <td>17.000000</td>\n",
       "      <td>NaN</td>\n",
       "    </tr>\n",
       "  </tbody>\n",
       "</table>\n",
       "</div>"
      ],
      "text/plain": [
       "                 Age         Attrition BusinessTravel     DailyRate  \\\n",
       "count   23433.000000             23423          23428  23424.000000   \n",
       "unique           NaN                 2              3           NaN   \n",
       "top              NaN  Current employee  Travel_Rarely           NaN   \n",
       "freq             NaN             19714          16620           NaN   \n",
       "mean       36.936671               NaN            NaN    801.828765   \n",
       "std         9.137432               NaN            NaN    403.206166   \n",
       "min        18.000000               NaN            NaN    102.000000   \n",
       "25%        30.000000               NaN            NaN    465.000000   \n",
       "50%        36.000000               NaN            NaN    802.000000   \n",
       "75%        43.000000               NaN            NaN   1157.000000   \n",
       "max        60.000000               NaN            NaN   1499.000000   \n",
       "\n",
       "                    Department DistanceFromHome     Education EducationField  \\\n",
       "count                    23425            23427  23424.000000          23427   \n",
       "unique                       4               59           NaN              8   \n",
       "top     Research & Development                1           NaN  Life Sciences   \n",
       "freq                     15286             2416           NaN           9701   \n",
       "mean                       NaN              NaN      2.910050            NaN   \n",
       "std                        NaN              NaN      1.024931            NaN   \n",
       "min                        NaN              NaN      1.000000            NaN   \n",
       "25%                        NaN              NaN      2.000000            NaN   \n",
       "50%                        NaN              NaN      3.000000            NaN   \n",
       "75%                        NaN              NaN      4.000000            NaN   \n",
       "max                        NaN              NaN      6.000000            NaN   \n",
       "\n",
       "       EmployeeCount EmployeeNumber Application ID  EnvironmentSatisfaction  \\\n",
       "count          23431          23435          23433             23427.000000   \n",
       "unique             3          23366          23419                      NaN   \n",
       "top                1          23244         124269                      NaN   \n",
       "freq           16378              7              2                      NaN   \n",
       "mean             NaN            NaN            NaN                13.681777   \n",
       "std              NaN            NaN            NaN              1186.544372   \n",
       "min              NaN            NaN            NaN                 1.000000   \n",
       "25%              NaN            NaN            NaN                 2.000000   \n",
       "50%              NaN            NaN            NaN                 3.000000   \n",
       "75%              NaN            NaN            NaN                 4.000000   \n",
       "max              NaN            NaN            NaN            129588.000000   \n",
       "\n",
       "       Gender HourlyRate  JobInvolvement      JobLevel          JobRole  \\\n",
       "count   23426      23427    23427.000000  23429.000000            23427   \n",
       "unique      4         73             NaN           NaN               11   \n",
       "top      Male         66             NaN           NaN  Sales Executive   \n",
       "freq    14056        480             NaN           NaN             5111   \n",
       "mean      NaN        NaN        2.733811      2.064023              NaN   \n",
       "std       NaN        NaN        0.836860      1.105421              NaN   \n",
       "min       NaN        NaN        1.000000      1.000000              NaN   \n",
       "25%       NaN        NaN        2.000000      1.000000              NaN   \n",
       "50%       NaN        NaN        3.000000      2.000000              NaN   \n",
       "75%       NaN        NaN        3.000000      3.000000              NaN   \n",
       "max       NaN        NaN       54.000000      5.000000              NaN   \n",
       "\n",
       "       JobSatisfaction MaritalStatus MonthlyIncome   MonthlyRate  \\\n",
       "count            23427         23425         23423  23425.000000   \n",
       "unique               5             4          1351           NaN   \n",
       "top                  4       Married          2342           NaN   \n",
       "freq              7276         10709            66           NaN   \n",
       "mean               NaN           NaN           NaN  14304.343821   \n",
       "std                NaN           NaN           NaN   7102.636293   \n",
       "min                NaN           NaN           NaN   2094.000000   \n",
       "25%                NaN           NaN           NaN   8053.000000   \n",
       "50%                NaN           NaN           NaN  14222.000000   \n",
       "75%                NaN           NaN           NaN  20460.000000   \n",
       "max                NaN           NaN           NaN  26999.000000   \n",
       "\n",
       "        NumCompaniesWorked Over18 OverTime PercentSalaryHike  \\\n",
       "count         23427.000000  23426    23424             23422   \n",
       "unique                 NaN      2        3                17   \n",
       "top                    NaN      Y       No                11   \n",
       "freq                   NaN  23424    16790              3353   \n",
       "mean              3.887779    NaN      NaN               NaN   \n",
       "std             155.332904    NaN      NaN               NaN   \n",
       "min               0.000000    NaN      NaN               NaN   \n",
       "25%               1.000000    NaN      NaN               NaN   \n",
       "50%               2.000000    NaN      NaN               NaN   \n",
       "75%               4.000000    NaN      NaN               NaN   \n",
       "max           23258.000000    NaN      NaN               NaN   \n",
       "\n",
       "        PerformanceRating  RelationshipSatisfaction  StandardHours  \\\n",
       "count        23426.000000              23428.000000   23426.000000   \n",
       "unique                NaN                       NaN            NaN   \n",
       "top                   NaN                       NaN            NaN   \n",
       "freq                  NaN                       NaN            NaN   \n",
       "mean             3.155852                  2.713334      79.993469   \n",
       "std              0.371215                  1.080030       0.706850   \n",
       "min              3.000000                  1.000000       3.000000   \n",
       "25%              3.000000                  2.000000      80.000000   \n",
       "50%              3.000000                  3.000000      80.000000   \n",
       "75%              3.000000                  4.000000      80.000000   \n",
       "max             13.000000                  4.000000      80.000000   \n",
       "\n",
       "        StockOptionLevel  TotalWorkingYears  TrainingTimesLastYear  \\\n",
       "count       23427.000000        23428.00000           23425.000000   \n",
       "unique               NaN                NaN                    NaN   \n",
       "top                  NaN                NaN                    NaN   \n",
       "freq                 NaN                NaN                    NaN   \n",
       "mean            0.799846           11.25922               2.800171   \n",
       "std             1.122454            7.77237               1.308527   \n",
       "min             0.000000            0.00000               0.000000   \n",
       "25%             0.000000            6.00000               2.000000   \n",
       "50%             1.000000           10.00000               3.000000   \n",
       "75%             1.000000           15.00000               3.000000   \n",
       "max            80.000000           40.00000              30.000000   \n",
       "\n",
       "        WorkLifeBalance  YearsAtCompany  YearsInCurrentRole  \\\n",
       "count      23426.000000    23423.000000        23421.000000   \n",
       "unique              NaN             NaN                 NaN   \n",
       "top                 NaN             NaN                 NaN   \n",
       "freq                NaN             NaN                 NaN   \n",
       "mean           2.761803        7.010887            4.227445   \n",
       "std            0.705788        6.138394            3.627284   \n",
       "min            1.000000        0.000000            0.000000   \n",
       "25%            2.000000        3.000000            2.000000   \n",
       "50%            3.000000        5.000000            3.000000   \n",
       "75%            3.000000       10.000000            7.000000   \n",
       "max            4.000000       40.000000           22.000000   \n",
       "\n",
       "        YearsSinceLastPromotion  YearsWithCurrManager  Employee Source  \n",
       "count              23425.000000          23429.000000            23424  \n",
       "unique                      NaN                   NaN               12  \n",
       "top                         NaN                   NaN  Company Website  \n",
       "freq                        NaN                   NaN             5400  \n",
       "mean                   2.183821              4.127577              NaN  \n",
       "std                    3.218615              3.572379              NaN  \n",
       "min                    0.000000              0.000000              NaN  \n",
       "25%                    0.000000              2.000000              NaN  \n",
       "50%                    1.000000              3.000000              NaN  \n",
       "75%                    3.000000              7.000000              NaN  \n",
       "max                   17.000000             17.000000              NaN  "
      ]
     },
     "execution_count": 4,
     "metadata": {},
     "output_type": "execute_result"
    }
   ],
   "source": [
    "data_attrition.describe(include='all')  # Descriptive statistics of data"
   ]
  },
  {
   "cell_type": "markdown",
   "metadata": {},
   "source": [
    "### Checking columns with null"
   ]
  },
  {
   "cell_type": "code",
   "execution_count": 5,
   "metadata": {},
   "outputs": [
    {
     "data": {
      "text/plain": [
       "Age                          3\n",
       "Attrition                   13\n",
       "BusinessTravel               8\n",
       "DailyRate                   12\n",
       "Department                  11\n",
       "DistanceFromHome             9\n",
       "Education                   12\n",
       "EducationField               9\n",
       "EmployeeCount                5\n",
       "EmployeeNumber               1\n",
       "Application ID               3\n",
       "EnvironmentSatisfaction      9\n",
       "Gender                      10\n",
       "HourlyRate                   9\n",
       "JobInvolvement               9\n",
       "JobLevel                     7\n",
       "JobRole                      9\n",
       "JobSatisfaction              9\n",
       "MaritalStatus               11\n",
       "MonthlyIncome               13\n",
       "MonthlyRate                 11\n",
       "NumCompaniesWorked           9\n",
       "Over18                      10\n",
       "OverTime                    12\n",
       "PercentSalaryHike           14\n",
       "PerformanceRating           10\n",
       "RelationshipSatisfaction     8\n",
       "StandardHours               10\n",
       "StockOptionLevel             9\n",
       "TotalWorkingYears            8\n",
       "TrainingTimesLastYear       11\n",
       "WorkLifeBalance             10\n",
       "YearsAtCompany              13\n",
       "YearsInCurrentRole          15\n",
       "YearsSinceLastPromotion     11\n",
       "YearsWithCurrManager         7\n",
       "Employee Source             12\n",
       "dtype: int64"
      ]
     },
     "execution_count": 5,
     "metadata": {},
     "output_type": "execute_result"
    }
   ],
   "source": [
    "data_attrition.isnull().sum() #checking null per column"
   ]
  },
  {
   "cell_type": "code",
   "execution_count": 6,
   "metadata": {},
   "outputs": [
    {
     "data": {
      "application/vnd.jupyter.widget-view+json": {
       "model_id": "90a55b799e1e41399fc060c1f8321f81",
       "version_major": 2,
       "version_minor": 0
      },
      "text/plain": [
       "HBox(children=(FloatProgress(value=0.0, description='Summarize dataset', max=51.0, style=ProgressStyle(descrip…"
      ]
     },
     "metadata": {},
     "output_type": "display_data"
    },
    {
     "name": "stdout",
     "output_type": "stream",
     "text": [
      "\n"
     ]
    },
    {
     "data": {
      "application/vnd.jupyter.widget-view+json": {
       "model_id": "7f4a77b84fe444f48f20403af30a3490",
       "version_major": 2,
       "version_minor": 0
      },
      "text/plain": [
       "HBox(children=(FloatProgress(value=0.0, description='Generate report structure', max=1.0, style=ProgressStyle(…"
      ]
     },
     "metadata": {},
     "output_type": "display_data"
    },
    {
     "name": "stdout",
     "output_type": "stream",
     "text": [
      "\n"
     ]
    },
    {
     "data": {
      "application/vnd.jupyter.widget-view+json": {
       "model_id": "776fe91dfd414717b108d062572d4479",
       "version_major": 2,
       "version_minor": 0
      },
      "text/plain": [
       "HBox(children=(FloatProgress(value=0.0, description='Render HTML', max=1.0, style=ProgressStyle(description_wi…"
      ]
     },
     "metadata": {},
     "output_type": "display_data"
    },
    {
     "name": "stdout",
     "output_type": "stream",
     "text": [
      "\n"
     ]
    },
    {
     "data": {
      "application/vnd.jupyter.widget-view+json": {
       "model_id": "e91ff50fe006465891fe5a417045c57a",
       "version_major": 2,
       "version_minor": 0
      },
      "text/plain": [
       "HBox(children=(FloatProgress(value=0.0, description='Export report to file', max=1.0, style=ProgressStyle(desc…"
      ]
     },
     "metadata": {},
     "output_type": "display_data"
    },
    {
     "name": "stdout",
     "output_type": "stream",
     "text": [
      "\n"
     ]
    }
   ],
   "source": [
    "#Pre-Profile Report to have a feel of the data.\n",
    "pd.options.display.max_columns = None\n",
    "profile = ProfileReport(data_attrition, title='Pandas Pre Profiling Report', explorative=True)\n",
    "profile.to_file(\"Attrition_Pre_Profile.html\")"
   ]
  },
  {
   "cell_type": "code",
   "execution_count": 7,
   "metadata": {},
   "outputs": [
    {
     "data": {
      "text/plain": [
       "352"
      ]
     },
     "execution_count": 7,
     "metadata": {},
     "output_type": "execute_result"
    }
   ],
   "source": [
    "data_attrition.isnull().sum().sum() # checking total number of nulls present in data"
   ]
  },
  {
   "cell_type": "code",
   "execution_count": 8,
   "metadata": {},
   "outputs": [
    {
     "data": {
      "text/plain": [
       "23436"
      ]
     },
     "execution_count": 8,
     "metadata": {},
     "output_type": "execute_result"
    }
   ],
   "source": [
    "len(data_attrition) # number of rows in dataset\n"
   ]
  },
  {
   "cell_type": "code",
   "execution_count": 9,
   "metadata": {},
   "outputs": [
    {
     "data": {
      "text/plain": [
       "(23436, 37)"
      ]
     },
     "execution_count": 9,
     "metadata": {},
     "output_type": "execute_result"
    }
   ],
   "source": [
    "data_attrition.shape # Number of (records, features) of data"
   ]
  },
  {
   "cell_type": "code",
   "execution_count": 10,
   "metadata": {},
   "outputs": [
    {
     "data": {
      "text/plain": [
       "0.01501962792285373"
      ]
     },
     "execution_count": 10,
     "metadata": {},
     "output_type": "execute_result"
    }
   ],
   "source": [
    "data_attrition.isnull().sum().sum() / len(data_attrition) # Calculating percentage of null values in dataset"
   ]
  },
  {
   "cell_type": "code",
   "execution_count": 11,
   "metadata": {},
   "outputs": [
    {
     "data": {
      "text/plain": [
       "(23204, 37)"
      ]
     },
     "execution_count": 11,
     "metadata": {},
     "output_type": "execute_result"
    }
   ],
   "source": [
    "data_attrition=data_attrition.dropna() # dropping the \n",
    "data_attrition.shape # checking the rows after dropping rows having null values"
   ]
  },
  {
   "cell_type": "markdown",
   "metadata": {},
   "source": [
    "## Pre-Processing Data\n",
    "    \n",
    "    . Removing Duplicate Rows.\n",
    "    . Dropping columns with high cardinality.\n",
    "    . Dropping null values.\n",
    "    . Converting some categorical variables to numeric.\n",
    "    "
   ]
  },
  {
   "cell_type": "code",
   "execution_count": 12,
   "metadata": {},
   "outputs": [
    {
     "data": {
      "text/html": [
       "<div>\n",
       "<style scoped>\n",
       "    .dataframe tbody tr th:only-of-type {\n",
       "        vertical-align: middle;\n",
       "    }\n",
       "\n",
       "    .dataframe tbody tr th {\n",
       "        vertical-align: top;\n",
       "    }\n",
       "\n",
       "    .dataframe thead th {\n",
       "        text-align: right;\n",
       "    }\n",
       "</style>\n",
       "<table border=\"1\" class=\"dataframe\">\n",
       "  <thead>\n",
       "    <tr style=\"text-align: right;\">\n",
       "      <th></th>\n",
       "      <th>Age</th>\n",
       "      <th>Attrition</th>\n",
       "      <th>BusinessTravel</th>\n",
       "      <th>DailyRate</th>\n",
       "      <th>Department</th>\n",
       "      <th>DistanceFromHome</th>\n",
       "      <th>Education</th>\n",
       "      <th>EducationField</th>\n",
       "      <th>EmployeeCount</th>\n",
       "      <th>EmployeeNumber</th>\n",
       "      <th>Application ID</th>\n",
       "      <th>EnvironmentSatisfaction</th>\n",
       "      <th>Gender</th>\n",
       "      <th>HourlyRate</th>\n",
       "      <th>JobInvolvement</th>\n",
       "      <th>JobLevel</th>\n",
       "      <th>JobRole</th>\n",
       "      <th>JobSatisfaction</th>\n",
       "      <th>MaritalStatus</th>\n",
       "      <th>MonthlyIncome</th>\n",
       "      <th>MonthlyRate</th>\n",
       "      <th>NumCompaniesWorked</th>\n",
       "      <th>Over18</th>\n",
       "      <th>OverTime</th>\n",
       "      <th>PercentSalaryHike</th>\n",
       "      <th>PerformanceRating</th>\n",
       "      <th>RelationshipSatisfaction</th>\n",
       "      <th>StandardHours</th>\n",
       "      <th>StockOptionLevel</th>\n",
       "      <th>TotalWorkingYears</th>\n",
       "      <th>TrainingTimesLastYear</th>\n",
       "      <th>WorkLifeBalance</th>\n",
       "      <th>YearsAtCompany</th>\n",
       "      <th>YearsInCurrentRole</th>\n",
       "      <th>YearsSinceLastPromotion</th>\n",
       "      <th>YearsWithCurrManager</th>\n",
       "      <th>Employee Source</th>\n",
       "    </tr>\n",
       "  </thead>\n",
       "  <tbody>\n",
       "    <tr>\n",
       "      <th>0</th>\n",
       "      <td>41.0</td>\n",
       "      <td>Voluntary Resignation</td>\n",
       "      <td>Travel_Rarely</td>\n",
       "      <td>1102.0</td>\n",
       "      <td>Sales</td>\n",
       "      <td>1</td>\n",
       "      <td>2.0</td>\n",
       "      <td>Life Sciences</td>\n",
       "      <td>1</td>\n",
       "      <td>1</td>\n",
       "      <td>123456</td>\n",
       "      <td>2.0</td>\n",
       "      <td>Female</td>\n",
       "      <td>94</td>\n",
       "      <td>3.0</td>\n",
       "      <td>2.0</td>\n",
       "      <td>Sales Executive</td>\n",
       "      <td>4</td>\n",
       "      <td>Single</td>\n",
       "      <td>5993</td>\n",
       "      <td>19479.0</td>\n",
       "      <td>8.0</td>\n",
       "      <td>Y</td>\n",
       "      <td>Yes</td>\n",
       "      <td>11</td>\n",
       "      <td>3.0</td>\n",
       "      <td>1.0</td>\n",
       "      <td>80.0</td>\n",
       "      <td>0.0</td>\n",
       "      <td>8.0</td>\n",
       "      <td>0.0</td>\n",
       "      <td>1.0</td>\n",
       "      <td>6.0</td>\n",
       "      <td>4.0</td>\n",
       "      <td>0.0</td>\n",
       "      <td>5.0</td>\n",
       "      <td>Referral</td>\n",
       "    </tr>\n",
       "    <tr>\n",
       "      <th>1</th>\n",
       "      <td>41.0</td>\n",
       "      <td>Voluntary Resignation</td>\n",
       "      <td>Travel_Rarely</td>\n",
       "      <td>1102.0</td>\n",
       "      <td>Sales</td>\n",
       "      <td>1</td>\n",
       "      <td>2.0</td>\n",
       "      <td>Life Sciences</td>\n",
       "      <td>1</td>\n",
       "      <td>1</td>\n",
       "      <td>123458</td>\n",
       "      <td>2.0</td>\n",
       "      <td>Female</td>\n",
       "      <td>94</td>\n",
       "      <td>3.0</td>\n",
       "      <td>2.0</td>\n",
       "      <td>Sales Executive</td>\n",
       "      <td>4</td>\n",
       "      <td>Single</td>\n",
       "      <td>5993</td>\n",
       "      <td>19479.0</td>\n",
       "      <td>4.0</td>\n",
       "      <td>Y</td>\n",
       "      <td>Yes</td>\n",
       "      <td>11</td>\n",
       "      <td>3.0</td>\n",
       "      <td>1.0</td>\n",
       "      <td>80.0</td>\n",
       "      <td>0.0</td>\n",
       "      <td>8.0</td>\n",
       "      <td>0.0</td>\n",
       "      <td>1.0</td>\n",
       "      <td>6.0</td>\n",
       "      <td>4.0</td>\n",
       "      <td>0.0</td>\n",
       "      <td>5.0</td>\n",
       "      <td>Referral</td>\n",
       "    </tr>\n",
       "    <tr>\n",
       "      <th>2</th>\n",
       "      <td>41.0</td>\n",
       "      <td>Voluntary Resignation</td>\n",
       "      <td>Travel_Rarely</td>\n",
       "      <td>1102.0</td>\n",
       "      <td>Sales</td>\n",
       "      <td>1</td>\n",
       "      <td>2.0</td>\n",
       "      <td>Life Sciences</td>\n",
       "      <td>1</td>\n",
       "      <td>7</td>\n",
       "      <td>123462</td>\n",
       "      <td>2.0</td>\n",
       "      <td>Female</td>\n",
       "      <td>94</td>\n",
       "      <td>3.0</td>\n",
       "      <td>2.0</td>\n",
       "      <td>Sales Executive</td>\n",
       "      <td>4</td>\n",
       "      <td>Single</td>\n",
       "      <td>5993</td>\n",
       "      <td>19479.0</td>\n",
       "      <td>8.0</td>\n",
       "      <td>Y</td>\n",
       "      <td>Yes</td>\n",
       "      <td>11</td>\n",
       "      <td>3.0</td>\n",
       "      <td>1.0</td>\n",
       "      <td>80.0</td>\n",
       "      <td>0.0</td>\n",
       "      <td>8.0</td>\n",
       "      <td>0.0</td>\n",
       "      <td>1.0</td>\n",
       "      <td>6.0</td>\n",
       "      <td>4.0</td>\n",
       "      <td>0.0</td>\n",
       "      <td>5.0</td>\n",
       "      <td>Referral</td>\n",
       "    </tr>\n",
       "    <tr>\n",
       "      <th>3</th>\n",
       "      <td>41.0</td>\n",
       "      <td>Voluntary Resignation</td>\n",
       "      <td>Travel_Rarely</td>\n",
       "      <td>1102.0</td>\n",
       "      <td>Sales</td>\n",
       "      <td>1</td>\n",
       "      <td>2.0</td>\n",
       "      <td>Life Sciences</td>\n",
       "      <td>1</td>\n",
       "      <td>8</td>\n",
       "      <td>123463</td>\n",
       "      <td>2.0</td>\n",
       "      <td>Female</td>\n",
       "      <td>94</td>\n",
       "      <td>3.0</td>\n",
       "      <td>2.0</td>\n",
       "      <td>Sales Executive</td>\n",
       "      <td>4</td>\n",
       "      <td>Single</td>\n",
       "      <td>5993</td>\n",
       "      <td>19479.0</td>\n",
       "      <td>4.0</td>\n",
       "      <td>Y</td>\n",
       "      <td>Yes</td>\n",
       "      <td>11</td>\n",
       "      <td>3.0</td>\n",
       "      <td>1.0</td>\n",
       "      <td>80.0</td>\n",
       "      <td>0.0</td>\n",
       "      <td>8.0</td>\n",
       "      <td>0.0</td>\n",
       "      <td>1.0</td>\n",
       "      <td>6.0</td>\n",
       "      <td>4.0</td>\n",
       "      <td>0.0</td>\n",
       "      <td>5.0</td>\n",
       "      <td>Referral</td>\n",
       "    </tr>\n",
       "    <tr>\n",
       "      <th>4</th>\n",
       "      <td>41.0</td>\n",
       "      <td>Voluntary Resignation</td>\n",
       "      <td>Travel_Rarely</td>\n",
       "      <td>1102.0</td>\n",
       "      <td>Sales</td>\n",
       "      <td>1</td>\n",
       "      <td>2.0</td>\n",
       "      <td>Life Sciences</td>\n",
       "      <td>1</td>\n",
       "      <td>9</td>\n",
       "      <td>123464</td>\n",
       "      <td>2.0</td>\n",
       "      <td>Female</td>\n",
       "      <td>94</td>\n",
       "      <td>3.0</td>\n",
       "      <td>2.0</td>\n",
       "      <td>Sales Executive</td>\n",
       "      <td>4</td>\n",
       "      <td>Single</td>\n",
       "      <td>5993</td>\n",
       "      <td>19479.0</td>\n",
       "      <td>8.0</td>\n",
       "      <td>Y</td>\n",
       "      <td>Yes</td>\n",
       "      <td>11</td>\n",
       "      <td>3.0</td>\n",
       "      <td>1.0</td>\n",
       "      <td>80.0</td>\n",
       "      <td>0.0</td>\n",
       "      <td>8.0</td>\n",
       "      <td>0.0</td>\n",
       "      <td>1.0</td>\n",
       "      <td>6.0</td>\n",
       "      <td>4.0</td>\n",
       "      <td>0.0</td>\n",
       "      <td>5.0</td>\n",
       "      <td>Referral</td>\n",
       "    </tr>\n",
       "    <tr>\n",
       "      <th>...</th>\n",
       "      <td>...</td>\n",
       "      <td>...</td>\n",
       "      <td>...</td>\n",
       "      <td>...</td>\n",
       "      <td>...</td>\n",
       "      <td>...</td>\n",
       "      <td>...</td>\n",
       "      <td>...</td>\n",
       "      <td>...</td>\n",
       "      <td>...</td>\n",
       "      <td>...</td>\n",
       "      <td>...</td>\n",
       "      <td>...</td>\n",
       "      <td>...</td>\n",
       "      <td>...</td>\n",
       "      <td>...</td>\n",
       "      <td>...</td>\n",
       "      <td>...</td>\n",
       "      <td>...</td>\n",
       "      <td>...</td>\n",
       "      <td>...</td>\n",
       "      <td>...</td>\n",
       "      <td>...</td>\n",
       "      <td>...</td>\n",
       "      <td>...</td>\n",
       "      <td>...</td>\n",
       "      <td>...</td>\n",
       "      <td>...</td>\n",
       "      <td>...</td>\n",
       "      <td>...</td>\n",
       "      <td>...</td>\n",
       "      <td>...</td>\n",
       "      <td>...</td>\n",
       "      <td>...</td>\n",
       "      <td>...</td>\n",
       "      <td>...</td>\n",
       "      <td>...</td>\n",
       "    </tr>\n",
       "    <tr>\n",
       "      <th>23428</th>\n",
       "      <td>60.0</td>\n",
       "      <td>Current employee</td>\n",
       "      <td>Travel_Rarely</td>\n",
       "      <td>370.0</td>\n",
       "      <td>Research &amp; Development</td>\n",
       "      <td>1</td>\n",
       "      <td>4.0</td>\n",
       "      <td>Life Sciences</td>\n",
       "      <td>1</td>\n",
       "      <td>19337</td>\n",
       "      <td>142792</td>\n",
       "      <td>3.0</td>\n",
       "      <td>Male</td>\n",
       "      <td>92</td>\n",
       "      <td>1.0</td>\n",
       "      <td>3.0</td>\n",
       "      <td>Healthcare Representative</td>\n",
       "      <td>4</td>\n",
       "      <td>Divorced</td>\n",
       "      <td>10883</td>\n",
       "      <td>20467.0</td>\n",
       "      <td>0.0</td>\n",
       "      <td>Y</td>\n",
       "      <td>No</td>\n",
       "      <td>20</td>\n",
       "      <td>4.0</td>\n",
       "      <td>3.0</td>\n",
       "      <td>80.0</td>\n",
       "      <td>1.0</td>\n",
       "      <td>19.0</td>\n",
       "      <td>2.0</td>\n",
       "      <td>4.0</td>\n",
       "      <td>1.0</td>\n",
       "      <td>0.0</td>\n",
       "      <td>0.0</td>\n",
       "      <td>0.0</td>\n",
       "      <td>Company Website</td>\n",
       "    </tr>\n",
       "    <tr>\n",
       "      <th>23429</th>\n",
       "      <td>60.0</td>\n",
       "      <td>Current employee</td>\n",
       "      <td>Travel_Rarely</td>\n",
       "      <td>370.0</td>\n",
       "      <td>Research &amp; Development</td>\n",
       "      <td>1</td>\n",
       "      <td>4.0</td>\n",
       "      <td>Medical</td>\n",
       "      <td>1</td>\n",
       "      <td>19338</td>\n",
       "      <td>142793</td>\n",
       "      <td>3.0</td>\n",
       "      <td>Male</td>\n",
       "      <td>92</td>\n",
       "      <td>1.0</td>\n",
       "      <td>3.0</td>\n",
       "      <td>Healthcare Representative</td>\n",
       "      <td>4</td>\n",
       "      <td>Divorced</td>\n",
       "      <td>10883</td>\n",
       "      <td>20467.0</td>\n",
       "      <td>3.0</td>\n",
       "      <td>Y</td>\n",
       "      <td>No</td>\n",
       "      <td>20</td>\n",
       "      <td>3.0</td>\n",
       "      <td>3.0</td>\n",
       "      <td>80.0</td>\n",
       "      <td>1.0</td>\n",
       "      <td>19.0</td>\n",
       "      <td>2.0</td>\n",
       "      <td>4.0</td>\n",
       "      <td>1.0</td>\n",
       "      <td>0.0</td>\n",
       "      <td>0.0</td>\n",
       "      <td>0.0</td>\n",
       "      <td>Company Website</td>\n",
       "    </tr>\n",
       "    <tr>\n",
       "      <th>23430</th>\n",
       "      <td>60.0</td>\n",
       "      <td>Current employee</td>\n",
       "      <td>Travel_Rarely</td>\n",
       "      <td>370.0</td>\n",
       "      <td>Research &amp; Development</td>\n",
       "      <td>1</td>\n",
       "      <td>4.0</td>\n",
       "      <td>Life Sciences</td>\n",
       "      <td>1</td>\n",
       "      <td>19340</td>\n",
       "      <td>142795</td>\n",
       "      <td>3.0</td>\n",
       "      <td>Male</td>\n",
       "      <td>92</td>\n",
       "      <td>1.0</td>\n",
       "      <td>3.0</td>\n",
       "      <td>Healthcare Representative</td>\n",
       "      <td>4</td>\n",
       "      <td>Divorced</td>\n",
       "      <td>10883</td>\n",
       "      <td>20467.0</td>\n",
       "      <td>0.0</td>\n",
       "      <td>Y</td>\n",
       "      <td>No</td>\n",
       "      <td>20</td>\n",
       "      <td>3.0</td>\n",
       "      <td>3.0</td>\n",
       "      <td>80.0</td>\n",
       "      <td>1.0</td>\n",
       "      <td>19.0</td>\n",
       "      <td>2.0</td>\n",
       "      <td>4.0</td>\n",
       "      <td>1.0</td>\n",
       "      <td>0.0</td>\n",
       "      <td>0.0</td>\n",
       "      <td>0.0</td>\n",
       "      <td>Company Website</td>\n",
       "    </tr>\n",
       "    <tr>\n",
       "      <th>23431</th>\n",
       "      <td>60.0</td>\n",
       "      <td>Current employee</td>\n",
       "      <td>Travel_Rarely</td>\n",
       "      <td>370.0</td>\n",
       "      <td>Research &amp; Development</td>\n",
       "      <td>1</td>\n",
       "      <td>4.0</td>\n",
       "      <td>Medical</td>\n",
       "      <td>1</td>\n",
       "      <td>19344</td>\n",
       "      <td>142799</td>\n",
       "      <td>3.0</td>\n",
       "      <td>Male</td>\n",
       "      <td>92</td>\n",
       "      <td>1.0</td>\n",
       "      <td>3.0</td>\n",
       "      <td>Healthcare Representative</td>\n",
       "      <td>4</td>\n",
       "      <td>Single</td>\n",
       "      <td>10883</td>\n",
       "      <td>20467.0</td>\n",
       "      <td>3.0</td>\n",
       "      <td>Y</td>\n",
       "      <td>No</td>\n",
       "      <td>20</td>\n",
       "      <td>4.0</td>\n",
       "      <td>3.0</td>\n",
       "      <td>80.0</td>\n",
       "      <td>1.0</td>\n",
       "      <td>20.0</td>\n",
       "      <td>2.0</td>\n",
       "      <td>3.0</td>\n",
       "      <td>20.0</td>\n",
       "      <td>7.0</td>\n",
       "      <td>2.0</td>\n",
       "      <td>13.0</td>\n",
       "      <td>Company Website</td>\n",
       "    </tr>\n",
       "    <tr>\n",
       "      <th>23432</th>\n",
       "      <td>60.0</td>\n",
       "      <td>Current employee</td>\n",
       "      <td>Travel_Rarely</td>\n",
       "      <td>370.0</td>\n",
       "      <td>Research &amp; Development</td>\n",
       "      <td>1</td>\n",
       "      <td>4.0</td>\n",
       "      <td>Life Sciences</td>\n",
       "      <td>1</td>\n",
       "      <td>19345</td>\n",
       "      <td>142800</td>\n",
       "      <td>3.0</td>\n",
       "      <td>Male</td>\n",
       "      <td>92</td>\n",
       "      <td>1.0</td>\n",
       "      <td>3.0</td>\n",
       "      <td>Healthcare Representative</td>\n",
       "      <td>4</td>\n",
       "      <td>Divorced</td>\n",
       "      <td>10883</td>\n",
       "      <td>20467.0</td>\n",
       "      <td>0.0</td>\n",
       "      <td>Y</td>\n",
       "      <td>No</td>\n",
       "      <td>20</td>\n",
       "      <td>4.0</td>\n",
       "      <td>3.0</td>\n",
       "      <td>80.0</td>\n",
       "      <td>1.0</td>\n",
       "      <td>19.0</td>\n",
       "      <td>2.0</td>\n",
       "      <td>4.0</td>\n",
       "      <td>1.0</td>\n",
       "      <td>0.0</td>\n",
       "      <td>0.0</td>\n",
       "      <td>0.0</td>\n",
       "      <td>Company Website</td>\n",
       "    </tr>\n",
       "  </tbody>\n",
       "</table>\n",
       "<p>23204 rows × 37 columns</p>\n",
       "</div>"
      ],
      "text/plain": [
       "        Age              Attrition BusinessTravel  DailyRate  \\\n",
       "0      41.0  Voluntary Resignation  Travel_Rarely     1102.0   \n",
       "1      41.0  Voluntary Resignation  Travel_Rarely     1102.0   \n",
       "2      41.0  Voluntary Resignation  Travel_Rarely     1102.0   \n",
       "3      41.0  Voluntary Resignation  Travel_Rarely     1102.0   \n",
       "4      41.0  Voluntary Resignation  Travel_Rarely     1102.0   \n",
       "...     ...                    ...            ...        ...   \n",
       "23428  60.0       Current employee  Travel_Rarely      370.0   \n",
       "23429  60.0       Current employee  Travel_Rarely      370.0   \n",
       "23430  60.0       Current employee  Travel_Rarely      370.0   \n",
       "23431  60.0       Current employee  Travel_Rarely      370.0   \n",
       "23432  60.0       Current employee  Travel_Rarely      370.0   \n",
       "\n",
       "                   Department DistanceFromHome  Education EducationField  \\\n",
       "0                       Sales                1        2.0  Life Sciences   \n",
       "1                       Sales                1        2.0  Life Sciences   \n",
       "2                       Sales                1        2.0  Life Sciences   \n",
       "3                       Sales                1        2.0  Life Sciences   \n",
       "4                       Sales                1        2.0  Life Sciences   \n",
       "...                       ...              ...        ...            ...   \n",
       "23428  Research & Development                1        4.0  Life Sciences   \n",
       "23429  Research & Development                1        4.0        Medical   \n",
       "23430  Research & Development                1        4.0  Life Sciences   \n",
       "23431  Research & Development                1        4.0        Medical   \n",
       "23432  Research & Development                1        4.0  Life Sciences   \n",
       "\n",
       "      EmployeeCount EmployeeNumber Application ID  EnvironmentSatisfaction  \\\n",
       "0                 1              1         123456                      2.0   \n",
       "1                 1              1         123458                      2.0   \n",
       "2                 1              7         123462                      2.0   \n",
       "3                 1              8         123463                      2.0   \n",
       "4                 1              9         123464                      2.0   \n",
       "...             ...            ...            ...                      ...   \n",
       "23428             1          19337         142792                      3.0   \n",
       "23429             1          19338         142793                      3.0   \n",
       "23430             1          19340         142795                      3.0   \n",
       "23431             1          19344         142799                      3.0   \n",
       "23432             1          19345         142800                      3.0   \n",
       "\n",
       "       Gender HourlyRate  JobInvolvement  JobLevel                    JobRole  \\\n",
       "0      Female         94             3.0       2.0            Sales Executive   \n",
       "1      Female         94             3.0       2.0            Sales Executive   \n",
       "2      Female         94             3.0       2.0            Sales Executive   \n",
       "3      Female         94             3.0       2.0            Sales Executive   \n",
       "4      Female         94             3.0       2.0            Sales Executive   \n",
       "...       ...        ...             ...       ...                        ...   \n",
       "23428    Male         92             1.0       3.0  Healthcare Representative   \n",
       "23429    Male         92             1.0       3.0  Healthcare Representative   \n",
       "23430    Male         92             1.0       3.0  Healthcare Representative   \n",
       "23431    Male         92             1.0       3.0  Healthcare Representative   \n",
       "23432    Male         92             1.0       3.0  Healthcare Representative   \n",
       "\n",
       "      JobSatisfaction MaritalStatus MonthlyIncome  MonthlyRate  \\\n",
       "0                   4        Single          5993      19479.0   \n",
       "1                   4        Single          5993      19479.0   \n",
       "2                   4        Single          5993      19479.0   \n",
       "3                   4        Single          5993      19479.0   \n",
       "4                   4        Single          5993      19479.0   \n",
       "...               ...           ...           ...          ...   \n",
       "23428               4      Divorced         10883      20467.0   \n",
       "23429               4      Divorced         10883      20467.0   \n",
       "23430               4      Divorced         10883      20467.0   \n",
       "23431               4        Single         10883      20467.0   \n",
       "23432               4      Divorced         10883      20467.0   \n",
       "\n",
       "       NumCompaniesWorked Over18 OverTime PercentSalaryHike  \\\n",
       "0                     8.0      Y      Yes                11   \n",
       "1                     4.0      Y      Yes                11   \n",
       "2                     8.0      Y      Yes                11   \n",
       "3                     4.0      Y      Yes                11   \n",
       "4                     8.0      Y      Yes                11   \n",
       "...                   ...    ...      ...               ...   \n",
       "23428                 0.0      Y       No                20   \n",
       "23429                 3.0      Y       No                20   \n",
       "23430                 0.0      Y       No                20   \n",
       "23431                 3.0      Y       No                20   \n",
       "23432                 0.0      Y       No                20   \n",
       "\n",
       "       PerformanceRating  RelationshipSatisfaction  StandardHours  \\\n",
       "0                    3.0                       1.0           80.0   \n",
       "1                    3.0                       1.0           80.0   \n",
       "2                    3.0                       1.0           80.0   \n",
       "3                    3.0                       1.0           80.0   \n",
       "4                    3.0                       1.0           80.0   \n",
       "...                  ...                       ...            ...   \n",
       "23428                4.0                       3.0           80.0   \n",
       "23429                3.0                       3.0           80.0   \n",
       "23430                3.0                       3.0           80.0   \n",
       "23431                4.0                       3.0           80.0   \n",
       "23432                4.0                       3.0           80.0   \n",
       "\n",
       "       StockOptionLevel  TotalWorkingYears  TrainingTimesLastYear  \\\n",
       "0                   0.0                8.0                    0.0   \n",
       "1                   0.0                8.0                    0.0   \n",
       "2                   0.0                8.0                    0.0   \n",
       "3                   0.0                8.0                    0.0   \n",
       "4                   0.0                8.0                    0.0   \n",
       "...                 ...                ...                    ...   \n",
       "23428               1.0               19.0                    2.0   \n",
       "23429               1.0               19.0                    2.0   \n",
       "23430               1.0               19.0                    2.0   \n",
       "23431               1.0               20.0                    2.0   \n",
       "23432               1.0               19.0                    2.0   \n",
       "\n",
       "       WorkLifeBalance  YearsAtCompany  YearsInCurrentRole  \\\n",
       "0                  1.0             6.0                 4.0   \n",
       "1                  1.0             6.0                 4.0   \n",
       "2                  1.0             6.0                 4.0   \n",
       "3                  1.0             6.0                 4.0   \n",
       "4                  1.0             6.0                 4.0   \n",
       "...                ...             ...                 ...   \n",
       "23428              4.0             1.0                 0.0   \n",
       "23429              4.0             1.0                 0.0   \n",
       "23430              4.0             1.0                 0.0   \n",
       "23431              3.0            20.0                 7.0   \n",
       "23432              4.0             1.0                 0.0   \n",
       "\n",
       "       YearsSinceLastPromotion  YearsWithCurrManager  Employee Source  \n",
       "0                          0.0                   5.0         Referral  \n",
       "1                          0.0                   5.0         Referral  \n",
       "2                          0.0                   5.0         Referral  \n",
       "3                          0.0                   5.0         Referral  \n",
       "4                          0.0                   5.0         Referral  \n",
       "...                        ...                   ...              ...  \n",
       "23428                      0.0                   0.0  Company Website  \n",
       "23429                      0.0                   0.0  Company Website  \n",
       "23430                      0.0                   0.0  Company Website  \n",
       "23431                      2.0                  13.0  Company Website  \n",
       "23432                      0.0                   0.0  Company Website  \n",
       "\n",
       "[23204 rows x 37 columns]"
      ]
     },
     "execution_count": 12,
     "metadata": {},
     "output_type": "execute_result"
    }
   ],
   "source": [
    "# Removing duplicated rows\n",
    "data_attrition_dup = data_attrition[~ (data_attrition.duplicated(subset=None, keep='first') == 'True')]\n",
    "data_attrition_dup                                    "
   ]
  },
  {
   "cell_type": "code",
   "execution_count": 13,
   "metadata": {},
   "outputs": [
    {
     "data": {
      "text/plain": [
       "(23190, 37)"
      ]
     },
     "execution_count": 13,
     "metadata": {},
     "output_type": "execute_result"
    }
   ],
   "source": [
    "data_attrition.drop_duplicates(keep='first',inplace=True)\n",
    "data_attrition.shape"
   ]
  },
  {
   "cell_type": "code",
   "execution_count": 15,
   "metadata": {},
   "outputs": [
    {
     "name": "stdout",
     "output_type": "stream",
     "text": [
      "<class 'pandas.core.frame.DataFrame'>\n",
      "Int64Index: 23190 entries, 0 to 23432\n",
      "Data columns (total 37 columns):\n",
      " #   Column                    Non-Null Count  Dtype  \n",
      "---  ------                    --------------  -----  \n",
      " 0   Age                       23190 non-null  float64\n",
      " 1   Attrition                 23190 non-null  object \n",
      " 2   BusinessTravel            23190 non-null  object \n",
      " 3   DailyRate                 23190 non-null  float64\n",
      " 4   Department                23190 non-null  object \n",
      " 5   DistanceFromHome          23190 non-null  object \n",
      " 6   Education                 23190 non-null  float64\n",
      " 7   EducationField            23190 non-null  object \n",
      " 8   EmployeeCount             23190 non-null  object \n",
      " 9   EmployeeNumber            23190 non-null  object \n",
      " 10  Application ID            23190 non-null  object \n",
      " 11  EnvironmentSatisfaction   23190 non-null  float64\n",
      " 12  Gender                    23190 non-null  object \n",
      " 13  HourlyRate                23190 non-null  object \n",
      " 14  JobInvolvement            23190 non-null  float64\n",
      " 15  JobLevel                  23190 non-null  float64\n",
      " 16  JobRole                   23190 non-null  object \n",
      " 17  JobSatisfaction           23190 non-null  object \n",
      " 18  MaritalStatus             23190 non-null  object \n",
      " 19  MonthlyIncome             23190 non-null  object \n",
      " 20  MonthlyRate               23190 non-null  float64\n",
      " 21  NumCompaniesWorked        23190 non-null  float64\n",
      " 22  Over18                    23190 non-null  object \n",
      " 23  OverTime                  23190 non-null  object \n",
      " 24  PercentSalaryHike         23190 non-null  object \n",
      " 25  PerformanceRating         23190 non-null  float64\n",
      " 26  RelationshipSatisfaction  23190 non-null  float64\n",
      " 27  StandardHours             23190 non-null  float64\n",
      " 28  StockOptionLevel          23190 non-null  float64\n",
      " 29  TotalWorkingYears         23190 non-null  float64\n",
      " 30  TrainingTimesLastYear     23190 non-null  float64\n",
      " 31  WorkLifeBalance           23190 non-null  float64\n",
      " 32  YearsAtCompany            23190 non-null  float64\n",
      " 33  YearsInCurrentRole        23190 non-null  float64\n",
      " 34  YearsSinceLastPromotion   23190 non-null  float64\n",
      " 35  YearsWithCurrManager      23190 non-null  float64\n",
      " 36  Employee Source           23190 non-null  object \n",
      "dtypes: float64(19), object(18)\n",
      "memory usage: 6.7+ MB\n"
     ]
    }
   ],
   "source": [
    "data_attrition.info()"
   ]
  },
  {
   "cell_type": "code",
   "execution_count": 16,
   "metadata": {},
   "outputs": [
    {
     "data": {
      "text/plain": [
       "Attrition            object\n",
       "BusinessTravel       object\n",
       "Department           object\n",
       "DistanceFromHome     object\n",
       "EducationField       object\n",
       "EmployeeCount        object\n",
       "EmployeeNumber       object\n",
       "Application ID       object\n",
       "Gender               object\n",
       "HourlyRate           object\n",
       "JobRole              object\n",
       "JobSatisfaction      object\n",
       "MaritalStatus        object\n",
       "MonthlyIncome        object\n",
       "Over18               object\n",
       "OverTime             object\n",
       "PercentSalaryHike    object\n",
       "Employee Source      object\n",
       "dtype: object"
      ]
     },
     "execution_count": 16,
     "metadata": {},
     "output_type": "execute_result"
    }
   ],
   "source": [
    "data_attrition.select_dtypes(include=['object']).dtypes # Checking number of categorical columns"
   ]
  },
  {
   "cell_type": "code",
   "execution_count": 17,
   "metadata": {},
   "outputs": [
    {
     "data": {
      "text/plain": [
       "23244    6\n",
       "6325     5\n",
       "10442    5\n",
       "35       4\n",
       "9568     4\n",
       "10024    4\n",
       "13411    3\n",
       "12686    3\n",
       "17031    3\n",
       "12078    3\n",
       "11470    3\n",
       "1        3\n",
       "1294     2\n",
       "15848    2\n",
       "1560     2\n",
       "14705    2\n",
       "800      2\n",
       "3538     2\n",
       "126      2\n",
       "21567    2\n",
       "19050    2\n",
       "177      2\n",
       "2396     2\n",
       "5064     2\n",
       "20308    2\n",
       "2092     2\n",
       "1826     2\n",
       "903      1\n",
       "10470    1\n",
       "7051     1\n",
       "5642     1\n",
       "21518    1\n",
       "6638     1\n",
       "20480    1\n",
       "514      1\n",
       "22928    1\n",
       "13566    1\n",
       "5961     1\n",
       "13090    1\n",
       "20485    1\n",
       "10515    1\n",
       "21629    1\n",
       "164      1\n",
       "16871    1\n",
       "19449    1\n",
       "7324     1\n",
       "5726     1\n",
       "2697     1\n",
       "5644     1\n",
       "6529     1\n",
       "3726     1\n",
       "5097     1\n",
       "20965    1\n",
       "17632    1\n",
       "5606     1\n",
       "10259    1\n",
       "10717    1\n",
       "15245    1\n",
       "1365     1\n",
       "17885    1\n",
       "275      1\n",
       "15134    1\n",
       "8115     1\n",
       "11455    1\n",
       "21987    1\n",
       "13823    1\n",
       "17932    1\n",
       "23319    1\n",
       "2375     1\n",
       "8674     1\n",
       "11065    1\n",
       "14357    1\n",
       "23032    1\n",
       "9888     1\n",
       "7923     1\n",
       "2119     1\n",
       "13221    1\n",
       "10311    1\n",
       "22469    1\n",
       "22967    1\n",
       "21785    1\n",
       "4771     1\n",
       "3345     1\n",
       "609      1\n",
       "491      1\n",
       "4907     1\n",
       "17574    1\n",
       "5683     1\n",
       "14313    1\n",
       "3361     1\n",
       "649      1\n",
       "13020    1\n",
       "4779     1\n",
       "13236    1\n",
       "7159     1\n",
       "13627    1\n",
       "12214    1\n",
       "4946     1\n",
       "18363    1\n",
       "15896    1\n",
       "4238     1\n",
       "2949     1\n",
       "1185     1\n",
       "10720    1\n",
       "10177    1\n",
       "8745     1\n",
       "8294     1\n",
       "8917     1\n",
       "13230    1\n",
       "13021    1\n",
       "9508     1\n",
       "11322    1\n",
       "23109    1\n",
       "2560     1\n",
       "15538    1\n",
       "8843     1\n",
       "20263    1\n",
       "22573    1\n",
       "14970    1\n",
       "20763    1\n",
       "159      1\n",
       "18574    1\n",
       "3909     1\n",
       "20406    1\n",
       "8668     1\n",
       "21498    1\n",
       "14687    1\n",
       "12840    1\n",
       "4072     1\n",
       "16771    1\n",
       "4122     1\n",
       "11272    1\n",
       "18608    1\n",
       "11604    1\n",
       "20136    1\n",
       "19811    1\n",
       "22905    1\n",
       "11317    1\n",
       "12705    1\n",
       "21693    1\n",
       "21978    1\n",
       "12881    1\n",
       "11746    1\n",
       "20112    1\n",
       "2790     1\n",
       "15167    1\n",
       "17473    1\n",
       "5366     1\n",
       "8385     1\n",
       "3374     1\n",
       "18099    1\n",
       "6509     1\n",
       "10086    1\n",
       "2221     1\n",
       "7469     1\n",
       "17120    1\n",
       "22069    1\n",
       "19101    1\n",
       "22871    1\n",
       "16773    1\n",
       "23373    1\n",
       "6366     1\n",
       "12546    1\n",
       "12453    1\n",
       "9250     1\n",
       "2469     1\n",
       "16548    1\n",
       "20836    1\n",
       "22068    1\n",
       "5805     1\n",
       "5225     1\n",
       "11434    1\n",
       "19815    1\n",
       "1975     1\n",
       "4767     1\n",
       "23335    1\n",
       "3192     1\n",
       "18591    1\n",
       "214      1\n",
       "9215     1\n",
       "15066    1\n",
       "7604     1\n",
       "13660    1\n",
       "19748    1\n",
       "22049    1\n",
       "515      1\n",
       "17381    1\n",
       "22724    1\n",
       "829      1\n",
       "390      1\n",
       "8415     1\n",
       "13161    1\n",
       "18420    1\n",
       "336      1\n",
       "15040    1\n",
       "18390    1\n",
       "4711     1\n",
       "2683     1\n",
       "22172    1\n",
       "11542    1\n",
       "Name: EmployeeNumber, dtype: int64"
      ]
     },
     "execution_count": 17,
     "metadata": {},
     "output_type": "execute_result"
    }
   ],
   "source": [
    "# EmployeeNumber column has high cardinality and hence will not help in modeling\n",
    "data_attrition['EmployeeNumber'].value_counts()[:200] "
   ]
  },
  {
   "cell_type": "code",
   "execution_count": 18,
   "metadata": {},
   "outputs": [
    {
     "data": {
      "text/plain": [
       "133859      1\n",
       "141550.0    1\n",
       "141552.0    1\n",
       "146669      1\n",
       "141554.0    1\n",
       "           ..\n",
       "124315      1\n",
       "146820      1\n",
       "131214      1\n",
       "127469      1\n",
       "131616      1\n",
       "Name: Application ID, Length: 23190, dtype: int64"
      ]
     },
     "execution_count": 18,
     "metadata": {},
     "output_type": "execute_result"
    }
   ],
   "source": [
    "# Application ID column has high cardinality and hence will not help in modeling\n",
    "data_attrition['Application ID'].value_counts()"
   ]
  },
  {
   "cell_type": "code",
   "execution_count": 19,
   "metadata": {},
   "outputs": [
    {
     "data": {
      "text/plain": [
       "Travel_Rarely        16443\n",
       "Travel_Frequently     4376\n",
       "Non-Travel            2371\n",
       "Name: BusinessTravel, dtype: int64"
      ]
     },
     "execution_count": 19,
     "metadata": {},
     "output_type": "execute_result"
    }
   ],
   "source": [
    "data_attrition['BusinessTravel'].value_counts()"
   ]
  },
  {
   "cell_type": "code",
   "execution_count": 20,
   "metadata": {},
   "outputs": [
    {
     "data": {
      "text/plain": [
       "Research & Development    15125\n",
       "Sales                      7056\n",
       "Human Resources            1009\n",
       "Name: Department, dtype: int64"
      ]
     },
     "execution_count": 20,
     "metadata": {},
     "output_type": "execute_result"
    }
   ],
   "source": [
    "data_attrition['Department'].value_counts()"
   ]
  },
  {
   "cell_type": "code",
   "execution_count": 22,
   "metadata": {},
   "outputs": [
    {
     "data": {
      "text/plain": [
       "1       2380\n",
       "2       2063\n",
       "2.0     1239\n",
       "3       1022\n",
       "10       978\n",
       "7        967\n",
       "9        952\n",
       "8        925\n",
       "1.0      897\n",
       "5        803\n",
       "4        694\n",
       "6        681\n",
       "10.0     381\n",
       "9.0      373\n",
       "7.0      363\n",
       "16       353\n",
       "8.0      345\n",
       "11       335\n",
       "3.0      324\n",
       "23       324\n",
       "4.0      320\n",
       "24       320\n",
       "15       295\n",
       "18       287\n",
       "13       272\n",
       "6.0      257\n",
       "19       255\n",
       "25       250\n",
       "29       238\n",
       "20       238\n",
       "21       238\n",
       "17       223\n",
       "5.0      220\n",
       "22       219\n",
       "26.0     217\n",
       "28       207\n",
       "12       193\n",
       "29.0     191\n",
       "14       190\n",
       "26       178\n",
       "28.0     156\n",
       "16.0     147\n",
       "27       147\n",
       "14.0     143\n",
       "25.0     140\n",
       "12.0     137\n",
       "20.0     137\n",
       "18.0     131\n",
       "11.0     126\n",
       "15.0     121\n",
       "24.0     110\n",
       "23.0     104\n",
       "19.0      96\n",
       "22.0      85\n",
       "17.0      77\n",
       "21.0      47\n",
       "27.0      47\n",
       "13.0      32\n",
       "Name: DistanceFromHome, dtype: int64"
      ]
     },
     "execution_count": 22,
     "metadata": {},
     "output_type": "execute_result"
    }
   ],
   "source": [
    "data_attrition['DistanceFromHome'].value_counts()"
   ]
  },
  {
   "cell_type": "code",
   "execution_count": 23,
   "metadata": {},
   "outputs": [
    {
     "data": {
      "text/plain": [
       "array(['1', '12', '20', '2', '4', '5', '22', '3', '10', '9', '14', '6',\n",
       "       '19', '7', '23', '28', '8', '18', '11', '21', '25', '16', '13',\n",
       "       '24', '27', '15', '26', '29', '17', 21.0, 5.0, 10.0, 9.0, 23.0,\n",
       "       1.0, 2.0, 15.0, 29.0, 27.0, 3.0, 4.0, 26.0, 14.0, 16.0, 22.0, 18.0,\n",
       "       6.0, 12.0, 25.0, 24.0, 20.0, 7.0, 8.0, 17.0, 28.0, 11.0, 19.0,\n",
       "       13.0], dtype=object)"
      ]
     },
     "execution_count": 23,
     "metadata": {},
     "output_type": "execute_result"
    }
   ],
   "source": [
    "data_attrition['DistanceFromHome'].unique()"
   ]
  },
  {
   "cell_type": "code",
   "execution_count": 24,
   "metadata": {},
   "outputs": [
    {
     "data": {
      "text/plain": [
       "23244    6\n",
       "6325     5\n",
       "10442    5\n",
       "35       4\n",
       "9568     4\n",
       "        ..\n",
       "17518    1\n",
       "2411     1\n",
       "20228    1\n",
       "14448    1\n",
       "11790    1\n",
       "Name: EmployeeNumber, Length: 23141, dtype: int64"
      ]
     },
     "execution_count": 24,
     "metadata": {},
     "output_type": "execute_result"
    }
   ],
   "source": [
    "data_attrition['EmployeeNumber'].value_counts()"
   ]
  },
  {
   "cell_type": "code",
   "execution_count": 25,
   "metadata": {},
   "outputs": [
    {
     "data": {
      "text/plain": [
       "35.0    1218\n",
       "34.0    1210\n",
       "36.0    1101\n",
       "31.0    1079\n",
       "29.0    1073\n",
       "32.0     956\n",
       "30.0     950\n",
       "38.0     941\n",
       "33.0     917\n",
       "40.0     871\n",
       "37.0     791\n",
       "27.0     772\n",
       "28.0     752\n",
       "42.0     734\n",
       "39.0     659\n",
       "45.0     644\n",
       "41.0     640\n",
       "26.0     598\n",
       "44.0     525\n",
       "46.0     518\n",
       "43.0     511\n",
       "50.0     477\n",
       "24.0     416\n",
       "25.0     411\n",
       "47.0     383\n",
       "49.0     382\n",
       "55.0     328\n",
       "53.0     308\n",
       "48.0     301\n",
       "51.0     301\n",
       "52.0     287\n",
       "54.0     285\n",
       "22.0     257\n",
       "58.0     223\n",
       "23.0     223\n",
       "56.0     220\n",
       "21.0     208\n",
       "20.0     174\n",
       "59.0     148\n",
       "19.0     130\n",
       "18.0     127\n",
       "60.0      80\n",
       "57.0      61\n",
       "Name: Age, dtype: int64"
      ]
     },
     "execution_count": 25,
     "metadata": {},
     "output_type": "execute_result"
    }
   ],
   "source": [
    "data_attrition['Age'].value_counts()"
   ]
  },
  {
   "cell_type": "code",
   "execution_count": 26,
   "metadata": {},
   "outputs": [
    {
     "data": {
      "text/plain": [
       "array([41., 37., 18., 34., 24., 39., 30., 31., 20., 26., 25., 28., 36.,\n",
       "       29., 27., 32., 50., 48., 53., 56., 51., 46., 19., 35., 33., 58.,\n",
       "       47., 44., 21., 45., 38., 23., 22., 40., 52., 42., 49., 55., 43.,\n",
       "       59., 54., 57., 60.])"
      ]
     },
     "execution_count": 26,
     "metadata": {},
     "output_type": "execute_result"
    }
   ],
   "source": [
    "data_attrition['Age'].unique()"
   ]
  },
  {
   "cell_type": "code",
   "execution_count": 27,
   "metadata": {},
   "outputs": [
    {
     "data": {
      "text/plain": [
       "23244    6\n",
       "6325     5\n",
       "10442    5\n",
       "35       4\n",
       "9568     4\n",
       "        ..\n",
       "17518    1\n",
       "2411     1\n",
       "20228    1\n",
       "14448    1\n",
       "11790    1\n",
       "Name: EmployeeNumber, Length: 23141, dtype: int64"
      ]
     },
     "execution_count": 27,
     "metadata": {},
     "output_type": "execute_result"
    }
   ],
   "source": [
    "data_attrition['EmployeeNumber'].value_counts()"
   ]
  },
  {
   "cell_type": "code",
   "execution_count": 28,
   "metadata": {},
   "outputs": [
    {
     "data": {
      "text/plain": [
       "array(['94', '33', '41', '39', '49', '70', '50', '56', '54', '66', '57',\n",
       "       '65', '82', '95', '87', '37', '81', '80', '38', '42', '43', '96',\n",
       "       '91', '44', '45', '46', '75', '36', '88', '52', '53', '62', '60',\n",
       "       '73', '59', '61', '64', '55', '71', '72', '77', '32', '40', '90',\n",
       "       '84', '85', '76', '35', '93', '31', '98', '34', '92', '63', '51',\n",
       "       '89', '58', '30', '100', '47', '83', '48', '69', '67', '68', '74',\n",
       "       '78', '79', '86', '97', '99'], dtype=object)"
      ]
     },
     "execution_count": 28,
     "metadata": {},
     "output_type": "execute_result"
    }
   ],
   "source": [
    "data_attrition['HourlyRate'].unique()"
   ]
  },
  {
   "cell_type": "code",
   "execution_count": 29,
   "metadata": {},
   "outputs": [
    {
     "data": {
      "text/plain": [
       "3.0    7142\n",
       "4.0    7038\n",
       "1.0    4524\n",
       "2.0    4486\n",
       "Name: EnvironmentSatisfaction, dtype: int64"
      ]
     },
     "execution_count": 29,
     "metadata": {},
     "output_type": "execute_result"
    }
   ],
   "source": [
    "data_attrition['EnvironmentSatisfaction'].value_counts()"
   ]
  },
  {
   "cell_type": "code",
   "execution_count": 30,
   "metadata": {},
   "outputs": [
    {
     "data": {
      "text/plain": [
       "array(['Sales Executive', 'Manager', 'Research Director',\n",
       "       'Sales Representative', 'Laboratory Technician',\n",
       "       'Research Scientist', 'Manufacturing Director',\n",
       "       'Healthcare Representative', 'Human Resources'], dtype=object)"
      ]
     },
     "execution_count": 30,
     "metadata": {},
     "output_type": "execute_result"
    }
   ],
   "source": [
    "data_attrition['JobRole'].unique()"
   ]
  },
  {
   "cell_type": "code",
   "execution_count": 31,
   "metadata": {},
   "outputs": [
    {
     "data": {
      "text/plain": [
       "array(['4', '3', '1', '2'], dtype=object)"
      ]
     },
     "execution_count": 31,
     "metadata": {},
     "output_type": "execute_result"
    }
   ],
   "source": [
    "data_attrition['JobSatisfaction'].unique()"
   ]
  },
  {
   "cell_type": "code",
   "execution_count": 32,
   "metadata": {},
   "outputs": [
    {
     "data": {
      "text/plain": [
       "2342     66\n",
       "2559     54\n",
       "2741     48\n",
       "2610     48\n",
       "2380     48\n",
       "         ..\n",
       "7260      8\n",
       "10306     8\n",
       "19658     8\n",
       "9991      8\n",
       "4559      7\n",
       "Name: MonthlyIncome, Length: 1349, dtype: int64"
      ]
     },
     "execution_count": 32,
     "metadata": {},
     "output_type": "execute_result"
    }
   ],
   "source": [
    "data_attrition['MonthlyIncome'].value_counts()"
   ]
  },
  {
   "cell_type": "code",
   "execution_count": 33,
   "metadata": {},
   "outputs": [
    {
     "data": {
      "text/plain": [
       "No     16626\n",
       "Yes     6564\n",
       "Name: OverTime, dtype: int64"
      ]
     },
     "execution_count": 33,
     "metadata": {},
     "output_type": "execute_result"
    }
   ],
   "source": [
    "data_attrition['OverTime'].value_counts()"
   ]
  },
  {
   "cell_type": "code",
   "execution_count": 34,
   "metadata": {},
   "outputs": [
    {
     "data": {
      "text/plain": [
       "array(['11', '14', '12', '22', '18', '13', '17', '23', '20', '19', '16',\n",
       "       '15', '21', '24', '25'], dtype=object)"
      ]
     },
     "execution_count": 34,
     "metadata": {},
     "output_type": "execute_result"
    }
   ],
   "source": [
    "data_attrition['PercentSalaryHike'].unique()"
   ]
  },
  {
   "cell_type": "code",
   "execution_count": 36,
   "metadata": {},
   "outputs": [
    {
     "data": {
      "text/plain": [
       "array(['Referral', 'Company Website', 'Indeed', 'GlassDoor', 'LinkedIn',\n",
       "       'Adzuna', 'Seek', 'Recruit.net', 'Jora', 'Test'], dtype=object)"
      ]
     },
     "execution_count": 36,
     "metadata": {},
     "output_type": "execute_result"
    }
   ],
   "source": [
    "data_attrition['Employee Source'].unique()"
   ]
  },
  {
   "cell_type": "code",
   "execution_count": 37,
   "metadata": {},
   "outputs": [
    {
     "name": "stdout",
     "output_type": "stream",
     "text": [
      "<class 'pandas.core.frame.DataFrame'>\n",
      "Int64Index: 23190 entries, 0 to 23432\n",
      "Data columns (total 37 columns):\n",
      " #   Column                    Non-Null Count  Dtype  \n",
      "---  ------                    --------------  -----  \n",
      " 0   Age                       23190 non-null  float64\n",
      " 1   Attrition                 23190 non-null  object \n",
      " 2   BusinessTravel            23190 non-null  object \n",
      " 3   DailyRate                 23190 non-null  float64\n",
      " 4   Department                23190 non-null  object \n",
      " 5   DistanceFromHome          23190 non-null  object \n",
      " 6   Education                 23190 non-null  float64\n",
      " 7   EducationField            23190 non-null  object \n",
      " 8   EmployeeCount             23190 non-null  object \n",
      " 9   EmployeeNumber            23190 non-null  object \n",
      " 10  Application ID            23190 non-null  object \n",
      " 11  EnvironmentSatisfaction   23190 non-null  float64\n",
      " 12  Gender                    23190 non-null  object \n",
      " 13  HourlyRate                23190 non-null  object \n",
      " 14  JobInvolvement            23190 non-null  float64\n",
      " 15  JobLevel                  23190 non-null  float64\n",
      " 16  JobRole                   23190 non-null  object \n",
      " 17  JobSatisfaction           23190 non-null  object \n",
      " 18  MaritalStatus             23190 non-null  object \n",
      " 19  MonthlyIncome             23190 non-null  object \n",
      " 20  MonthlyRate               23190 non-null  float64\n",
      " 21  NumCompaniesWorked        23190 non-null  float64\n",
      " 22  Over18                    23190 non-null  object \n",
      " 23  OverTime                  23190 non-null  object \n",
      " 24  PercentSalaryHike         23190 non-null  object \n",
      " 25  PerformanceRating         23190 non-null  float64\n",
      " 26  RelationshipSatisfaction  23190 non-null  float64\n",
      " 27  StandardHours             23190 non-null  float64\n",
      " 28  StockOptionLevel          23190 non-null  float64\n",
      " 29  TotalWorkingYears         23190 non-null  float64\n",
      " 30  TrainingTimesLastYear     23190 non-null  float64\n",
      " 31  WorkLifeBalance           23190 non-null  float64\n",
      " 32  YearsAtCompany            23190 non-null  float64\n",
      " 33  YearsInCurrentRole        23190 non-null  float64\n",
      " 34  YearsSinceLastPromotion   23190 non-null  float64\n",
      " 35  YearsWithCurrManager      23190 non-null  float64\n",
      " 36  Employee Source           23190 non-null  object \n",
      "dtypes: float64(19), object(18)\n",
      "memory usage: 6.7+ MB\n"
     ]
    }
   ],
   "source": [
    "data_attrition.info()"
   ]
  },
  {
   "cell_type": "markdown",
   "metadata": {},
   "source": [
    "### Pandas Pre-Profiling report shows the two columns EmployeeCount, Application ID to be unsupported.\n",
    "### Since all the employees are over 18, dropping it. Standard hours is a constant and hence it has been dropped."
   ]
  },
  {
   "cell_type": "code",
   "execution_count": 38,
   "metadata": {},
   "outputs": [],
   "source": [
    "# Dropping columns which have high cardinality and have high corelation will not help in improving model\n",
    "data_attrition.drop(['EmployeeCount', 'EmployeeNumber', 'Application ID', 'StandardHours', 'Over18', 'YearsAtCompany', 'YearsWithCurrManager', 'JobLevel'], axis=1, inplace=True)"
   ]
  },
  {
   "cell_type": "code",
   "execution_count": 39,
   "metadata": {},
   "outputs": [
    {
     "data": {
      "image/png": "[encoded data removed]",
      "text/plain": [
       "<Figure size 432x288 with 1 Axes>"
      ]
     },
     "metadata": {
      "needs_background": "light"
     },
     "output_type": "display_data"
    }
   ],
   "source": [
    "sns.distplot(data_attrition['Age'],hist=True,kde=True,color='b',bins=10);"
   ]
  },
  {
   "cell_type": "code",
   "execution_count": 40,
   "metadata": {},
   "outputs": [
    {
     "data": {
      "text/plain": [
       "Current employee         19527\n",
       "Voluntary Resignation     3663\n",
       "Name: Attrition, dtype: int64"
      ]
     },
     "execution_count": 40,
     "metadata": {},
     "output_type": "execute_result"
    }
   ],
   "source": [
    "data_attrition['Attrition'].value_counts()"
   ]
  },
  {
   "cell_type": "code",
   "execution_count": 41,
   "metadata": {},
   "outputs": [
    {
     "data": {
      "image/png": "[encoded data removed]",
      "text/plain": [
       "<Figure size 432x288 with 1 Axes>"
      ]
     },
     "metadata": {
      "needs_background": "light"
     },
     "output_type": "display_data"
    }
   ],
   "source": [
    "sns.countplot(x='Attrition',data=data_attrition,hue='Gender');"
   ]
  },
  {
   "cell_type": "markdown",
   "metadata": {},
   "source": [
    "### The above histogram depicts that attrition of Male is high"
   ]
  },
  {
   "cell_type": "code",
   "execution_count": 42,
   "metadata": {},
   "outputs": [
    {
     "data": {
      "text/plain": [
       "Travel_Rarely        16443\n",
       "Travel_Frequently     4376\n",
       "Non-Travel            2371\n",
       "Name: BusinessTravel, dtype: int64"
      ]
     },
     "execution_count": 42,
     "metadata": {},
     "output_type": "execute_result"
    }
   ],
   "source": [
    "data_attrition['BusinessTravel'].value_counts()"
   ]
  },
  {
   "cell_type": "code",
   "execution_count": 43,
   "metadata": {},
   "outputs": [
    {
     "data": {
      "image/png": "[encoded data removed]",
      "text/plain": [
       "<Figure size 432x288 with 1 Axes>"
      ]
     },
     "metadata": {
      "needs_background": "light"
     },
     "output_type": "display_data"
    }
   ],
   "source": [
    "sns.countplot(x='BusinessTravel',data=data_attrition,hue='Attrition');"
   ]
  },
  {
   "cell_type": "markdown",
   "metadata": {},
   "source": [
    "### The above histogram depicts that attrition is high for ones who rarely trevelled."
   ]
  },
  {
   "cell_type": "code",
   "execution_count": 44,
   "metadata": {},
   "outputs": [
    {
     "data": {
      "text/html": [
       "<div>\n",
       "<style scoped>\n",
       "    .dataframe tbody tr th:only-of-type {\n",
       "        vertical-align: middle;\n",
       "    }\n",
       "\n",
       "    .dataframe tbody tr th {\n",
       "        vertical-align: top;\n",
       "    }\n",
       "\n",
       "    .dataframe thead th {\n",
       "        text-align: right;\n",
       "    }\n",
       "</style>\n",
       "<table border=\"1\" class=\"dataframe\">\n",
       "  <thead>\n",
       "    <tr style=\"text-align: right;\">\n",
       "      <th></th>\n",
       "      <th>Age</th>\n",
       "      <th>DailyRate</th>\n",
       "      <th>Education</th>\n",
       "      <th>EnvironmentSatisfaction</th>\n",
       "      <th>JobInvolvement</th>\n",
       "      <th>MonthlyRate</th>\n",
       "      <th>NumCompaniesWorked</th>\n",
       "      <th>PerformanceRating</th>\n",
       "      <th>RelationshipSatisfaction</th>\n",
       "      <th>StockOptionLevel</th>\n",
       "      <th>TotalWorkingYears</th>\n",
       "      <th>TrainingTimesLastYear</th>\n",
       "      <th>WorkLifeBalance</th>\n",
       "      <th>YearsInCurrentRole</th>\n",
       "      <th>YearsSinceLastPromotion</th>\n",
       "    </tr>\n",
       "  </thead>\n",
       "  <tbody>\n",
       "    <tr>\n",
       "      <th>Age</th>\n",
       "      <td>1.000000</td>\n",
       "      <td>0.012778</td>\n",
       "      <td>0.209577</td>\n",
       "      <td>-0.005118</td>\n",
       "      <td>-0.005552</td>\n",
       "      <td>0.036192</td>\n",
       "      <td>0.035073</td>\n",
       "      <td>-0.007806</td>\n",
       "      <td>0.015963</td>\n",
       "      <td>0.006576</td>\n",
       "      <td>0.325684</td>\n",
       "      <td>0.000090</td>\n",
       "      <td>-0.003373</td>\n",
       "      <td>0.099685</td>\n",
       "      <td>0.099153</td>\n",
       "    </tr>\n",
       "    <tr>\n",
       "      <th>DailyRate</th>\n",
       "      <td>0.012778</td>\n",
       "      <td>1.000000</td>\n",
       "      <td>-0.019011</td>\n",
       "      <td>0.005777</td>\n",
       "      <td>0.010538</td>\n",
       "      <td>-0.013757</td>\n",
       "      <td>0.017166</td>\n",
       "      <td>0.010069</td>\n",
       "      <td>-0.008017</td>\n",
       "      <td>0.012023</td>\n",
       "      <td>-0.000218</td>\n",
       "      <td>-0.025568</td>\n",
       "      <td>-0.033629</td>\n",
       "      <td>-0.019449</td>\n",
       "      <td>-0.034171</td>\n",
       "    </tr>\n",
       "    <tr>\n",
       "      <th>Education</th>\n",
       "      <td>0.209577</td>\n",
       "      <td>-0.019011</td>\n",
       "      <td>1.000000</td>\n",
       "      <td>-0.028119</td>\n",
       "      <td>0.021088</td>\n",
       "      <td>-0.004689</td>\n",
       "      <td>0.029360</td>\n",
       "      <td>-0.006218</td>\n",
       "      <td>-0.022006</td>\n",
       "      <td>0.018450</td>\n",
       "      <td>0.071316</td>\n",
       "      <td>-0.005303</td>\n",
       "      <td>0.007677</td>\n",
       "      <td>0.042978</td>\n",
       "      <td>0.034850</td>\n",
       "    </tr>\n",
       "    <tr>\n",
       "      <th>EnvironmentSatisfaction</th>\n",
       "      <td>-0.005118</td>\n",
       "      <td>0.005777</td>\n",
       "      <td>-0.028119</td>\n",
       "      <td>1.000000</td>\n",
       "      <td>-0.016484</td>\n",
       "      <td>0.025315</td>\n",
       "      <td>0.000470</td>\n",
       "      <td>-0.007348</td>\n",
       "      <td>-0.029997</td>\n",
       "      <td>0.027023</td>\n",
       "      <td>-0.011930</td>\n",
       "      <td>-0.006182</td>\n",
       "      <td>0.015176</td>\n",
       "      <td>-0.004403</td>\n",
       "      <td>-0.000128</td>\n",
       "    </tr>\n",
       "    <tr>\n",
       "      <th>JobInvolvement</th>\n",
       "      <td>-0.005552</td>\n",
       "      <td>0.010538</td>\n",
       "      <td>0.021088</td>\n",
       "      <td>-0.016484</td>\n",
       "      <td>1.000000</td>\n",
       "      <td>-0.010767</td>\n",
       "      <td>0.001678</td>\n",
       "      <td>-0.016613</td>\n",
       "      <td>0.031520</td>\n",
       "      <td>0.018607</td>\n",
       "      <td>-0.008086</td>\n",
       "      <td>-0.013211</td>\n",
       "      <td>-0.013012</td>\n",
       "      <td>0.003037</td>\n",
       "      <td>-0.024431</td>\n",
       "    </tr>\n",
       "    <tr>\n",
       "      <th>MonthlyRate</th>\n",
       "      <td>0.036192</td>\n",
       "      <td>-0.013757</td>\n",
       "      <td>-0.004689</td>\n",
       "      <td>0.025315</td>\n",
       "      <td>-0.010767</td>\n",
       "      <td>1.000000</td>\n",
       "      <td>0.003427</td>\n",
       "      <td>0.005161</td>\n",
       "      <td>-0.007338</td>\n",
       "      <td>-0.005832</td>\n",
       "      <td>0.026477</td>\n",
       "      <td>0.000741</td>\n",
       "      <td>0.006247</td>\n",
       "      <td>-0.009750</td>\n",
       "      <td>0.006475</td>\n",
       "    </tr>\n",
       "    <tr>\n",
       "      <th>NumCompaniesWorked</th>\n",
       "      <td>0.035073</td>\n",
       "      <td>0.017166</td>\n",
       "      <td>0.029360</td>\n",
       "      <td>0.000470</td>\n",
       "      <td>0.001678</td>\n",
       "      <td>0.003427</td>\n",
       "      <td>1.000000</td>\n",
       "      <td>-0.024038</td>\n",
       "      <td>0.010856</td>\n",
       "      <td>0.004972</td>\n",
       "      <td>0.016138</td>\n",
       "      <td>-0.016524</td>\n",
       "      <td>0.015747</td>\n",
       "      <td>-0.080013</td>\n",
       "      <td>-0.045023</td>\n",
       "    </tr>\n",
       "    <tr>\n",
       "      <th>PerformanceRating</th>\n",
       "      <td>-0.007806</td>\n",
       "      <td>0.010069</td>\n",
       "      <td>-0.006218</td>\n",
       "      <td>-0.007348</td>\n",
       "      <td>-0.016613</td>\n",
       "      <td>0.005161</td>\n",
       "      <td>-0.024038</td>\n",
       "      <td>1.000000</td>\n",
       "      <td>-0.017584</td>\n",
       "      <td>-0.001536</td>\n",
       "      <td>0.014182</td>\n",
       "      <td>-0.012367</td>\n",
       "      <td>-0.007765</td>\n",
       "      <td>0.029847</td>\n",
       "      <td>0.015853</td>\n",
       "    </tr>\n",
       "    <tr>\n",
       "      <th>RelationshipSatisfaction</th>\n",
       "      <td>0.015963</td>\n",
       "      <td>-0.008017</td>\n",
       "      <td>-0.022006</td>\n",
       "      <td>-0.029997</td>\n",
       "      <td>0.031520</td>\n",
       "      <td>-0.007338</td>\n",
       "      <td>0.010856</td>\n",
       "      <td>-0.017584</td>\n",
       "      <td>1.000000</td>\n",
       "      <td>-0.044878</td>\n",
       "      <td>0.023685</td>\n",
       "      <td>0.004911</td>\n",
       "      <td>0.017962</td>\n",
       "      <td>-0.018927</td>\n",
       "      <td>0.032206</td>\n",
       "    </tr>\n",
       "    <tr>\n",
       "      <th>StockOptionLevel</th>\n",
       "      <td>0.006576</td>\n",
       "      <td>0.012023</td>\n",
       "      <td>0.018450</td>\n",
       "      <td>0.027023</td>\n",
       "      <td>0.018607</td>\n",
       "      <td>-0.005832</td>\n",
       "      <td>0.004972</td>\n",
       "      <td>-0.001536</td>\n",
       "      <td>-0.044878</td>\n",
       "      <td>1.000000</td>\n",
       "      <td>0.008390</td>\n",
       "      <td>0.010856</td>\n",
       "      <td>0.002505</td>\n",
       "      <td>0.051014</td>\n",
       "      <td>0.016607</td>\n",
       "    </tr>\n",
       "    <tr>\n",
       "      <th>TotalWorkingYears</th>\n",
       "      <td>0.325684</td>\n",
       "      <td>-0.000218</td>\n",
       "      <td>0.071316</td>\n",
       "      <td>-0.011930</td>\n",
       "      <td>-0.008086</td>\n",
       "      <td>0.026477</td>\n",
       "      <td>0.016138</td>\n",
       "      <td>0.014182</td>\n",
       "      <td>0.023685</td>\n",
       "      <td>0.008390</td>\n",
       "      <td>1.000000</td>\n",
       "      <td>-0.033403</td>\n",
       "      <td>0.004023</td>\n",
       "      <td>0.458720</td>\n",
       "      <td>0.402715</td>\n",
       "    </tr>\n",
       "    <tr>\n",
       "      <th>TrainingTimesLastYear</th>\n",
       "      <td>0.000090</td>\n",
       "      <td>-0.025568</td>\n",
       "      <td>-0.005303</td>\n",
       "      <td>-0.006182</td>\n",
       "      <td>-0.013211</td>\n",
       "      <td>0.000741</td>\n",
       "      <td>-0.016524</td>\n",
       "      <td>-0.012367</td>\n",
       "      <td>0.004911</td>\n",
       "      <td>0.010856</td>\n",
       "      <td>-0.033403</td>\n",
       "      <td>1.000000</td>\n",
       "      <td>0.027889</td>\n",
       "      <td>-0.005178</td>\n",
       "      <td>-0.001604</td>\n",
       "    </tr>\n",
       "    <tr>\n",
       "      <th>WorkLifeBalance</th>\n",
       "      <td>-0.003373</td>\n",
       "      <td>-0.033629</td>\n",
       "      <td>0.007677</td>\n",
       "      <td>0.015176</td>\n",
       "      <td>-0.013012</td>\n",
       "      <td>0.006247</td>\n",
       "      <td>0.015747</td>\n",
       "      <td>-0.007765</td>\n",
       "      <td>0.017962</td>\n",
       "      <td>0.002505</td>\n",
       "      <td>0.004023</td>\n",
       "      <td>0.027889</td>\n",
       "      <td>1.000000</td>\n",
       "      <td>0.050271</td>\n",
       "      <td>0.006179</td>\n",
       "    </tr>\n",
       "    <tr>\n",
       "      <th>YearsInCurrentRole</th>\n",
       "      <td>0.099685</td>\n",
       "      <td>-0.019449</td>\n",
       "      <td>0.042978</td>\n",
       "      <td>-0.004403</td>\n",
       "      <td>0.003037</td>\n",
       "      <td>-0.009750</td>\n",
       "      <td>-0.080013</td>\n",
       "      <td>0.029847</td>\n",
       "      <td>-0.018927</td>\n",
       "      <td>0.051014</td>\n",
       "      <td>0.458720</td>\n",
       "      <td>-0.005178</td>\n",
       "      <td>0.050271</td>\n",
       "      <td>1.000000</td>\n",
       "      <td>0.543321</td>\n",
       "    </tr>\n",
       "    <tr>\n",
       "      <th>YearsSinceLastPromotion</th>\n",
       "      <td>0.099153</td>\n",
       "      <td>-0.034171</td>\n",
       "      <td>0.034850</td>\n",
       "      <td>-0.000128</td>\n",
       "      <td>-0.024431</td>\n",
       "      <td>0.006475</td>\n",
       "      <td>-0.045023</td>\n",
       "      <td>0.015853</td>\n",
       "      <td>0.032206</td>\n",
       "      <td>0.016607</td>\n",
       "      <td>0.402715</td>\n",
       "      <td>-0.001604</td>\n",
       "      <td>0.006179</td>\n",
       "      <td>0.543321</td>\n",
       "      <td>1.000000</td>\n",
       "    </tr>\n",
       "  </tbody>\n",
       "</table>\n",
       "</div>"
      ],
      "text/plain": [
       "                               Age  DailyRate  Education  \\\n",
       "Age                       1.000000   0.012778   0.209577   \n",
       "DailyRate                 0.012778   1.000000  -0.019011   \n",
       "Education                 0.209577  -0.019011   1.000000   \n",
       "EnvironmentSatisfaction  -0.005118   0.005777  -0.028119   \n",
       "JobInvolvement           -0.005552   0.010538   0.021088   \n",
       "MonthlyRate               0.036192  -0.013757  -0.004689   \n",
       "NumCompaniesWorked        0.035073   0.017166   0.029360   \n",
       "PerformanceRating        -0.007806   0.010069  -0.006218   \n",
       "RelationshipSatisfaction  0.015963  -0.008017  -0.022006   \n",
       "StockOptionLevel          0.006576   0.012023   0.018450   \n",
       "TotalWorkingYears         0.325684  -0.000218   0.071316   \n",
       "TrainingTimesLastYear     0.000090  -0.025568  -0.005303   \n",
       "WorkLifeBalance          -0.003373  -0.033629   0.007677   \n",
       "YearsInCurrentRole        0.099685  -0.019449   0.042978   \n",
       "YearsSinceLastPromotion   0.099153  -0.034171   0.034850   \n",
       "\n",
       "                          EnvironmentSatisfaction  JobInvolvement  \\\n",
       "Age                                     -0.005118       -0.005552   \n",
       "DailyRate                                0.005777        0.010538   \n",
       "Education                               -0.028119        0.021088   \n",
       "EnvironmentSatisfaction                  1.000000       -0.016484   \n",
       "JobInvolvement                          -0.016484        1.000000   \n",
       "MonthlyRate                              0.025315       -0.010767   \n",
       "NumCompaniesWorked                       0.000470        0.001678   \n",
       "PerformanceRating                       -0.007348       -0.016613   \n",
       "RelationshipSatisfaction                -0.029997        0.031520   \n",
       "StockOptionLevel                         0.027023        0.018607   \n",
       "TotalWorkingYears                       -0.011930       -0.008086   \n",
       "TrainingTimesLastYear                   -0.006182       -0.013211   \n",
       "WorkLifeBalance                          0.015176       -0.013012   \n",
       "YearsInCurrentRole                      -0.004403        0.003037   \n",
       "YearsSinceLastPromotion                 -0.000128       -0.024431   \n",
       "\n",
       "                          MonthlyRate  NumCompaniesWorked  PerformanceRating  \\\n",
       "Age                          0.036192            0.035073          -0.007806   \n",
       "DailyRate                   -0.013757            0.017166           0.010069   \n",
       "Education                   -0.004689            0.029360          -0.006218   \n",
       "EnvironmentSatisfaction      0.025315            0.000470          -0.007348   \n",
       "JobInvolvement              -0.010767            0.001678          -0.016613   \n",
       "MonthlyRate                  1.000000            0.003427           0.005161   \n",
       "NumCompaniesWorked           0.003427            1.000000          -0.024038   \n",
       "PerformanceRating            0.005161           -0.024038           1.000000   \n",
       "RelationshipSatisfaction    -0.007338            0.010856          -0.017584   \n",
       "StockOptionLevel            -0.005832            0.004972          -0.001536   \n",
       "TotalWorkingYears            0.026477            0.016138           0.014182   \n",
       "TrainingTimesLastYear        0.000741           -0.016524          -0.012367   \n",
       "WorkLifeBalance              0.006247            0.015747          -0.007765   \n",
       "YearsInCurrentRole          -0.009750           -0.080013           0.029847   \n",
       "YearsSinceLastPromotion      0.006475           -0.045023           0.015853   \n",
       "\n",
       "                          RelationshipSatisfaction  StockOptionLevel  \\\n",
       "Age                                       0.015963          0.006576   \n",
       "DailyRate                                -0.008017          0.012023   \n",
       "Education                                -0.022006          0.018450   \n",
       "EnvironmentSatisfaction                  -0.029997          0.027023   \n",
       "JobInvolvement                            0.031520          0.018607   \n",
       "MonthlyRate                              -0.007338         -0.005832   \n",
       "NumCompaniesWorked                        0.010856          0.004972   \n",
       "PerformanceRating                        -0.017584         -0.001536   \n",
       "RelationshipSatisfaction                  1.000000         -0.044878   \n",
       "StockOptionLevel                         -0.044878          1.000000   \n",
       "TotalWorkingYears                         0.023685          0.008390   \n",
       "TrainingTimesLastYear                     0.004911          0.010856   \n",
       "WorkLifeBalance                           0.017962          0.002505   \n",
       "YearsInCurrentRole                       -0.018927          0.051014   \n",
       "YearsSinceLastPromotion                   0.032206          0.016607   \n",
       "\n",
       "                          TotalWorkingYears  TrainingTimesLastYear  \\\n",
       "Age                                0.325684               0.000090   \n",
       "DailyRate                         -0.000218              -0.025568   \n",
       "Education                          0.071316              -0.005303   \n",
       "EnvironmentSatisfaction           -0.011930              -0.006182   \n",
       "JobInvolvement                    -0.008086              -0.013211   \n",
       "MonthlyRate                        0.026477               0.000741   \n",
       "NumCompaniesWorked                 0.016138              -0.016524   \n",
       "PerformanceRating                  0.014182              -0.012367   \n",
       "RelationshipSatisfaction           0.023685               0.004911   \n",
       "StockOptionLevel                   0.008390               0.010856   \n",
       "TotalWorkingYears                  1.000000              -0.033403   \n",
       "TrainingTimesLastYear             -0.033403               1.000000   \n",
       "WorkLifeBalance                    0.004023               0.027889   \n",
       "YearsInCurrentRole                 0.458720              -0.005178   \n",
       "YearsSinceLastPromotion            0.402715              -0.001604   \n",
       "\n",
       "                          WorkLifeBalance  YearsInCurrentRole  \\\n",
       "Age                             -0.003373            0.099685   \n",
       "DailyRate                       -0.033629           -0.019449   \n",
       "Education                        0.007677            0.042978   \n",
       "EnvironmentSatisfaction          0.015176           -0.004403   \n",
       "JobInvolvement                  -0.013012            0.003037   \n",
       "MonthlyRate                      0.006247           -0.009750   \n",
       "NumCompaniesWorked               0.015747           -0.080013   \n",
       "PerformanceRating               -0.007765            0.029847   \n",
       "RelationshipSatisfaction         0.017962           -0.018927   \n",
       "StockOptionLevel                 0.002505            0.051014   \n",
       "TotalWorkingYears                0.004023            0.458720   \n",
       "TrainingTimesLastYear            0.027889           -0.005178   \n",
       "WorkLifeBalance                  1.000000            0.050271   \n",
       "YearsInCurrentRole               0.050271            1.000000   \n",
       "YearsSinceLastPromotion          0.006179            0.543321   \n",
       "\n",
       "                          YearsSinceLastPromotion  \n",
       "Age                                      0.099153  \n",
       "DailyRate                               -0.034171  \n",
       "Education                                0.034850  \n",
       "EnvironmentSatisfaction                 -0.000128  \n",
       "JobInvolvement                          -0.024431  \n",
       "MonthlyRate                              0.006475  \n",
       "NumCompaniesWorked                      -0.045023  \n",
       "PerformanceRating                        0.015853  \n",
       "RelationshipSatisfaction                 0.032206  \n",
       "StockOptionLevel                         0.016607  \n",
       "TotalWorkingYears                        0.402715  \n",
       "TrainingTimesLastYear                   -0.001604  \n",
       "WorkLifeBalance                          0.006179  \n",
       "YearsInCurrentRole                       0.543321  \n",
       "YearsSinceLastPromotion                  1.000000  "
      ]
     },
     "execution_count": 44,
     "metadata": {},
     "output_type": "execute_result"
    }
   ],
   "source": [
    "data_attrition.corr() # Co-relation"
   ]
  },
  {
   "cell_type": "code",
   "execution_count": 45,
   "metadata": {},
   "outputs": [
    {
     "data": {
      "image/png": "[encoded data removed]",
      "text/plain": [
       "<Figure size 1080x1080 with 2 Axes>"
      ]
     },
     "metadata": {
      "needs_background": "light"
     },
     "output_type": "display_data"
    }
   ],
   "source": [
    "data_attrition_correlation = data_attrition.corr()\n",
    "plt.figure(figsize =(15,15))\n",
    "sns.heatmap(data_attrition_correlation,vmax=1, linewidth=.01, square=True, annot=True, cmap='YlGnBu', linecolor='black')\n",
    "plt.title('Corelation between features')\n",
    "plt.show()\n"
   ]
  },
  {
   "cell_type": "code",
   "execution_count": 46,
   "metadata": {},
   "outputs": [
    {
     "data": {
      "text/plain": [
       "(23190, 29)"
      ]
     },
     "execution_count": 46,
     "metadata": {},
     "output_type": "execute_result"
    }
   ],
   "source": [
    "data_attrition.shape # No. of Columns after dropping the unimportant columns"
   ]
  },
  {
   "cell_type": "code",
   "execution_count": 47,
   "metadata": {},
   "outputs": [
    {
     "data": {
      "image/png": "[encoded data removed]",
      "text/plain": [
       "<Figure size 998.125x864 with 1 Axes>"
      ]
     },
     "metadata": {
      "needs_background": "light"
     },
     "output_type": "display_data"
    }
   ],
   "source": [
    "sns.catplot(x='TotalWorkingYears',hue='Attrition',data=data_attrition,kind='count',height=12);"
   ]
  },
  {
   "cell_type": "markdown",
   "metadata": {},
   "source": [
    "### Employees having experience of 10 years and below have high attrition."
   ]
  },
  {
   "cell_type": "code",
   "execution_count": 48,
   "metadata": {},
   "outputs": [
    {
     "data": {
      "image/png": "[encoded data removed]",
      "text/plain": [
       "<Figure size 854.125x720 with 1 Axes>"
      ]
     },
     "metadata": {
      "needs_background": "light"
     },
     "output_type": "display_data"
    }
   ],
   "source": [
    "sns.catplot(x='YearsInCurrentRole',hue='Attrition',data=data_attrition,kind='count',height=10);"
   ]
  },
  {
   "cell_type": "markdown",
   "metadata": {},
   "source": [
    "### The most attritions are for employees worked in same role for 2 years and gradually decreases after 5."
   ]
  },
  {
   "cell_type": "code",
   "execution_count": 49,
   "metadata": {},
   "outputs": [
    {
     "data": {
      "image/png": "[encoded data removed]",
      "text/plain": [
       "<Figure size 854.125x720 with 1 Axes>"
      ]
     },
     "metadata": {
      "needs_background": "light"
     },
     "output_type": "display_data"
    }
   ],
   "source": [
    "sns.catplot(x='YearsSinceLastPromotion',hue='Attrition',data=data_attrition,kind='count',height=10);"
   ]
  },
  {
   "cell_type": "markdown",
   "metadata": {},
   "source": [
    "### Employees worked upto two years have high attrition."
   ]
  },
  {
   "cell_type": "code",
   "execution_count": 50,
   "metadata": {},
   "outputs": [
    {
     "name": "stdout",
     "output_type": "stream",
     "text": [
      "<class 'pandas.core.frame.DataFrame'>\n",
      "Int64Index: 23190 entries, 0 to 23432\n",
      "Data columns (total 29 columns):\n",
      " #   Column                    Non-Null Count  Dtype  \n",
      "---  ------                    --------------  -----  \n",
      " 0   Age                       23190 non-null  float64\n",
      " 1   Attrition                 23190 non-null  object \n",
      " 2   BusinessTravel            23190 non-null  object \n",
      " 3   DailyRate                 23190 non-null  float64\n",
      " 4   Department                23190 non-null  object \n",
      " 5   DistanceFromHome          23190 non-null  object \n",
      " 6   Education                 23190 non-null  float64\n",
      " 7   EducationField            23190 non-null  object \n",
      " 8   EnvironmentSatisfaction   23190 non-null  float64\n",
      " 9   Gender                    23190 non-null  object \n",
      " 10  HourlyRate                23190 non-null  object \n",
      " 11  JobInvolvement            23190 non-null  float64\n",
      " 12  JobRole                   23190 non-null  object \n",
      " 13  JobSatisfaction           23190 non-null  object \n",
      " 14  MaritalStatus             23190 non-null  object \n",
      " 15  MonthlyIncome             23190 non-null  object \n",
      " 16  MonthlyRate               23190 non-null  float64\n",
      " 17  NumCompaniesWorked        23190 non-null  float64\n",
      " 18  OverTime                  23190 non-null  object \n",
      " 19  PercentSalaryHike         23190 non-null  object \n",
      " 20  PerformanceRating         23190 non-null  float64\n",
      " 21  RelationshipSatisfaction  23190 non-null  float64\n",
      " 22  StockOptionLevel          23190 non-null  float64\n",
      " 23  TotalWorkingYears         23190 non-null  float64\n",
      " 24  TrainingTimesLastYear     23190 non-null  float64\n",
      " 25  WorkLifeBalance           23190 non-null  float64\n",
      " 26  YearsInCurrentRole        23190 non-null  float64\n",
      " 27  YearsSinceLastPromotion   23190 non-null  float64\n",
      " 28  Employee Source           23190 non-null  object \n",
      "dtypes: float64(15), object(14)\n",
      "memory usage: 5.9+ MB\n"
     ]
    }
   ],
   "source": [
    "data_attrition.info()"
   ]
  },
  {
   "cell_type": "markdown",
   "metadata": {},
   "source": [
    "### Conversion of some categorical columns to Numerical."
   ]
  },
  {
   "cell_type": "code",
   "execution_count": 51,
   "metadata": {},
   "outputs": [],
   "source": [
    "data_attrition['DistanceFromHome']=data_attrition['DistanceFromHome'].astype('int')\n",
    "data_attrition['Age']=data_attrition['Age'].astype('int')\n",
    "data_attrition['HourlyRate']=data_attrition['HourlyRate'].astype('int')\n",
    "data_attrition['MonthlyIncome']=data_attrition['MonthlyIncome'].astype('int')\n",
    "data_attrition['PercentSalaryHike']=data_attrition['PercentSalaryHike'].astype('int')"
   ]
  },
  {
   "cell_type": "code",
   "execution_count": 52,
   "metadata": {},
   "outputs": [
    {
     "data": {
      "text/plain": [
       "Attrition          object\n",
       "BusinessTravel     object\n",
       "Department         object\n",
       "EducationField     object\n",
       "Gender             object\n",
       "JobRole            object\n",
       "JobSatisfaction    object\n",
       "MaritalStatus      object\n",
       "OverTime           object\n",
       "Employee Source    object\n",
       "dtype: object"
      ]
     },
     "execution_count": 52,
     "metadata": {},
     "output_type": "execute_result"
    }
   ],
   "source": [
    "data_attrition.select_dtypes(include=['object']).dtypes"
   ]
  },
  {
   "cell_type": "code",
   "execution_count": 53,
   "metadata": {},
   "outputs": [],
   "source": [
    "# Label Encoding \n",
    "from sklearn.preprocessing import LabelEncoder # Importing Label Encoder\n",
    "le=LabelEncoder()  "
   ]
  },
  {
   "cell_type": "code",
   "execution_count": 54,
   "metadata": {},
   "outputs": [],
   "source": [
    "# Fitting data\n",
    "data_attrition['Attrition']=le.fit_transform(data_attrition['Attrition'])\n",
    "data_attrition['BusinessTravel']=le.fit_transform(data_attrition['BusinessTravel'])\n",
    "data_attrition['Department']=le.fit_transform(data_attrition['Department'])\n",
    "data_attrition['EducationField']=le.fit_transform(data_attrition['EducationField'])\n",
    "data_attrition['Gender']=le.fit_transform(data_attrition['Gender'])\n",
    "data_attrition['JobRole']=le.fit_transform(data_attrition['JobRole'])\n",
    "data_attrition['JobSatisfaction']=le.fit_transform(data_attrition['JobSatisfaction'])\n",
    "data_attrition['MaritalStatus']=le.fit_transform(data_attrition['MaritalStatus'])\n",
    "data_attrition['OverTime']=le.fit_transform(data_attrition['OverTime'])\n",
    "data_attrition['Employee Source']=le.fit_transform(data_attrition['Employee Source'])"
   ]
  },
  {
   "cell_type": "code",
   "execution_count": 55,
   "metadata": {},
   "outputs": [
    {
     "data": {
      "text/plain": [
       "count    23190.000000\n",
       "mean         0.157956\n",
       "std          0.364708\n",
       "min          0.000000\n",
       "25%          0.000000\n",
       "50%          0.000000\n",
       "75%          0.000000\n",
       "max          1.000000\n",
       "Name: Attrition, dtype: float64"
      ]
     },
     "execution_count": 55,
     "metadata": {},
     "output_type": "execute_result"
    }
   ],
   "source": [
    "data_attrition['Attrition'].describe() # Checking the descriptive statistics of TV. Its a classification case."
   ]
  },
  {
   "cell_type": "code",
   "execution_count": 56,
   "metadata": {},
   "outputs": [
    {
     "name": "stdout",
     "output_type": "stream",
     "text": [
      "<class 'pandas.core.frame.DataFrame'>\n",
      "Int64Index: 23190 entries, 0 to 23432\n",
      "Data columns (total 29 columns):\n",
      " #   Column                    Non-Null Count  Dtype  \n",
      "---  ------                    --------------  -----  \n",
      " 0   Age                       23190 non-null  int64  \n",
      " 1   Attrition                 23190 non-null  int64  \n",
      " 2   BusinessTravel            23190 non-null  int64  \n",
      " 3   DailyRate                 23190 non-null  float64\n",
      " 4   Department                23190 non-null  int64  \n",
      " 5   DistanceFromHome          23190 non-null  int64  \n",
      " 6   Education                 23190 non-null  float64\n",
      " 7   EducationField            23190 non-null  int64  \n",
      " 8   EnvironmentSatisfaction   23190 non-null  float64\n",
      " 9   Gender                    23190 non-null  int64  \n",
      " 10  HourlyRate                23190 non-null  int64  \n",
      " 11  JobInvolvement            23190 non-null  float64\n",
      " 12  JobRole                   23190 non-null  int64  \n",
      " 13  JobSatisfaction           23190 non-null  int64  \n",
      " 14  MaritalStatus             23190 non-null  int64  \n",
      " 15  MonthlyIncome             23190 non-null  int64  \n",
      " 16  MonthlyRate               23190 non-null  float64\n",
      " 17  NumCompaniesWorked        23190 non-null  float64\n",
      " 18  OverTime                  23190 non-null  int64  \n",
      " 19  PercentSalaryHike         23190 non-null  int64  \n",
      " 20  PerformanceRating         23190 non-null  float64\n",
      " 21  RelationshipSatisfaction  23190 non-null  float64\n",
      " 22  StockOptionLevel          23190 non-null  float64\n",
      " 23  TotalWorkingYears         23190 non-null  float64\n",
      " 24  TrainingTimesLastYear     23190 non-null  float64\n",
      " 25  WorkLifeBalance           23190 non-null  float64\n",
      " 26  YearsInCurrentRole        23190 non-null  float64\n",
      " 27  YearsSinceLastPromotion   23190 non-null  float64\n",
      " 28  Employee Source           23190 non-null  int64  \n",
      "dtypes: float64(14), int64(15)\n",
      "memory usage: 5.9 MB\n"
     ]
    }
   ],
   "source": [
    "data_attrition.info()"
   ]
  },
  {
   "cell_type": "code",
   "execution_count": 57,
   "metadata": {},
   "outputs": [
    {
     "data": {
      "text/plain": [
       "0    19527\n",
       "1     3663\n",
       "Name: Attrition, dtype: int64"
      ]
     },
     "execution_count": 57,
     "metadata": {},
     "output_type": "execute_result"
    }
   ],
   "source": [
    "data_attrition['Attrition'].value_counts()"
   ]
  },
  {
   "cell_type": "code",
   "execution_count": 58,
   "metadata": {},
   "outputs": [
    {
     "data": {
      "text/html": [
       "<div>\n",
       "<style scoped>\n",
       "    .dataframe tbody tr th:only-of-type {\n",
       "        vertical-align: middle;\n",
       "    }\n",
       "\n",
       "    .dataframe tbody tr th {\n",
       "        vertical-align: top;\n",
       "    }\n",
       "\n",
       "    .dataframe thead th {\n",
       "        text-align: right;\n",
       "    }\n",
       "</style>\n",
       "<table border=\"1\" class=\"dataframe\">\n",
       "  <thead>\n",
       "    <tr style=\"text-align: right;\">\n",
       "      <th></th>\n",
       "      <th>Age</th>\n",
       "      <th>Attrition</th>\n",
       "      <th>BusinessTravel</th>\n",
       "      <th>DailyRate</th>\n",
       "      <th>Department</th>\n",
       "      <th>DistanceFromHome</th>\n",
       "      <th>Education</th>\n",
       "      <th>EducationField</th>\n",
       "      <th>EnvironmentSatisfaction</th>\n",
       "      <th>Gender</th>\n",
       "      <th>HourlyRate</th>\n",
       "      <th>JobInvolvement</th>\n",
       "      <th>JobRole</th>\n",
       "      <th>JobSatisfaction</th>\n",
       "      <th>MaritalStatus</th>\n",
       "      <th>MonthlyIncome</th>\n",
       "      <th>MonthlyRate</th>\n",
       "      <th>NumCompaniesWorked</th>\n",
       "      <th>OverTime</th>\n",
       "      <th>PercentSalaryHike</th>\n",
       "      <th>PerformanceRating</th>\n",
       "      <th>RelationshipSatisfaction</th>\n",
       "      <th>StockOptionLevel</th>\n",
       "      <th>TotalWorkingYears</th>\n",
       "      <th>TrainingTimesLastYear</th>\n",
       "      <th>WorkLifeBalance</th>\n",
       "      <th>YearsInCurrentRole</th>\n",
       "      <th>YearsSinceLastPromotion</th>\n",
       "      <th>Employee Source</th>\n",
       "    </tr>\n",
       "  </thead>\n",
       "  <tbody>\n",
       "    <tr>\n",
       "      <th>count</th>\n",
       "      <td>23190.000000</td>\n",
       "      <td>23190.000000</td>\n",
       "      <td>23190.000000</td>\n",
       "      <td>23190.000000</td>\n",
       "      <td>23190.000000</td>\n",
       "      <td>23190.000000</td>\n",
       "      <td>23190.000000</td>\n",
       "      <td>23190.000000</td>\n",
       "      <td>23190.000000</td>\n",
       "      <td>23190.000000</td>\n",
       "      <td>23190.000000</td>\n",
       "      <td>23190.000000</td>\n",
       "      <td>23190.000000</td>\n",
       "      <td>23190.000000</td>\n",
       "      <td>23190.000000</td>\n",
       "      <td>23190.000000</td>\n",
       "      <td>23190.000000</td>\n",
       "      <td>23190.000000</td>\n",
       "      <td>23190.000000</td>\n",
       "      <td>23190.000000</td>\n",
       "      <td>23190.000000</td>\n",
       "      <td>23190.000000</td>\n",
       "      <td>23190.000000</td>\n",
       "      <td>23190.000000</td>\n",
       "      <td>23190.000000</td>\n",
       "      <td>23190.000000</td>\n",
       "      <td>23190.000000</td>\n",
       "      <td>23190.000000</td>\n",
       "      <td>23190.000000</td>\n",
       "    </tr>\n",
       "    <tr>\n",
       "      <th>mean</th>\n",
       "      <td>36.922941</td>\n",
       "      <td>0.157956</td>\n",
       "      <td>1.606813</td>\n",
       "      <td>802.246313</td>\n",
       "      <td>1.260759</td>\n",
       "      <td>9.188486</td>\n",
       "      <td>2.908754</td>\n",
       "      <td>2.242087</td>\n",
       "      <td>2.719879</td>\n",
       "      <td>0.599698</td>\n",
       "      <td>65.857740</td>\n",
       "      <td>2.730574</td>\n",
       "      <td>4.440923</td>\n",
       "      <td>1.727771</td>\n",
       "      <td>1.096809</td>\n",
       "      <td>6507.905520</td>\n",
       "      <td>14302.076757</td>\n",
       "      <td>2.688702</td>\n",
       "      <td>0.283053</td>\n",
       "      <td>15.215265</td>\n",
       "      <td>3.155239</td>\n",
       "      <td>2.713497</td>\n",
       "      <td>0.794437</td>\n",
       "      <td>11.269211</td>\n",
       "      <td>2.798879</td>\n",
       "      <td>2.761665</td>\n",
       "      <td>4.230530</td>\n",
       "      <td>2.182191</td>\n",
       "      <td>3.630185</td>\n",
       "    </tr>\n",
       "    <tr>\n",
       "      <th>std</th>\n",
       "      <td>9.116307</td>\n",
       "      <td>0.364708</td>\n",
       "      <td>0.665654</td>\n",
       "      <td>403.207375</td>\n",
       "      <td>0.528958</td>\n",
       "      <td>8.098394</td>\n",
       "      <td>1.024915</td>\n",
       "      <td>1.329382</td>\n",
       "      <td>1.094924</td>\n",
       "      <td>0.489970</td>\n",
       "      <td>20.335312</td>\n",
       "      <td>0.710093</td>\n",
       "      <td>2.458825</td>\n",
       "      <td>1.101444</td>\n",
       "      <td>0.730066</td>\n",
       "      <td>4706.369675</td>\n",
       "      <td>7100.061799</td>\n",
       "      <td>2.498330</td>\n",
       "      <td>0.450492</td>\n",
       "      <td>3.660005</td>\n",
       "      <td>0.362140</td>\n",
       "      <td>1.080735</td>\n",
       "      <td>0.850685</td>\n",
       "      <td>7.765751</td>\n",
       "      <td>1.289952</td>\n",
       "      <td>0.705312</td>\n",
       "      <td>3.626984</td>\n",
       "      <td>3.215755</td>\n",
       "      <td>2.653754</td>\n",
       "    </tr>\n",
       "    <tr>\n",
       "      <th>min</th>\n",
       "      <td>18.000000</td>\n",
       "      <td>0.000000</td>\n",
       "      <td>0.000000</td>\n",
       "      <td>102.000000</td>\n",
       "      <td>0.000000</td>\n",
       "      <td>1.000000</td>\n",
       "      <td>1.000000</td>\n",
       "      <td>0.000000</td>\n",
       "      <td>1.000000</td>\n",
       "      <td>0.000000</td>\n",
       "      <td>30.000000</td>\n",
       "      <td>1.000000</td>\n",
       "      <td>0.000000</td>\n",
       "      <td>0.000000</td>\n",
       "      <td>0.000000</td>\n",
       "      <td>1009.000000</td>\n",
       "      <td>2094.000000</td>\n",
       "      <td>0.000000</td>\n",
       "      <td>0.000000</td>\n",
       "      <td>11.000000</td>\n",
       "      <td>3.000000</td>\n",
       "      <td>1.000000</td>\n",
       "      <td>0.000000</td>\n",
       "      <td>0.000000</td>\n",
       "      <td>0.000000</td>\n",
       "      <td>1.000000</td>\n",
       "      <td>0.000000</td>\n",
       "      <td>0.000000</td>\n",
       "      <td>0.000000</td>\n",
       "    </tr>\n",
       "    <tr>\n",
       "      <th>25%</th>\n",
       "      <td>30.000000</td>\n",
       "      <td>0.000000</td>\n",
       "      <td>1.000000</td>\n",
       "      <td>465.000000</td>\n",
       "      <td>1.000000</td>\n",
       "      <td>2.000000</td>\n",
       "      <td>2.000000</td>\n",
       "      <td>1.000000</td>\n",
       "      <td>2.000000</td>\n",
       "      <td>0.000000</td>\n",
       "      <td>48.000000</td>\n",
       "      <td>2.000000</td>\n",
       "      <td>2.000000</td>\n",
       "      <td>1.000000</td>\n",
       "      <td>1.000000</td>\n",
       "      <td>2911.000000</td>\n",
       "      <td>8053.000000</td>\n",
       "      <td>1.000000</td>\n",
       "      <td>0.000000</td>\n",
       "      <td>12.000000</td>\n",
       "      <td>3.000000</td>\n",
       "      <td>2.000000</td>\n",
       "      <td>0.000000</td>\n",
       "      <td>6.000000</td>\n",
       "      <td>2.000000</td>\n",
       "      <td>2.000000</td>\n",
       "      <td>2.000000</td>\n",
       "      <td>0.000000</td>\n",
       "      <td>1.000000</td>\n",
       "    </tr>\n",
       "    <tr>\n",
       "      <th>50%</th>\n",
       "      <td>36.000000</td>\n",
       "      <td>0.000000</td>\n",
       "      <td>2.000000</td>\n",
       "      <td>802.000000</td>\n",
       "      <td>1.000000</td>\n",
       "      <td>7.000000</td>\n",
       "      <td>3.000000</td>\n",
       "      <td>2.000000</td>\n",
       "      <td>3.000000</td>\n",
       "      <td>1.000000</td>\n",
       "      <td>66.000000</td>\n",
       "      <td>3.000000</td>\n",
       "      <td>5.000000</td>\n",
       "      <td>2.000000</td>\n",
       "      <td>1.000000</td>\n",
       "      <td>4936.000000</td>\n",
       "      <td>14222.000000</td>\n",
       "      <td>2.000000</td>\n",
       "      <td>0.000000</td>\n",
       "      <td>14.000000</td>\n",
       "      <td>3.000000</td>\n",
       "      <td>3.000000</td>\n",
       "      <td>1.000000</td>\n",
       "      <td>10.000000</td>\n",
       "      <td>3.000000</td>\n",
       "      <td>3.000000</td>\n",
       "      <td>3.000000</td>\n",
       "      <td>1.000000</td>\n",
       "      <td>3.000000</td>\n",
       "    </tr>\n",
       "    <tr>\n",
       "      <th>75%</th>\n",
       "      <td>43.000000</td>\n",
       "      <td>0.000000</td>\n",
       "      <td>2.000000</td>\n",
       "      <td>1157.000000</td>\n",
       "      <td>2.000000</td>\n",
       "      <td>14.000000</td>\n",
       "      <td>4.000000</td>\n",
       "      <td>3.000000</td>\n",
       "      <td>4.000000</td>\n",
       "      <td>1.000000</td>\n",
       "      <td>83.000000</td>\n",
       "      <td>3.000000</td>\n",
       "      <td>7.000000</td>\n",
       "      <td>3.000000</td>\n",
       "      <td>2.000000</td>\n",
       "      <td>8380.000000</td>\n",
       "      <td>20460.000000</td>\n",
       "      <td>4.000000</td>\n",
       "      <td>1.000000</td>\n",
       "      <td>18.000000</td>\n",
       "      <td>3.000000</td>\n",
       "      <td>4.000000</td>\n",
       "      <td>1.000000</td>\n",
       "      <td>15.000000</td>\n",
       "      <td>3.000000</td>\n",
       "      <td>3.000000</td>\n",
       "      <td>7.000000</td>\n",
       "      <td>3.000000</td>\n",
       "      <td>6.000000</td>\n",
       "    </tr>\n",
       "    <tr>\n",
       "      <th>max</th>\n",
       "      <td>60.000000</td>\n",
       "      <td>1.000000</td>\n",
       "      <td>2.000000</td>\n",
       "      <td>1499.000000</td>\n",
       "      <td>2.000000</td>\n",
       "      <td>29.000000</td>\n",
       "      <td>5.000000</td>\n",
       "      <td>6.000000</td>\n",
       "      <td>4.000000</td>\n",
       "      <td>1.000000</td>\n",
       "      <td>100.000000</td>\n",
       "      <td>4.000000</td>\n",
       "      <td>8.000000</td>\n",
       "      <td>3.000000</td>\n",
       "      <td>2.000000</td>\n",
       "      <td>19999.000000</td>\n",
       "      <td>26999.000000</td>\n",
       "      <td>9.000000</td>\n",
       "      <td>1.000000</td>\n",
       "      <td>25.000000</td>\n",
       "      <td>4.000000</td>\n",
       "      <td>4.000000</td>\n",
       "      <td>3.000000</td>\n",
       "      <td>40.000000</td>\n",
       "      <td>6.000000</td>\n",
       "      <td>4.000000</td>\n",
       "      <td>18.000000</td>\n",
       "      <td>15.000000</td>\n",
       "      <td>9.000000</td>\n",
       "    </tr>\n",
       "  </tbody>\n",
       "</table>\n",
       "</div>"
      ],
      "text/plain": [
       "                Age     Attrition  BusinessTravel     DailyRate    Department  \\\n",
       "count  23190.000000  23190.000000    23190.000000  23190.000000  23190.000000   \n",
       "mean      36.922941      0.157956        1.606813    802.246313      1.260759   \n",
       "std        9.116307      0.364708        0.665654    403.207375      0.528958   \n",
       "min       18.000000      0.000000        0.000000    102.000000      0.000000   \n",
       "25%       30.000000      0.000000        1.000000    465.000000      1.000000   \n",
       "50%       36.000000      0.000000        2.000000    802.000000      1.000000   \n",
       "75%       43.000000      0.000000        2.000000   1157.000000      2.000000   \n",
       "max       60.000000      1.000000        2.000000   1499.000000      2.000000   \n",
       "\n",
       "       DistanceFromHome     Education  EducationField  \\\n",
       "count      23190.000000  23190.000000    23190.000000   \n",
       "mean           9.188486      2.908754        2.242087   \n",
       "std            8.098394      1.024915        1.329382   \n",
       "min            1.000000      1.000000        0.000000   \n",
       "25%            2.000000      2.000000        1.000000   \n",
       "50%            7.000000      3.000000        2.000000   \n",
       "75%           14.000000      4.000000        3.000000   \n",
       "max           29.000000      5.000000        6.000000   \n",
       "\n",
       "       EnvironmentSatisfaction        Gender    HourlyRate  JobInvolvement  \\\n",
       "count             23190.000000  23190.000000  23190.000000    23190.000000   \n",
       "mean                  2.719879      0.599698     65.857740        2.730574   \n",
       "std                   1.094924      0.489970     20.335312        0.710093   \n",
       "min                   1.000000      0.000000     30.000000        1.000000   \n",
       "25%                   2.000000      0.000000     48.000000        2.000000   \n",
       "50%                   3.000000      1.000000     66.000000        3.000000   \n",
       "75%                   4.000000      1.000000     83.000000        3.000000   \n",
       "max                   4.000000      1.000000    100.000000        4.000000   \n",
       "\n",
       "            JobRole  JobSatisfaction  MaritalStatus  MonthlyIncome  \\\n",
       "count  23190.000000     23190.000000   23190.000000   23190.000000   \n",
       "mean       4.440923         1.727771       1.096809    6507.905520   \n",
       "std        2.458825         1.101444       0.730066    4706.369675   \n",
       "min        0.000000         0.000000       0.000000    1009.000000   \n",
       "25%        2.000000         1.000000       1.000000    2911.000000   \n",
       "50%        5.000000         2.000000       1.000000    4936.000000   \n",
       "75%        7.000000         3.000000       2.000000    8380.000000   \n",
       "max        8.000000         3.000000       2.000000   19999.000000   \n",
       "\n",
       "        MonthlyRate  NumCompaniesWorked      OverTime  PercentSalaryHike  \\\n",
       "count  23190.000000        23190.000000  23190.000000       23190.000000   \n",
       "mean   14302.076757            2.688702      0.283053          15.215265   \n",
       "std     7100.061799            2.498330      0.450492           3.660005   \n",
       "min     2094.000000            0.000000      0.000000          11.000000   \n",
       "25%     8053.000000            1.000000      0.000000          12.000000   \n",
       "50%    14222.000000            2.000000      0.000000          14.000000   \n",
       "75%    20460.000000            4.000000      1.000000          18.000000   \n",
       "max    26999.000000            9.000000      1.000000          25.000000   \n",
       "\n",
       "       PerformanceRating  RelationshipSatisfaction  StockOptionLevel  \\\n",
       "count       23190.000000              23190.000000      23190.000000   \n",
       "mean            3.155239                  2.713497          0.794437   \n",
       "std             0.362140                  1.080735          0.850685   \n",
       "min             3.000000                  1.000000          0.000000   \n",
       "25%             3.000000                  2.000000          0.000000   \n",
       "50%             3.000000                  3.000000          1.000000   \n",
       "75%             3.000000                  4.000000          1.000000   \n",
       "max             4.000000                  4.000000          3.000000   \n",
       "\n",
       "       TotalWorkingYears  TrainingTimesLastYear  WorkLifeBalance  \\\n",
       "count       23190.000000           23190.000000     23190.000000   \n",
       "mean           11.269211               2.798879         2.761665   \n",
       "std             7.765751               1.289952         0.705312   \n",
       "min             0.000000               0.000000         1.000000   \n",
       "25%             6.000000               2.000000         2.000000   \n",
       "50%            10.000000               3.000000         3.000000   \n",
       "75%            15.000000               3.000000         3.000000   \n",
       "max            40.000000               6.000000         4.000000   \n",
       "\n",
       "       YearsInCurrentRole  YearsSinceLastPromotion  Employee Source  \n",
       "count        23190.000000             23190.000000     23190.000000  \n",
       "mean             4.230530                 2.182191         3.630185  \n",
       "std              3.626984                 3.215755         2.653754  \n",
       "min              0.000000                 0.000000         0.000000  \n",
       "25%              2.000000                 0.000000         1.000000  \n",
       "50%              3.000000                 1.000000         3.000000  \n",
       "75%              7.000000                 3.000000         6.000000  \n",
       "max             18.000000                15.000000         9.000000  "
      ]
     },
     "execution_count": 58,
     "metadata": {},
     "output_type": "execute_result"
    }
   ],
   "source": [
    "# Checking the descriptive statistics post cleaning. Its a clear case of scaling since different columns have different scale of values.\n",
    "data_attrition.describe()"
   ]
  },
  {
   "cell_type": "code",
   "execution_count": 59,
   "metadata": {},
   "outputs": [
    {
     "data": {
      "application/vnd.jupyter.widget-view+json": {
       "model_id": "f453d0aab96b450a9763b13929693033",
       "version_major": 2,
       "version_minor": 0
      },
      "text/plain": [
       "HBox(children=(FloatProgress(value=0.0, description='Summarize dataset', max=44.0, style=ProgressStyle(descrip…"
      ]
     },
     "metadata": {},
     "output_type": "display_data"
    },
    {
     "name": "stdout",
     "output_type": "stream",
     "text": [
      "\n"
     ]
    },
    {
     "data": {
      "application/vnd.jupyter.widget-view+json": {
       "model_id": "7dcd8e3e685b427587007405e5c4991c",
       "version_major": 2,
       "version_minor": 0
      },
      "text/plain": [
       "HBox(children=(FloatProgress(value=0.0, description='Generate report structure', max=1.0, style=ProgressStyle(…"
      ]
     },
     "metadata": {},
     "output_type": "display_data"
    },
    {
     "name": "stdout",
     "output_type": "stream",
     "text": [
      "\n"
     ]
    },
    {
     "data": {
      "application/vnd.jupyter.widget-view+json": {
       "model_id": "8980b524499a46c984836f06604b3155",
       "version_major": 2,
       "version_minor": 0
      },
      "text/plain": [
       "HBox(children=(FloatProgress(value=0.0, description='Render HTML', max=1.0, style=ProgressStyle(description_wi…"
      ]
     },
     "metadata": {},
     "output_type": "display_data"
    },
    {
     "name": "stdout",
     "output_type": "stream",
     "text": [
      "\n"
     ]
    },
    {
     "data": {
      "application/vnd.jupyter.widget-view+json": {
       "model_id": "a096ca7e088d477b8bc5343f96c61d3f",
       "version_major": 2,
       "version_minor": 0
      },
      "text/plain": [
       "HBox(children=(FloatProgress(value=0.0, description='Export report to file', max=1.0, style=ProgressStyle(desc…"
      ]
     },
     "metadata": {},
     "output_type": "display_data"
    },
    {
     "name": "stdout",
     "output_type": "stream",
     "text": [
      "\n"
     ]
    }
   ],
   "source": [
    "#Post-Profile Report to have a feel of the data.\n",
    "pd.options.display.max_columns = None\n",
    "profile = ProfileReport(data_attrition, title='Pandas Post Profiling Report', explorative=True)\n",
    "profile.to_file(\"Attrition_Post_Profile.html\")"
   ]
  },
  {
   "cell_type": "markdown",
   "metadata": {},
   "source": [
    "### Scaling numerical fields using StandardScaler"
   ]
  },
  {
   "cell_type": "code",
   "execution_count": 60,
   "metadata": {},
   "outputs": [],
   "source": [
    "from sklearn.preprocessing import StandardScaler # Importing Standard Scalar \n",
    "sc = StandardScaler()\n",
    "sc.fit(data_attrition) # Fitting with train data\n",
    "data_attrition_sc = sc.transform(data_attrition) # transforming data"
   ]
  },
  {
   "cell_type": "code",
   "execution_count": 61,
   "metadata": {},
   "outputs": [
    {
     "data": {
      "text/plain": [
       "array([1., 3., 4., 2.])"
      ]
     },
     "execution_count": 61,
     "metadata": {},
     "output_type": "execute_result"
    }
   ],
   "source": [
    "data_attrition['RelationshipSatisfaction'].unique()"
   ]
  },
  {
   "cell_type": "markdown",
   "metadata": {},
   "source": [
    "### Dropping columns having constant values."
   ]
  },
  {
   "cell_type": "code",
   "execution_count": 62,
   "metadata": {},
   "outputs": [
    {
     "name": "stdout",
     "output_type": "stream",
     "text": [
      "Number of constant columns to be dropped:  0\n",
      "[]\n"
     ]
    }
   ],
   "source": [
    "drop_cols=[]\n",
    "for cols in data_attrition.columns:\n",
    "    if data_attrition[cols].std()==0:\n",
    "        drop_cols.append(cols)\n",
    "print(\"Number of constant columns to be dropped: \", len(drop_cols))\n",
    "print(drop_cols)\n",
    "data_attrition.drop(drop_cols,axis=1, inplace = True)"
   ]
  },
  {
   "cell_type": "code",
   "execution_count": 63,
   "metadata": {},
   "outputs": [
    {
     "name": "stdout",
     "output_type": "stream",
     "text": [
      "[[ 0.44723671  2.30886906  0.5906904   0.74343916  1.39757348 -1.0111465\n",
      "  -0.88668132 -0.93435424 -0.65748374 -1.22397501  1.38394069  0.37943262\n",
      "   1.04079471  1.1550806   1.23716225 -0.10940845  0.72915349  2.12598476\n",
      "   1.59151084 -1.1517351  -0.4286808  -1.5855267  -0.93389918 -0.42098717\n",
      "  -2.16980025 -2.49776302 -0.06356118 -0.67860827  1.26985661]]\n"
     ]
    }
   ],
   "source": [
    "print(data_attrition_sc[:1])"
   ]
  },
  {
   "cell_type": "code",
   "execution_count": 64,
   "metadata": {},
   "outputs": [
    {
     "data": {
      "text/plain": [
       "(23190, 29)"
      ]
     },
     "execution_count": 64,
     "metadata": {},
     "output_type": "execute_result"
    }
   ],
   "source": [
    "data_attrition.shape"
   ]
  },
  {
   "cell_type": "markdown",
   "metadata": {},
   "source": [
    "### Defining explanatory variables"
   ]
  },
  {
   "cell_type": "code",
   "execution_count": 65,
   "metadata": {},
   "outputs": [
    {
     "data": {
      "text/html": [
       "<div>\n",
       "<style scoped>\n",
       "    .dataframe tbody tr th:only-of-type {\n",
       "        vertical-align: middle;\n",
       "    }\n",
       "\n",
       "    .dataframe tbody tr th {\n",
       "        vertical-align: top;\n",
       "    }\n",
       "\n",
       "    .dataframe thead th {\n",
       "        text-align: right;\n",
       "    }\n",
       "</style>\n",
       "<table border=\"1\" class=\"dataframe\">\n",
       "  <thead>\n",
       "    <tr style=\"text-align: right;\">\n",
       "      <th></th>\n",
       "      <th>Age</th>\n",
       "      <th>BusinessTravel</th>\n",
       "      <th>DailyRate</th>\n",
       "      <th>Department</th>\n",
       "      <th>DistanceFromHome</th>\n",
       "      <th>Education</th>\n",
       "      <th>EducationField</th>\n",
       "      <th>EnvironmentSatisfaction</th>\n",
       "      <th>Gender</th>\n",
       "      <th>HourlyRate</th>\n",
       "      <th>JobInvolvement</th>\n",
       "      <th>JobRole</th>\n",
       "      <th>JobSatisfaction</th>\n",
       "      <th>MaritalStatus</th>\n",
       "      <th>MonthlyIncome</th>\n",
       "      <th>MonthlyRate</th>\n",
       "      <th>NumCompaniesWorked</th>\n",
       "      <th>OverTime</th>\n",
       "      <th>PercentSalaryHike</th>\n",
       "      <th>PerformanceRating</th>\n",
       "      <th>RelationshipSatisfaction</th>\n",
       "      <th>StockOptionLevel</th>\n",
       "      <th>TotalWorkingYears</th>\n",
       "      <th>TrainingTimesLastYear</th>\n",
       "      <th>WorkLifeBalance</th>\n",
       "      <th>YearsInCurrentRole</th>\n",
       "      <th>YearsSinceLastPromotion</th>\n",
       "      <th>Employee Source</th>\n",
       "    </tr>\n",
       "  </thead>\n",
       "  <tbody>\n",
       "    <tr>\n",
       "      <th>0</th>\n",
       "      <td>41</td>\n",
       "      <td>2</td>\n",
       "      <td>1102.0</td>\n",
       "      <td>2</td>\n",
       "      <td>1</td>\n",
       "      <td>2.0</td>\n",
       "      <td>1</td>\n",
       "      <td>2.0</td>\n",
       "      <td>0</td>\n",
       "      <td>94</td>\n",
       "      <td>3.0</td>\n",
       "      <td>7</td>\n",
       "      <td>3</td>\n",
       "      <td>2</td>\n",
       "      <td>5993</td>\n",
       "      <td>19479.0</td>\n",
       "      <td>8.0</td>\n",
       "      <td>1</td>\n",
       "      <td>11</td>\n",
       "      <td>3.0</td>\n",
       "      <td>1.0</td>\n",
       "      <td>0.0</td>\n",
       "      <td>8.0</td>\n",
       "      <td>0.0</td>\n",
       "      <td>1.0</td>\n",
       "      <td>4.0</td>\n",
       "      <td>0.0</td>\n",
       "      <td>7</td>\n",
       "    </tr>\n",
       "    <tr>\n",
       "      <th>1</th>\n",
       "      <td>41</td>\n",
       "      <td>2</td>\n",
       "      <td>1102.0</td>\n",
       "      <td>2</td>\n",
       "      <td>1</td>\n",
       "      <td>2.0</td>\n",
       "      <td>1</td>\n",
       "      <td>2.0</td>\n",
       "      <td>0</td>\n",
       "      <td>94</td>\n",
       "      <td>3.0</td>\n",
       "      <td>7</td>\n",
       "      <td>3</td>\n",
       "      <td>2</td>\n",
       "      <td>5993</td>\n",
       "      <td>19479.0</td>\n",
       "      <td>4.0</td>\n",
       "      <td>1</td>\n",
       "      <td>11</td>\n",
       "      <td>3.0</td>\n",
       "      <td>1.0</td>\n",
       "      <td>0.0</td>\n",
       "      <td>8.0</td>\n",
       "      <td>0.0</td>\n",
       "      <td>1.0</td>\n",
       "      <td>4.0</td>\n",
       "      <td>0.0</td>\n",
       "      <td>7</td>\n",
       "    </tr>\n",
       "    <tr>\n",
       "      <th>2</th>\n",
       "      <td>41</td>\n",
       "      <td>2</td>\n",
       "      <td>1102.0</td>\n",
       "      <td>2</td>\n",
       "      <td>1</td>\n",
       "      <td>2.0</td>\n",
       "      <td>1</td>\n",
       "      <td>2.0</td>\n",
       "      <td>0</td>\n",
       "      <td>94</td>\n",
       "      <td>3.0</td>\n",
       "      <td>7</td>\n",
       "      <td>3</td>\n",
       "      <td>2</td>\n",
       "      <td>5993</td>\n",
       "      <td>19479.0</td>\n",
       "      <td>8.0</td>\n",
       "      <td>1</td>\n",
       "      <td>11</td>\n",
       "      <td>3.0</td>\n",
       "      <td>1.0</td>\n",
       "      <td>0.0</td>\n",
       "      <td>8.0</td>\n",
       "      <td>0.0</td>\n",
       "      <td>1.0</td>\n",
       "      <td>4.0</td>\n",
       "      <td>0.0</td>\n",
       "      <td>7</td>\n",
       "    </tr>\n",
       "    <tr>\n",
       "      <th>3</th>\n",
       "      <td>41</td>\n",
       "      <td>2</td>\n",
       "      <td>1102.0</td>\n",
       "      <td>2</td>\n",
       "      <td>1</td>\n",
       "      <td>2.0</td>\n",
       "      <td>1</td>\n",
       "      <td>2.0</td>\n",
       "      <td>0</td>\n",
       "      <td>94</td>\n",
       "      <td>3.0</td>\n",
       "      <td>7</td>\n",
       "      <td>3</td>\n",
       "      <td>2</td>\n",
       "      <td>5993</td>\n",
       "      <td>19479.0</td>\n",
       "      <td>4.0</td>\n",
       "      <td>1</td>\n",
       "      <td>11</td>\n",
       "      <td>3.0</td>\n",
       "      <td>1.0</td>\n",
       "      <td>0.0</td>\n",
       "      <td>8.0</td>\n",
       "      <td>0.0</td>\n",
       "      <td>1.0</td>\n",
       "      <td>4.0</td>\n",
       "      <td>0.0</td>\n",
       "      <td>7</td>\n",
       "    </tr>\n",
       "    <tr>\n",
       "      <th>4</th>\n",
       "      <td>41</td>\n",
       "      <td>2</td>\n",
       "      <td>1102.0</td>\n",
       "      <td>2</td>\n",
       "      <td>1</td>\n",
       "      <td>2.0</td>\n",
       "      <td>1</td>\n",
       "      <td>2.0</td>\n",
       "      <td>0</td>\n",
       "      <td>94</td>\n",
       "      <td>3.0</td>\n",
       "      <td>7</td>\n",
       "      <td>3</td>\n",
       "      <td>2</td>\n",
       "      <td>5993</td>\n",
       "      <td>19479.0</td>\n",
       "      <td>8.0</td>\n",
       "      <td>1</td>\n",
       "      <td>11</td>\n",
       "      <td>3.0</td>\n",
       "      <td>1.0</td>\n",
       "      <td>0.0</td>\n",
       "      <td>8.0</td>\n",
       "      <td>0.0</td>\n",
       "      <td>1.0</td>\n",
       "      <td>4.0</td>\n",
       "      <td>0.0</td>\n",
       "      <td>7</td>\n",
       "    </tr>\n",
       "  </tbody>\n",
       "</table>\n",
       "</div>"
      ],
      "text/plain": [
       "   Age  BusinessTravel  DailyRate  Department  DistanceFromHome  Education  \\\n",
       "0   41               2     1102.0           2                 1        2.0   \n",
       "1   41               2     1102.0           2                 1        2.0   \n",
       "2   41               2     1102.0           2                 1        2.0   \n",
       "3   41               2     1102.0           2                 1        2.0   \n",
       "4   41               2     1102.0           2                 1        2.0   \n",
       "\n",
       "   EducationField  EnvironmentSatisfaction  Gender  HourlyRate  \\\n",
       "0               1                      2.0       0          94   \n",
       "1               1                      2.0       0          94   \n",
       "2               1                      2.0       0          94   \n",
       "3               1                      2.0       0          94   \n",
       "4               1                      2.0       0          94   \n",
       "\n",
       "   JobInvolvement  JobRole  JobSatisfaction  MaritalStatus  MonthlyIncome  \\\n",
       "0             3.0        7                3              2           5993   \n",
       "1             3.0        7                3              2           5993   \n",
       "2             3.0        7                3              2           5993   \n",
       "3             3.0        7                3              2           5993   \n",
       "4             3.0        7                3              2           5993   \n",
       "\n",
       "   MonthlyRate  NumCompaniesWorked  OverTime  PercentSalaryHike  \\\n",
       "0      19479.0                 8.0         1                 11   \n",
       "1      19479.0                 4.0         1                 11   \n",
       "2      19479.0                 8.0         1                 11   \n",
       "3      19479.0                 4.0         1                 11   \n",
       "4      19479.0                 8.0         1                 11   \n",
       "\n",
       "   PerformanceRating  RelationshipSatisfaction  StockOptionLevel  \\\n",
       "0                3.0                       1.0               0.0   \n",
       "1                3.0                       1.0               0.0   \n",
       "2                3.0                       1.0               0.0   \n",
       "3                3.0                       1.0               0.0   \n",
       "4                3.0                       1.0               0.0   \n",
       "\n",
       "   TotalWorkingYears  TrainingTimesLastYear  WorkLifeBalance  \\\n",
       "0                8.0                    0.0              1.0   \n",
       "1                8.0                    0.0              1.0   \n",
       "2                8.0                    0.0              1.0   \n",
       "3                8.0                    0.0              1.0   \n",
       "4                8.0                    0.0              1.0   \n",
       "\n",
       "   YearsInCurrentRole  YearsSinceLastPromotion  Employee Source  \n",
       "0                 4.0                      0.0                7  \n",
       "1                 4.0                      0.0                7  \n",
       "2                 4.0                      0.0                7  \n",
       "3                 4.0                      0.0                7  \n",
       "4                 4.0                      0.0                7  "
      ]
     },
     "execution_count": 65,
     "metadata": {},
     "output_type": "execute_result"
    }
   ],
   "source": [
    "X = data_attrition.loc[:,data_attrition.columns != 'Attrition']\n",
    "X.head()"
   ]
  },
  {
   "cell_type": "markdown",
   "metadata": {},
   "source": [
    "### Defining Target Variable"
   ]
  },
  {
   "cell_type": "code",
   "execution_count": 66,
   "metadata": {},
   "outputs": [
    {
     "data": {
      "text/html": [
       "<div>\n",
       "<style scoped>\n",
       "    .dataframe tbody tr th:only-of-type {\n",
       "        vertical-align: middle;\n",
       "    }\n",
       "\n",
       "    .dataframe tbody tr th {\n",
       "        vertical-align: top;\n",
       "    }\n",
       "\n",
       "    .dataframe thead th {\n",
       "        text-align: right;\n",
       "    }\n",
       "</style>\n",
       "<table border=\"1\" class=\"dataframe\">\n",
       "  <thead>\n",
       "    <tr style=\"text-align: right;\">\n",
       "      <th></th>\n",
       "      <th>Attrition</th>\n",
       "    </tr>\n",
       "  </thead>\n",
       "  <tbody>\n",
       "    <tr>\n",
       "      <th>0</th>\n",
       "      <td>1</td>\n",
       "    </tr>\n",
       "    <tr>\n",
       "      <th>1</th>\n",
       "      <td>1</td>\n",
       "    </tr>\n",
       "    <tr>\n",
       "      <th>2</th>\n",
       "      <td>1</td>\n",
       "    </tr>\n",
       "    <tr>\n",
       "      <th>3</th>\n",
       "      <td>1</td>\n",
       "    </tr>\n",
       "    <tr>\n",
       "      <th>4</th>\n",
       "      <td>1</td>\n",
       "    </tr>\n",
       "  </tbody>\n",
       "</table>\n",
       "</div>"
      ],
      "text/plain": [
       "   Attrition\n",
       "0          1\n",
       "1          1\n",
       "2          1\n",
       "3          1\n",
       "4          1"
      ]
     },
     "execution_count": 66,
     "metadata": {},
     "output_type": "execute_result"
    }
   ],
   "source": [
    "y = data_attrition.loc[:,data_attrition.columns == 'Attrition']\n",
    "y.head()"
   ]
  },
  {
   "cell_type": "markdown",
   "metadata": {},
   "source": [
    "### Splitting main dataset into train and test data"
   ]
  },
  {
   "cell_type": "code",
   "execution_count": 70,
   "metadata": {},
   "outputs": [],
   "source": [
    "from sklearn.model_selection import train_test_split\n",
    "X_train, X_test, y_train, y_test = train_test_split(X, y, test_size=0.20, random_state=1)"
   ]
  },
  {
   "cell_type": "code",
   "execution_count": 71,
   "metadata": {},
   "outputs": [
    {
     "name": "stdout",
     "output_type": "stream",
     "text": [
      "(18552, 28)\n",
      "(18552, 1)\n"
     ]
    }
   ],
   "source": [
    "print(X_train.shape) # Number of X_train rows and cols\n",
    "print(y_train.shape)"
   ]
  },
  {
   "cell_type": "code",
   "execution_count": 72,
   "metadata": {},
   "outputs": [
    {
     "name": "stdout",
     "output_type": "stream",
     "text": [
      "(4638, 28)\n",
      "(4638, 1)\n"
     ]
    }
   ],
   "source": [
    "print(X_test.shape) # Number of X_test rows and cols\n",
    "print(y_test.shape)"
   ]
  },
  {
   "cell_type": "code",
   "execution_count": 73,
   "metadata": {},
   "outputs": [
    {
     "data": {
      "text/html": [
       "<div>\n",
       "<style scoped>\n",
       "    .dataframe tbody tr th:only-of-type {\n",
       "        vertical-align: middle;\n",
       "    }\n",
       "\n",
       "    .dataframe tbody tr th {\n",
       "        vertical-align: top;\n",
       "    }\n",
       "\n",
       "    .dataframe thead th {\n",
       "        text-align: right;\n",
       "    }\n",
       "</style>\n",
       "<table border=\"1\" class=\"dataframe\">\n",
       "  <thead>\n",
       "    <tr style=\"text-align: right;\">\n",
       "      <th></th>\n",
       "      <th>Attrition</th>\n",
       "    </tr>\n",
       "  </thead>\n",
       "  <tbody>\n",
       "    <tr>\n",
       "      <th>19930</th>\n",
       "      <td>0</td>\n",
       "    </tr>\n",
       "    <tr>\n",
       "      <th>17920</th>\n",
       "      <td>0</td>\n",
       "    </tr>\n",
       "    <tr>\n",
       "      <th>19610</th>\n",
       "      <td>0</td>\n",
       "    </tr>\n",
       "    <tr>\n",
       "      <th>22767</th>\n",
       "      <td>0</td>\n",
       "    </tr>\n",
       "    <tr>\n",
       "      <th>892</th>\n",
       "      <td>0</td>\n",
       "    </tr>\n",
       "    <tr>\n",
       "      <th>...</th>\n",
       "      <td>...</td>\n",
       "    </tr>\n",
       "    <tr>\n",
       "      <th>9995</th>\n",
       "      <td>0</td>\n",
       "    </tr>\n",
       "    <tr>\n",
       "      <th>14867</th>\n",
       "      <td>0</td>\n",
       "    </tr>\n",
       "    <tr>\n",
       "      <th>7352</th>\n",
       "      <td>0</td>\n",
       "    </tr>\n",
       "    <tr>\n",
       "      <th>10030</th>\n",
       "      <td>0</td>\n",
       "    </tr>\n",
       "    <tr>\n",
       "      <th>9858</th>\n",
       "      <td>0</td>\n",
       "    </tr>\n",
       "  </tbody>\n",
       "</table>\n",
       "<p>4638 rows × 1 columns</p>\n",
       "</div>"
      ],
      "text/plain": [
       "       Attrition\n",
       "19930          0\n",
       "17920          0\n",
       "19610          0\n",
       "22767          0\n",
       "892            0\n",
       "...          ...\n",
       "9995           0\n",
       "14867          0\n",
       "7352           0\n",
       "10030          0\n",
       "9858           0\n",
       "\n",
       "[4638 rows x 1 columns]"
      ]
     },
     "execution_count": 73,
     "metadata": {},
     "output_type": "execute_result"
    }
   ],
   "source": [
    "y_test # Preview of y_test"
   ]
  },
  {
   "cell_type": "markdown",
   "metadata": {},
   "source": [
    "## Building Models:\n",
    "### Logistic Regression"
   ]
  },
  {
   "cell_type": "code",
   "execution_count": 74,
   "metadata": {},
   "outputs": [
    {
     "data": {
      "text/plain": [
       "LogisticRegression()"
      ]
     },
     "execution_count": 74,
     "metadata": {},
     "output_type": "execute_result"
    }
   ],
   "source": [
    "from sklearn.linear_model import LogisticRegression\n",
    "logreg = LogisticRegression()\n",
    "logreg.fit(X_train,y_train)"
   ]
  },
  {
   "cell_type": "markdown",
   "metadata": {},
   "source": [
    "### Using the Model for Prediction"
   ]
  },
  {
   "cell_type": "code",
   "execution_count": 75,
   "metadata": {},
   "outputs": [],
   "source": [
    "y_pred_train_lr = logreg.predict(X_train) "
   ]
  },
  {
   "cell_type": "code",
   "execution_count": 76,
   "metadata": {},
   "outputs": [
    {
     "data": {
      "text/plain": [
       "array([0, 0, 0, ..., 0, 0, 0])"
      ]
     },
     "execution_count": 76,
     "metadata": {},
     "output_type": "execute_result"
    }
   ],
   "source": [
    "y_pred_train_lr"
   ]
  },
  {
   "cell_type": "code",
   "execution_count": 77,
   "metadata": {},
   "outputs": [],
   "source": [
    "y_pred_test_lr = logreg.predict(X_test) "
   ]
  },
  {
   "cell_type": "code",
   "execution_count": 78,
   "metadata": {},
   "outputs": [
    {
     "data": {
      "text/plain": [
       "array([0, 0, 0, ..., 0, 0, 0])"
      ]
     },
     "execution_count": 78,
     "metadata": {},
     "output_type": "execute_result"
    }
   ],
   "source": [
    "y_pred_test_lr"
   ]
  },
  {
   "cell_type": "markdown",
   "metadata": {},
   "source": [
    "### Model evaluation"
   ]
  },
  {
   "cell_type": "code",
   "execution_count": 79,
   "metadata": {},
   "outputs": [],
   "source": [
    "\n",
    "def classification_model_evaluation(y, y_pred, set_type=''):\n",
    "    '''\n",
    "    Utility/Helper method to calulate the Evaluation parameters for a classification model\n",
    "    '''\n",
    "    from sklearn import metrics # Importing metrics from SK-Learn\n",
    "    result = {}\n",
    "    \n",
    "    if set_type != '':\n",
    "        set_type = '_'+set_type\n",
    "        \n",
    "    # Accuracy score for train data set.\n",
    "    result['Accuracy Score'] = metrics.accuracy_score(y, y_pred) \n",
    "    # Recall score for test data set.\n",
    "    result['Recall Score'] = metrics.recall_score(y, y_pred)  \n",
    "    # Precision score for test data set.\n",
    "    result['Precision Score'] = metrics.precision_score(y, y_pred)                    \n",
    "    # F1 score for test data set.\n",
    "    result['F1 score'] = metrics.f1_score(y, y_pred)      \n",
    "    # AUC score for test data set.\n",
    "    result['AUC'] = metrics.roc_auc_score(y, y_pred)  \n",
    "\n",
    "    # Returning with appending type to key and rounding value \n",
    "    return {f'{k}'+set_type: round(v, 4) for k, v in result.items()}"
   ]
  },
  {
   "cell_type": "code",
   "execution_count": 80,
   "metadata": {},
   "outputs": [
    {
     "name": "stdout",
     "output_type": "stream",
     "text": [
      "Metrics for test data :  {'Accuracy Score': 0.8357, 'Recall Score': 0.0, 'Precision Score': 0.0, 'F1 score': 0.0, 'AUC': 0.5}\n"
     ]
    }
   ],
   "source": [
    "metrics_lr_test = classification_model_evaluation(y_test,y_pred_test_lr)\n",
    "print('Metrics for test data : ', metrics_lr_test)"
   ]
  },
  {
   "cell_type": "code",
   "execution_count": 82,
   "metadata": {},
   "outputs": [
    {
     "name": "stdout",
     "output_type": "stream",
     "text": [
      "Metrics for train data :  {'Accuracy Score': 0.8436, 'Recall Score': 0.0, 'Precision Score': 0.0, 'F1 score': 0.0, 'AUC': 0.5}\n"
     ]
    }
   ],
   "source": [
    "metrics_lr_train = classification_model_evaluation(y_train,y_pred_train_lr)\n",
    "print('Metrics for train data : ', metrics_lr_train)"
   ]
  },
  {
   "cell_type": "code",
   "execution_count": 83,
   "metadata": {},
   "outputs": [],
   "source": [
    "# Converting metrics map to DataFrame\n",
    "df_train_mertrics_lr = pd.DataFrame(metrics_lr_train.items(), columns=['Metrics', 'LogisticRegression'])\n",
    "df_test_mertrics_lr = pd.DataFrame(metrics_lr_test.items(), columns=['Metrics', 'LogisticRegression'])"
   ]
  },
  {
   "cell_type": "markdown",
   "metadata": {},
   "source": [
    "### Decision Trees"
   ]
  },
  {
   "cell_type": "code",
   "execution_count": 84,
   "metadata": {},
   "outputs": [
    {
     "data": {
      "text/plain": [
       "DecisionTreeClassifier(random_state=0)"
      ]
     },
     "execution_count": 84,
     "metadata": {},
     "output_type": "execute_result"
    }
   ],
   "source": [
    "from sklearn import tree\n",
    "model = tree.DecisionTreeClassifier(criterion='gini', random_state = 0)\n",
    "model.fit(X_train, y_train)"
   ]
  },
  {
   "cell_type": "markdown",
   "metadata": {},
   "source": [
    "### Using the Model for Prediction"
   ]
  },
  {
   "cell_type": "code",
   "execution_count": 85,
   "metadata": {},
   "outputs": [],
   "source": [
    "y_pred_train_dt = model.predict(X_train)  "
   ]
  },
  {
   "cell_type": "code",
   "execution_count": 86,
   "metadata": {},
   "outputs": [],
   "source": [
    "y_pred_test_dt = model.predict(X_test) "
   ]
  },
  {
   "cell_type": "markdown",
   "metadata": {},
   "source": [
    "### Model Evaluation using scores"
   ]
  },
  {
   "cell_type": "code",
   "execution_count": 87,
   "metadata": {},
   "outputs": [
    {
     "name": "stdout",
     "output_type": "stream",
     "text": [
      "Metrics for test data :  {'Accuracy Score': 0.9972, 'Recall Score': 0.9895, 'Precision Score': 0.9934, 'F1 score': 0.9915, 'AUC': 0.9941}\n"
     ]
    }
   ],
   "source": [
    "metrics_dt_test = classification_model_evaluation(y_test,y_pred_test_dt)\n",
    "print('Metrics for test data : ', metrics_dt_test)"
   ]
  },
  {
   "cell_type": "code",
   "execution_count": 88,
   "metadata": {},
   "outputs": [
    {
     "name": "stdout",
     "output_type": "stream",
     "text": [
      "Metrics for train data :  {'Accuracy Score': 1.0, 'Recall Score': 1.0, 'Precision Score': 1.0, 'F1 score': 1.0, 'AUC': 1.0}\n"
     ]
    }
   ],
   "source": [
    "metrics_dt_train = classification_model_evaluation(y_train,y_pred_train_dt)\n",
    "print('Metrics for train data : ', metrics_dt_train)"
   ]
  },
  {
   "cell_type": "code",
   "execution_count": 89,
   "metadata": {},
   "outputs": [
    {
     "name": "stdout",
     "output_type": "stream",
     "text": [
      "                 Predicted Left  Predicted Not Left\n",
      "Actual Left                3871                   5\n",
      "Actual Not Left               8                 754\n"
     ]
    }
   ],
   "source": [
    "from sklearn.metrics import confusion_matrix\n",
    "\n",
    "confusion_matrix = pd.DataFrame(confusion_matrix(y_test, y_pred_test_dt))\n",
    "\n",
    "confusion_matrix.index = ['Actual Left','Actual Not Left']\n",
    "confusion_matrix.columns = ['Predicted Left','Predicted Not Left']\n",
    "print(confusion_matrix)"
   ]
  },
  {
   "cell_type": "code",
   "execution_count": 90,
   "metadata": {},
   "outputs": [
    {
     "data": {
      "text/plain": [
       "0.8357050452781372"
      ]
     },
     "execution_count": 90,
     "metadata": {},
     "output_type": "execute_result"
    }
   ],
   "source": [
    "from sklearn.metrics import accuracy_score\n",
    "accuracy = (3872+751) / (3872+4+11+751)\n",
    "accuracy = metrics.accuracy_score(y_test, y_pred_test_lr)\n",
    "accuracy"
   ]
  },
  {
   "cell_type": "code",
   "execution_count": 91,
   "metadata": {},
   "outputs": [],
   "source": [
    "# Converting metrics map to DataFrame\n",
    "df_train_mertrics_dt = pd.DataFrame(metrics_dt_train.items(), columns=['Metrics', 'DecisionTreeClassifier'])\n",
    "df_test_mertrics_dt = pd.DataFrame(metrics_dt_test.items(), columns=['Metrics', 'DecisionTreeClassifier'])"
   ]
  },
  {
   "cell_type": "markdown",
   "metadata": {},
   "source": [
    "### Random Forest"
   ]
  },
  {
   "cell_type": "code",
   "execution_count": 92,
   "metadata": {},
   "outputs": [
    {
     "name": "stdout",
     "output_type": "stream",
     "text": [
      "1.9283051490783691\n"
     ]
    }
   ],
   "source": [
    "import time\n",
    "from sklearn.ensemble import RandomForestClassifier\n",
    "rfc = RandomForestClassifier(random_state =0) # load\n",
    "start_time = time.time()\n",
    "rfc.fit(X_train,y_train) # fit\n",
    "end_time = time.time()\n",
    "time1 = end_time-start_time\n",
    "print(time1)"
   ]
  },
  {
   "cell_type": "markdown",
   "metadata": {},
   "source": [
    "### Using the Model for Prediction"
   ]
  },
  {
   "cell_type": "code",
   "execution_count": 93,
   "metadata": {},
   "outputs": [],
   "source": [
    "y_pred_train_rf = rfc.predict(X_train)"
   ]
  },
  {
   "cell_type": "code",
   "execution_count": 94,
   "metadata": {},
   "outputs": [],
   "source": [
    "y_pred_test_rf = rfc.predict(X_test)"
   ]
  },
  {
   "cell_type": "code",
   "execution_count": 95,
   "metadata": {},
   "outputs": [
    {
     "data": {
      "text/plain": [
       "array([0, 0, 0, ..., 0, 0, 0])"
      ]
     },
     "execution_count": 95,
     "metadata": {},
     "output_type": "execute_result"
    }
   ],
   "source": [
    "y_pred_test_rf"
   ]
  },
  {
   "cell_type": "code",
   "execution_count": 96,
   "metadata": {},
   "outputs": [
    {
     "name": "stdout",
     "output_type": "stream",
     "text": [
      "Metrics for test data :  {'Accuracy Score': 0.997, 'Recall Score': 0.9829, 'Precision Score': 0.9987, 'F1 score': 0.9907, 'AUC': 0.9913}\n"
     ]
    }
   ],
   "source": [
    "metrics_rf_test = classification_model_evaluation(y_test,y_pred_test_rf)\n",
    "print('Metrics for test data : ', metrics_rf_test)"
   ]
  },
  {
   "cell_type": "code",
   "execution_count": 97,
   "metadata": {},
   "outputs": [
    {
     "name": "stdout",
     "output_type": "stream",
     "text": [
      "Metrics for train data :  {'Accuracy Score': 1.0, 'Recall Score': 1.0, 'Precision Score': 1.0, 'F1 score': 1.0, 'AUC': 1.0}\n"
     ]
    }
   ],
   "source": [
    "metrics_rf_train = classification_model_evaluation(y_train,y_pred_train_rf)\n",
    "print('Metrics for train data : ', metrics_rf_train)"
   ]
  },
  {
   "cell_type": "code",
   "execution_count": 98,
   "metadata": {},
   "outputs": [
    {
     "name": "stdout",
     "output_type": "stream",
     "text": [
      "Confusion Matrix for Logistic Regression Model is : \n",
      " [[3876    0]\n",
      " [ 762    0]]\n",
      "Confusion Matrix for Decision Tree Model is : \n",
      " [[3871    5]\n",
      " [   8  754]]\n",
      "Confusion Matrix for Random Forest Model is : \n",
      " [[3875    1]\n",
      " [  13  749]]\n"
     ]
    }
   ],
   "source": [
    "\n",
    "from sklearn.metrics import confusion_matrix\n",
    "print('Confusion Matrix for Logistic Regression Model is : \\n', confusion_matrix(y_test, y_pred_test_lr))\n",
    "print('Confusion Matrix for Decision Tree Model is : \\n', confusion_matrix(y_test, y_pred_test_dt))\n",
    "print('Confusion Matrix for Random Forest Model is : \\n', confusion_matrix(y_test, y_pred_test_rf))"
   ]
  },
  {
   "cell_type": "code",
   "execution_count": 99,
   "metadata": {},
   "outputs": [],
   "source": [
    "# Converting metrics map to DataFrame\n",
    "df_train_mertrics_rf = pd.DataFrame(metrics_rf_train.items(), columns=['Metrics', 'RandomForestClassifier'])\n",
    "df_test_mertrics_rf = pd.DataFrame(metrics_rf_test.items(), columns=['Metrics', 'RandomForestClassifier'])"
   ]
  },
  {
   "cell_type": "markdown",
   "metadata": {},
   "source": [
    "### Hyper Parameter Tuning"
   ]
  },
  {
   "cell_type": "code",
   "execution_count": 100,
   "metadata": {},
   "outputs": [
    {
     "data": {
      "text/plain": [
       "GridSearchCV(cv=10, estimator=DecisionTreeClassifier(random_state=0),\n",
       "             param_grid=[{'criterion': ['gini', 'entropy'],\n",
       "                          'max_depth': range(2, 60),\n",
       "                          'max_features': ['sqrt', 'log2', None]}],\n",
       "             refit='AUC')"
      ]
     },
     "execution_count": 100,
     "metadata": {},
     "output_type": "execute_result"
    }
   ],
   "source": [
    "from sklearn.tree import DecisionTreeClassifier\n",
    "from sklearn.model_selection import GridSearchCV\n",
    "\n",
    "decision_tree_classifier = DecisionTreeClassifier(random_state = 0)\n",
    "\n",
    "\n",
    "tree_para = [{'criterion':['gini','entropy'],'max_depth': range(2,60),\n",
    "                             'max_features': ['sqrt', 'log2', None] }]\n",
    "                            \n",
    "                            \n",
    "\n",
    "grid_search = GridSearchCV(decision_tree_classifier,tree_para, cv=10, refit='AUC')\n",
    "grid_search.fit(X_train, y_train)"
   ]
  },
  {
   "cell_type": "code",
   "execution_count": 101,
   "metadata": {},
   "outputs": [
    {
     "data": {
      "text/plain": [
       "array([0, 0, 0, ..., 0, 0, 0])"
      ]
     },
     "execution_count": 101,
     "metadata": {},
     "output_type": "execute_result"
    }
   ],
   "source": [
    "y_pred_train_dt_CV = grid_search.predict(X_train)\n",
    "y_pred_train_dt_CV"
   ]
  },
  {
   "cell_type": "code",
   "execution_count": 102,
   "metadata": {},
   "outputs": [
    {
     "data": {
      "text/plain": [
       "array([0, 0, 0, ..., 0, 0, 0])"
      ]
     },
     "execution_count": 102,
     "metadata": {},
     "output_type": "execute_result"
    }
   ],
   "source": [
    "y_pred_test_dt_CV = grid_search.predict(X_test)\n",
    "y_pred_test_dt_CV"
   ]
  },
  {
   "cell_type": "code",
   "execution_count": 107,
   "metadata": {},
   "outputs": [
    {
     "name": "stdout",
     "output_type": "stream",
     "text": [
      "Metrics for test data :  {'Accuracy Score': 0.9961, 'Recall Score': 0.9895, 'Precision Score': 0.9869, 'F1 score': 0.9882, 'AUC': 0.9935}\n"
     ]
    }
   ],
   "source": [
    "metrics_dt_test_CV = classification_model_evaluation(y_test,y_pred_test_dt_CV)\n",
    "print('Metrics for test data : ', metrics_dt_test_CV)"
   ]
  },
  {
   "cell_type": "code",
   "execution_count": 108,
   "metadata": {},
   "outputs": [
    {
     "name": "stdout",
     "output_type": "stream",
     "text": [
      "Metrics for test data  CV:  {'Accuracy Score': 1.0, 'Recall Score': 1.0, 'Precision Score': 1.0, 'F1 score': 1.0, 'AUC': 1.0}\n"
     ]
    }
   ],
   "source": [
    "metrics_dt_train_CV = classification_model_evaluation(y_train,y_pred_train_dt_CV)\n",
    "print('Metrics for test data  CV: ', metrics_dt_train_CV)"
   ]
  },
  {
   "cell_type": "code",
   "execution_count": 109,
   "metadata": {},
   "outputs": [],
   "source": [
    "# Converting metrics map to DataFrame\n",
    "df_train_mertrics_dt_CV = pd.DataFrame(metrics_dt_train_CV.items(), columns=['Metrics', 'DecisionTreeClassifier_Grid_CV'])\n",
    "df_test_mertrics_dt_CV = pd.DataFrame(metrics_dt_test_CV.items(), columns=['Metrics', 'DecisionTreeClassifier_Grid_CV'])"
   ]
  },
  {
   "cell_type": "code",
   "execution_count": 110,
   "metadata": {},
   "outputs": [
    {
     "data": {
      "text/html": [
       "<div>\n",
       "<style scoped>\n",
       "    .dataframe tbody tr th:only-of-type {\n",
       "        vertical-align: middle;\n",
       "    }\n",
       "\n",
       "    .dataframe tbody tr th {\n",
       "        vertical-align: top;\n",
       "    }\n",
       "\n",
       "    .dataframe thead th {\n",
       "        text-align: right;\n",
       "    }\n",
       "</style>\n",
       "<table border=\"1\" class=\"dataframe\">\n",
       "  <thead>\n",
       "    <tr style=\"text-align: right;\">\n",
       "      <th>Metrics</th>\n",
       "      <th>Accuracy Score</th>\n",
       "      <th>Recall Score</th>\n",
       "      <th>Precision Score</th>\n",
       "      <th>F1 score</th>\n",
       "      <th>AUC</th>\n",
       "    </tr>\n",
       "  </thead>\n",
       "  <tbody>\n",
       "    <tr>\n",
       "      <th>LogisticRegression</th>\n",
       "      <td>0.8357</td>\n",
       "      <td>0.0000</td>\n",
       "      <td>0.0000</td>\n",
       "      <td>0.0000</td>\n",
       "      <td>0.5000</td>\n",
       "    </tr>\n",
       "    <tr>\n",
       "      <th>DecisionTreeClassifier</th>\n",
       "      <td>0.9972</td>\n",
       "      <td>0.9895</td>\n",
       "      <td>0.9934</td>\n",
       "      <td>0.9915</td>\n",
       "      <td>0.9941</td>\n",
       "    </tr>\n",
       "    <tr>\n",
       "      <th>RandomForestClassifier</th>\n",
       "      <td>0.9970</td>\n",
       "      <td>0.9829</td>\n",
       "      <td>0.9987</td>\n",
       "      <td>0.9907</td>\n",
       "      <td>0.9913</td>\n",
       "    </tr>\n",
       "    <tr>\n",
       "      <th>DecisionTreeClassifier_Grid_CV</th>\n",
       "      <td>0.9961</td>\n",
       "      <td>0.9895</td>\n",
       "      <td>0.9869</td>\n",
       "      <td>0.9882</td>\n",
       "      <td>0.9935</td>\n",
       "    </tr>\n",
       "  </tbody>\n",
       "</table>\n",
       "</div>"
      ],
      "text/plain": [
       "Metrics                         Accuracy Score  Recall Score  Precision Score  \\\n",
       "LogisticRegression                      0.8357        0.0000           0.0000   \n",
       "DecisionTreeClassifier                  0.9972        0.9895           0.9934   \n",
       "RandomForestClassifier                  0.9970        0.9829           0.9987   \n",
       "DecisionTreeClassifier_Grid_CV          0.9961        0.9895           0.9869   \n",
       "\n",
       "Metrics                         F1 score     AUC  \n",
       "LogisticRegression                0.0000  0.5000  \n",
       "DecisionTreeClassifier            0.9915  0.9941  \n",
       "RandomForestClassifier            0.9907  0.9913  \n",
       "DecisionTreeClassifier_Grid_CV    0.9882  0.9935  "
      ]
     },
     "execution_count": 110,
     "metadata": {},
     "output_type": "execute_result"
    }
   ],
   "source": [
    "# Merginf Test metrics df\n",
    "test_mertrics = df_test_mertrics_lr.merge(df_test_mertrics_dt, on='Metrics').merge(\n",
    "                    df_test_mertrics_rf, on='Metrics').merge(\n",
    "                    df_test_mertrics_dt_CV, on='Metrics').set_index(keys='Metrics').transpose()\n",
    "test_mertrics"
   ]
  },
  {
   "cell_type": "code",
   "execution_count": 111,
   "metadata": {},
   "outputs": [
    {
     "data": {
      "text/html": [
       "<div>\n",
       "<style scoped>\n",
       "    .dataframe tbody tr th:only-of-type {\n",
       "        vertical-align: middle;\n",
       "    }\n",
       "\n",
       "    .dataframe tbody tr th {\n",
       "        vertical-align: top;\n",
       "    }\n",
       "\n",
       "    .dataframe thead th {\n",
       "        text-align: right;\n",
       "    }\n",
       "</style>\n",
       "<table border=\"1\" class=\"dataframe\">\n",
       "  <thead>\n",
       "    <tr style=\"text-align: right;\">\n",
       "      <th>Metrics</th>\n",
       "      <th>Accuracy Score</th>\n",
       "      <th>Recall Score</th>\n",
       "      <th>Precision Score</th>\n",
       "      <th>F1 score</th>\n",
       "      <th>AUC</th>\n",
       "    </tr>\n",
       "  </thead>\n",
       "  <tbody>\n",
       "    <tr>\n",
       "      <th>LogisticRegression</th>\n",
       "      <td>0.8436</td>\n",
       "      <td>0.0</td>\n",
       "      <td>0.0</td>\n",
       "      <td>0.0</td>\n",
       "      <td>0.5</td>\n",
       "    </tr>\n",
       "    <tr>\n",
       "      <th>DecisionTreeClassifier</th>\n",
       "      <td>1.0000</td>\n",
       "      <td>1.0</td>\n",
       "      <td>1.0</td>\n",
       "      <td>1.0</td>\n",
       "      <td>1.0</td>\n",
       "    </tr>\n",
       "    <tr>\n",
       "      <th>RandomForestClassifier</th>\n",
       "      <td>1.0000</td>\n",
       "      <td>1.0</td>\n",
       "      <td>1.0</td>\n",
       "      <td>1.0</td>\n",
       "      <td>1.0</td>\n",
       "    </tr>\n",
       "    <tr>\n",
       "      <th>DecisionTreeClassifier_Grid_CV</th>\n",
       "      <td>1.0000</td>\n",
       "      <td>1.0</td>\n",
       "      <td>1.0</td>\n",
       "      <td>1.0</td>\n",
       "      <td>1.0</td>\n",
       "    </tr>\n",
       "  </tbody>\n",
       "</table>\n",
       "</div>"
      ],
      "text/plain": [
       "Metrics                         Accuracy Score  Recall Score  Precision Score  \\\n",
       "LogisticRegression                      0.8436           0.0              0.0   \n",
       "DecisionTreeClassifier                  1.0000           1.0              1.0   \n",
       "RandomForestClassifier                  1.0000           1.0              1.0   \n",
       "DecisionTreeClassifier_Grid_CV          1.0000           1.0              1.0   \n",
       "\n",
       "Metrics                         F1 score  AUC  \n",
       "LogisticRegression                   0.0  0.5  \n",
       "DecisionTreeClassifier               1.0  1.0  \n",
       "RandomForestClassifier               1.0  1.0  \n",
       "DecisionTreeClassifier_Grid_CV       1.0  1.0  "
      ]
     },
     "execution_count": 111,
     "metadata": {},
     "output_type": "execute_result"
    }
   ],
   "source": [
    "# Merginf Train metrics df\n",
    "train_mertrics = df_train_mertrics_lr.merge(df_train_mertrics_dt, on='Metrics').merge(\n",
    "                    df_train_mertrics_rf, on='Metrics').merge(\n",
    "                    df_train_mertrics_dt_CV, on='Metrics').set_index(keys='Metrics').transpose()\n",
    "train_mertrics"
   ]
  },
  {
   "cell_type": "markdown",
   "metadata": {},
   "source": [
    "### Conclusions:"
   ]
  },
  {
   "cell_type": "markdown",
   "metadata": {},
   "source": [
    "###### 1. RandomForestClassifier is the best-fit model with accuracy score of 0.9972 and precision score of 0.9987 and good Recall Score of 98.56%\n",
    "###### 2. DecisionTreeClassifier and RandomForestClassifier are marginally overfitted model.\n",
    "###### 3. Hyperparameter tuning slightly increases the Recall and F1 scores. Since the model is  99% accurate, there is not much need of tuning.\n",
    "###### 4. Variables with high colinearity were systematically dropped and found to have no affect on the model hence to economise resources, such                     variables have been dropped from the model.\n",
    "##### 5. It is suggested to have the prediction modelling done on some more data.\n",
    "        "
   ]
  }
 ],
 "metadata": {
  "kernelspec": {
   "display_name": "Python 3",
   "language": "python",
   "name": "python3"
  },
  "language_info": {
   "codemirror_mode": {
    "name": "ipython",
    "version": 3
   },
   "file_extension": ".py",
   "mimetype": "text/x-python",
   "name": "python",
   "nbconvert_exporter": "python",
   "pygments_lexer": "ipython3",
   "version": "3.7.3"
  }
 },
 "nbformat": 4,
 "nbformat_minor": 2
}
